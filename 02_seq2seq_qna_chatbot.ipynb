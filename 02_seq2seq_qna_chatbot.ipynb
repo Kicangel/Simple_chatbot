{
  "cells": [
    {
      "cell_type": "markdown",
      "id": "a5579de7",
      "metadata": {
        "id": "a5579de7"
      },
      "source": [
        "#### Seq2Seq Q&A Chatbot 구현"
      ]
    },
    {
      "cell_type": "markdown",
      "id": "0d435652",
      "metadata": {
        "id": "0d435652"
      },
      "source": [
        "##### 데이터 취득"
      ]
    },
    {
      "cell_type": "code",
      "execution_count": 2,
      "id": "7116631f",
      "metadata": {
        "id": "7116631f"
      },
      "outputs": [],
      "source": [
        "import numpy as np\n",
        "import pandas as pd\n",
        "\n",
        "df = pd.read_csv('https://raw.githubusercontent.com/songys/Chatbot_data/refs/heads/master/ChatbotData.csv')\n",
        "df = df[['Q', 'A']]"
      ]
    },
    {
      "cell_type": "code",
      "execution_count": 3,
      "id": "873e8820",
      "metadata": {
        "colab": {
          "base_uri": "https://localhost:8080/",
          "height": 423
        },
        "id": "873e8820",
        "outputId": "9fc49604-5821-4219-e4f1-18effd66fbb2"
      },
      "outputs": [
        {
          "output_type": "execute_result",
          "data": {
            "text/plain": [
              "                             Q                         A\n",
              "0                       12시 땡!                하루가 또 가네요.\n",
              "1                  1지망 학교 떨어졌어                 위로해 드립니다.\n",
              "2                 3박4일 놀러가고 싶다               여행은 언제나 좋죠.\n",
              "3              3박4일 정도 놀러가고 싶다               여행은 언제나 좋죠.\n",
              "4                      PPL 심하네                눈살이 찌푸려지죠.\n",
              "...                        ...                       ...\n",
              "11818           훔쳐보는 것도 눈치 보임.        티가 나니까 눈치가 보이는 거죠!\n",
              "11819           훔쳐보는 것도 눈치 보임.             훔쳐보는 거 티나나봐요.\n",
              "11820              흑기사 해주는 짝남.                    설렜겠어요.\n",
              "11821  힘든 연애 좋은 연애라는게 무슨 차이일까?  잘 헤어질 수 있는 사이 여부인 거 같아요.\n",
              "11822               힘들어서 결혼할까봐        도피성 결혼은 하지 않길 바라요.\n",
              "\n",
              "[11823 rows x 2 columns]"
            ],
            "text/html": [
              "\n",
              "  <div id=\"df-a4af7c98-59f8-439b-9e84-64639fca9519\" class=\"colab-df-container\">\n",
              "    <div>\n",
              "<style scoped>\n",
              "    .dataframe tbody tr th:only-of-type {\n",
              "        vertical-align: middle;\n",
              "    }\n",
              "\n",
              "    .dataframe tbody tr th {\n",
              "        vertical-align: top;\n",
              "    }\n",
              "\n",
              "    .dataframe thead th {\n",
              "        text-align: right;\n",
              "    }\n",
              "</style>\n",
              "<table border=\"1\" class=\"dataframe\">\n",
              "  <thead>\n",
              "    <tr style=\"text-align: right;\">\n",
              "      <th></th>\n",
              "      <th>Q</th>\n",
              "      <th>A</th>\n",
              "    </tr>\n",
              "  </thead>\n",
              "  <tbody>\n",
              "    <tr>\n",
              "      <th>0</th>\n",
              "      <td>12시 땡!</td>\n",
              "      <td>하루가 또 가네요.</td>\n",
              "    </tr>\n",
              "    <tr>\n",
              "      <th>1</th>\n",
              "      <td>1지망 학교 떨어졌어</td>\n",
              "      <td>위로해 드립니다.</td>\n",
              "    </tr>\n",
              "    <tr>\n",
              "      <th>2</th>\n",
              "      <td>3박4일 놀러가고 싶다</td>\n",
              "      <td>여행은 언제나 좋죠.</td>\n",
              "    </tr>\n",
              "    <tr>\n",
              "      <th>3</th>\n",
              "      <td>3박4일 정도 놀러가고 싶다</td>\n",
              "      <td>여행은 언제나 좋죠.</td>\n",
              "    </tr>\n",
              "    <tr>\n",
              "      <th>4</th>\n",
              "      <td>PPL 심하네</td>\n",
              "      <td>눈살이 찌푸려지죠.</td>\n",
              "    </tr>\n",
              "    <tr>\n",
              "      <th>...</th>\n",
              "      <td>...</td>\n",
              "      <td>...</td>\n",
              "    </tr>\n",
              "    <tr>\n",
              "      <th>11818</th>\n",
              "      <td>훔쳐보는 것도 눈치 보임.</td>\n",
              "      <td>티가 나니까 눈치가 보이는 거죠!</td>\n",
              "    </tr>\n",
              "    <tr>\n",
              "      <th>11819</th>\n",
              "      <td>훔쳐보는 것도 눈치 보임.</td>\n",
              "      <td>훔쳐보는 거 티나나봐요.</td>\n",
              "    </tr>\n",
              "    <tr>\n",
              "      <th>11820</th>\n",
              "      <td>흑기사 해주는 짝남.</td>\n",
              "      <td>설렜겠어요.</td>\n",
              "    </tr>\n",
              "    <tr>\n",
              "      <th>11821</th>\n",
              "      <td>힘든 연애 좋은 연애라는게 무슨 차이일까?</td>\n",
              "      <td>잘 헤어질 수 있는 사이 여부인 거 같아요.</td>\n",
              "    </tr>\n",
              "    <tr>\n",
              "      <th>11822</th>\n",
              "      <td>힘들어서 결혼할까봐</td>\n",
              "      <td>도피성 결혼은 하지 않길 바라요.</td>\n",
              "    </tr>\n",
              "  </tbody>\n",
              "</table>\n",
              "<p>11823 rows × 2 columns</p>\n",
              "</div>\n",
              "    <div class=\"colab-df-buttons\">\n",
              "\n",
              "  <div class=\"colab-df-container\">\n",
              "    <button class=\"colab-df-convert\" onclick=\"convertToInteractive('df-a4af7c98-59f8-439b-9e84-64639fca9519')\"\n",
              "            title=\"Convert this dataframe to an interactive table.\"\n",
              "            style=\"display:none;\">\n",
              "\n",
              "  <svg xmlns=\"http://www.w3.org/2000/svg\" height=\"24px\" viewBox=\"0 -960 960 960\">\n",
              "    <path d=\"M120-120v-720h720v720H120Zm60-500h600v-160H180v160Zm220 220h160v-160H400v160Zm0 220h160v-160H400v160ZM180-400h160v-160H180v160Zm440 0h160v-160H620v160ZM180-180h160v-160H180v160Zm440 0h160v-160H620v160Z\"/>\n",
              "  </svg>\n",
              "    </button>\n",
              "\n",
              "  <style>\n",
              "    .colab-df-container {\n",
              "      display:flex;\n",
              "      gap: 12px;\n",
              "    }\n",
              "\n",
              "    .colab-df-convert {\n",
              "      background-color: #E8F0FE;\n",
              "      border: none;\n",
              "      border-radius: 50%;\n",
              "      cursor: pointer;\n",
              "      display: none;\n",
              "      fill: #1967D2;\n",
              "      height: 32px;\n",
              "      padding: 0 0 0 0;\n",
              "      width: 32px;\n",
              "    }\n",
              "\n",
              "    .colab-df-convert:hover {\n",
              "      background-color: #E2EBFA;\n",
              "      box-shadow: 0px 1px 2px rgba(60, 64, 67, 0.3), 0px 1px 3px 1px rgba(60, 64, 67, 0.15);\n",
              "      fill: #174EA6;\n",
              "    }\n",
              "\n",
              "    .colab-df-buttons div {\n",
              "      margin-bottom: 4px;\n",
              "    }\n",
              "\n",
              "    [theme=dark] .colab-df-convert {\n",
              "      background-color: #3B4455;\n",
              "      fill: #D2E3FC;\n",
              "    }\n",
              "\n",
              "    [theme=dark] .colab-df-convert:hover {\n",
              "      background-color: #434B5C;\n",
              "      box-shadow: 0px 1px 3px 1px rgba(0, 0, 0, 0.15);\n",
              "      filter: drop-shadow(0px 1px 2px rgba(0, 0, 0, 0.3));\n",
              "      fill: #FFFFFF;\n",
              "    }\n",
              "  </style>\n",
              "\n",
              "    <script>\n",
              "      const buttonEl =\n",
              "        document.querySelector('#df-a4af7c98-59f8-439b-9e84-64639fca9519 button.colab-df-convert');\n",
              "      buttonEl.style.display =\n",
              "        google.colab.kernel.accessAllowed ? 'block' : 'none';\n",
              "\n",
              "      async function convertToInteractive(key) {\n",
              "        const element = document.querySelector('#df-a4af7c98-59f8-439b-9e84-64639fca9519');\n",
              "        const dataTable =\n",
              "          await google.colab.kernel.invokeFunction('convertToInteractive',\n",
              "                                                    [key], {});\n",
              "        if (!dataTable) return;\n",
              "\n",
              "        const docLinkHtml = 'Like what you see? Visit the ' +\n",
              "          '<a target=\"_blank\" href=https://colab.research.google.com/notebooks/data_table.ipynb>data table notebook</a>'\n",
              "          + ' to learn more about interactive tables.';\n",
              "        element.innerHTML = '';\n",
              "        dataTable['output_type'] = 'display_data';\n",
              "        await google.colab.output.renderOutput(dataTable, element);\n",
              "        const docLink = document.createElement('div');\n",
              "        docLink.innerHTML = docLinkHtml;\n",
              "        element.appendChild(docLink);\n",
              "      }\n",
              "    </script>\n",
              "  </div>\n",
              "\n",
              "\n",
              "    <div id=\"df-2cc4bfed-4505-46bf-98a0-a866b86bd234\">\n",
              "      <button class=\"colab-df-quickchart\" onclick=\"quickchart('df-2cc4bfed-4505-46bf-98a0-a866b86bd234')\"\n",
              "                title=\"Suggest charts\"\n",
              "                style=\"display:none;\">\n",
              "\n",
              "<svg xmlns=\"http://www.w3.org/2000/svg\" height=\"24px\"viewBox=\"0 0 24 24\"\n",
              "     width=\"24px\">\n",
              "    <g>\n",
              "        <path d=\"M19 3H5c-1.1 0-2 .9-2 2v14c0 1.1.9 2 2 2h14c1.1 0 2-.9 2-2V5c0-1.1-.9-2-2-2zM9 17H7v-7h2v7zm4 0h-2V7h2v10zm4 0h-2v-4h2v4z\"/>\n",
              "    </g>\n",
              "</svg>\n",
              "      </button>\n",
              "\n",
              "<style>\n",
              "  .colab-df-quickchart {\n",
              "      --bg-color: #E8F0FE;\n",
              "      --fill-color: #1967D2;\n",
              "      --hover-bg-color: #E2EBFA;\n",
              "      --hover-fill-color: #174EA6;\n",
              "      --disabled-fill-color: #AAA;\n",
              "      --disabled-bg-color: #DDD;\n",
              "  }\n",
              "\n",
              "  [theme=dark] .colab-df-quickchart {\n",
              "      --bg-color: #3B4455;\n",
              "      --fill-color: #D2E3FC;\n",
              "      --hover-bg-color: #434B5C;\n",
              "      --hover-fill-color: #FFFFFF;\n",
              "      --disabled-bg-color: #3B4455;\n",
              "      --disabled-fill-color: #666;\n",
              "  }\n",
              "\n",
              "  .colab-df-quickchart {\n",
              "    background-color: var(--bg-color);\n",
              "    border: none;\n",
              "    border-radius: 50%;\n",
              "    cursor: pointer;\n",
              "    display: none;\n",
              "    fill: var(--fill-color);\n",
              "    height: 32px;\n",
              "    padding: 0;\n",
              "    width: 32px;\n",
              "  }\n",
              "\n",
              "  .colab-df-quickchart:hover {\n",
              "    background-color: var(--hover-bg-color);\n",
              "    box-shadow: 0 1px 2px rgba(60, 64, 67, 0.3), 0 1px 3px 1px rgba(60, 64, 67, 0.15);\n",
              "    fill: var(--button-hover-fill-color);\n",
              "  }\n",
              "\n",
              "  .colab-df-quickchart-complete:disabled,\n",
              "  .colab-df-quickchart-complete:disabled:hover {\n",
              "    background-color: var(--disabled-bg-color);\n",
              "    fill: var(--disabled-fill-color);\n",
              "    box-shadow: none;\n",
              "  }\n",
              "\n",
              "  .colab-df-spinner {\n",
              "    border: 2px solid var(--fill-color);\n",
              "    border-color: transparent;\n",
              "    border-bottom-color: var(--fill-color);\n",
              "    animation:\n",
              "      spin 1s steps(1) infinite;\n",
              "  }\n",
              "\n",
              "  @keyframes spin {\n",
              "    0% {\n",
              "      border-color: transparent;\n",
              "      border-bottom-color: var(--fill-color);\n",
              "      border-left-color: var(--fill-color);\n",
              "    }\n",
              "    20% {\n",
              "      border-color: transparent;\n",
              "      border-left-color: var(--fill-color);\n",
              "      border-top-color: var(--fill-color);\n",
              "    }\n",
              "    30% {\n",
              "      border-color: transparent;\n",
              "      border-left-color: var(--fill-color);\n",
              "      border-top-color: var(--fill-color);\n",
              "      border-right-color: var(--fill-color);\n",
              "    }\n",
              "    40% {\n",
              "      border-color: transparent;\n",
              "      border-right-color: var(--fill-color);\n",
              "      border-top-color: var(--fill-color);\n",
              "    }\n",
              "    60% {\n",
              "      border-color: transparent;\n",
              "      border-right-color: var(--fill-color);\n",
              "    }\n",
              "    80% {\n",
              "      border-color: transparent;\n",
              "      border-right-color: var(--fill-color);\n",
              "      border-bottom-color: var(--fill-color);\n",
              "    }\n",
              "    90% {\n",
              "      border-color: transparent;\n",
              "      border-bottom-color: var(--fill-color);\n",
              "    }\n",
              "  }\n",
              "</style>\n",
              "\n",
              "      <script>\n",
              "        async function quickchart(key) {\n",
              "          const quickchartButtonEl =\n",
              "            document.querySelector('#' + key + ' button');\n",
              "          quickchartButtonEl.disabled = true;  // To prevent multiple clicks.\n",
              "          quickchartButtonEl.classList.add('colab-df-spinner');\n",
              "          try {\n",
              "            const charts = await google.colab.kernel.invokeFunction(\n",
              "                'suggestCharts', [key], {});\n",
              "          } catch (error) {\n",
              "            console.error('Error during call to suggestCharts:', error);\n",
              "          }\n",
              "          quickchartButtonEl.classList.remove('colab-df-spinner');\n",
              "          quickchartButtonEl.classList.add('colab-df-quickchart-complete');\n",
              "        }\n",
              "        (() => {\n",
              "          let quickchartButtonEl =\n",
              "            document.querySelector('#df-2cc4bfed-4505-46bf-98a0-a866b86bd234 button');\n",
              "          quickchartButtonEl.style.display =\n",
              "            google.colab.kernel.accessAllowed ? 'block' : 'none';\n",
              "        })();\n",
              "      </script>\n",
              "    </div>\n",
              "\n",
              "  <div id=\"id_5974017d-5f7b-4920-95e7-83068f71e98b\">\n",
              "    <style>\n",
              "      .colab-df-generate {\n",
              "        background-color: #E8F0FE;\n",
              "        border: none;\n",
              "        border-radius: 50%;\n",
              "        cursor: pointer;\n",
              "        display: none;\n",
              "        fill: #1967D2;\n",
              "        height: 32px;\n",
              "        padding: 0 0 0 0;\n",
              "        width: 32px;\n",
              "      }\n",
              "\n",
              "      .colab-df-generate:hover {\n",
              "        background-color: #E2EBFA;\n",
              "        box-shadow: 0px 1px 2px rgba(60, 64, 67, 0.3), 0px 1px 3px 1px rgba(60, 64, 67, 0.15);\n",
              "        fill: #174EA6;\n",
              "      }\n",
              "\n",
              "      [theme=dark] .colab-df-generate {\n",
              "        background-color: #3B4455;\n",
              "        fill: #D2E3FC;\n",
              "      }\n",
              "\n",
              "      [theme=dark] .colab-df-generate:hover {\n",
              "        background-color: #434B5C;\n",
              "        box-shadow: 0px 1px 3px 1px rgba(0, 0, 0, 0.15);\n",
              "        filter: drop-shadow(0px 1px 2px rgba(0, 0, 0, 0.3));\n",
              "        fill: #FFFFFF;\n",
              "      }\n",
              "    </style>\n",
              "    <button class=\"colab-df-generate\" onclick=\"generateWithVariable('df')\"\n",
              "            title=\"Generate code using this dataframe.\"\n",
              "            style=\"display:none;\">\n",
              "\n",
              "  <svg xmlns=\"http://www.w3.org/2000/svg\" height=\"24px\"viewBox=\"0 0 24 24\"\n",
              "       width=\"24px\">\n",
              "    <path d=\"M7,19H8.4L18.45,9,17,7.55,7,17.6ZM5,21V16.75L18.45,3.32a2,2,0,0,1,2.83,0l1.4,1.43a1.91,1.91,0,0,1,.58,1.4,1.91,1.91,0,0,1-.58,1.4L9.25,21ZM18.45,9,17,7.55Zm-12,3A5.31,5.31,0,0,0,4.9,8.1,5.31,5.31,0,0,0,1,6.5,5.31,5.31,0,0,0,4.9,4.9,5.31,5.31,0,0,0,6.5,1,5.31,5.31,0,0,0,8.1,4.9,5.31,5.31,0,0,0,12,6.5,5.46,5.46,0,0,0,6.5,12Z\"/>\n",
              "  </svg>\n",
              "    </button>\n",
              "    <script>\n",
              "      (() => {\n",
              "      const buttonEl =\n",
              "        document.querySelector('#id_5974017d-5f7b-4920-95e7-83068f71e98b button.colab-df-generate');\n",
              "      buttonEl.style.display =\n",
              "        google.colab.kernel.accessAllowed ? 'block' : 'none';\n",
              "\n",
              "      buttonEl.onclick = () => {\n",
              "        google.colab.notebook.generateWithVariable('df');\n",
              "      }\n",
              "      })();\n",
              "    </script>\n",
              "  </div>\n",
              "\n",
              "    </div>\n",
              "  </div>\n"
            ],
            "application/vnd.google.colaboratory.intrinsic+json": {
              "type": "dataframe",
              "variable_name": "df",
              "summary": "{\n  \"name\": \"df\",\n  \"rows\": 11823,\n  \"fields\": [\n    {\n      \"column\": \"Q\",\n      \"properties\": {\n        \"dtype\": \"string\",\n        \"num_unique_values\": 11662,\n        \"samples\": [\n          \"\\uc0ac\\ub791\\ud558\\ub294 \\uc0ac\\ub78c \\uc78a\\ub294 \\ubc95\",\n          \"\\uc220 \\uc548 \\uba39\\uc73c\\uba74 \\uce5c\\uad6c\\ub791 \\ubb50\\ud558\\uc9c0\",\n          \"\\uc9dd\\ub0a8\\uc774 \\uace0\\uc2dc\\uc0dd\\uc774\\uba74 \\uae30\\ub2e4\\ub824\\uc57c \\ud558\\ub098\\uc694?\"\n        ],\n        \"semantic_type\": \"\",\n        \"description\": \"\"\n      }\n    },\n    {\n      \"column\": \"A\",\n      \"properties\": {\n        \"dtype\": \"string\",\n        \"num_unique_values\": 7779,\n        \"samples\": [\n          \"\\uc720\\uba38\\ucf54\\ub4dc\\uac00 \\ub9de\\ub294 \\uc0ac\\ub78c\\uc744 \\ucc3e\\uc544\\ubcf4\\uc138\\uc694.\",\n          \"\\uc5ec\\ud589\\uc744 \\ub5a0\\ub098 \\ubcf4\\uc138\\uc694.\",\n          \"\\ud589\\ubcf5\\ud560 \\uac70\\ub77c \\uc0dd\\uac01\\ud574\\uc694.\"\n        ],\n        \"semantic_type\": \"\",\n        \"description\": \"\"\n      }\n    }\n  ]\n}"
            }
          },
          "metadata": {},
          "execution_count": 3
        }
      ],
      "source": [
        "df"
      ]
    },
    {
      "cell_type": "markdown",
      "id": "1d6714b4",
      "metadata": {
        "id": "1d6714b4"
      },
      "source": [
        "##### 데이터 전처리"
      ]
    },
    {
      "cell_type": "markdown",
      "id": "6ce89d60",
      "metadata": {
        "id": "6ce89d60"
      },
      "source": [
        "##### Tokenizer 학습 (sentencepiece 활용)\n",
        "- 접두사, 접미사 처리 (문장의 처음과 끝에 붙는 bos (begin of sentence), eos)\n",
        "    - Train() 인자 cmd 옵션을 추가 (`<bos>, <eos>,<pad>,<oov>...)\n",
        "    - set_encode_extra_options(':')\n",
        "    - set_encode_extra_options('bos:')\n",
        "    - set_encode_extra_options(':eos')\n",
        "    - set_encode_extra_options('bos:eos')"
      ]
    },
    {
      "cell_type": "code",
      "execution_count": 4,
      "id": "bbb1bc8f",
      "metadata": {
        "id": "bbb1bc8f"
      },
      "outputs": [],
      "source": [
        "import sentencepiece as spt"
      ]
    },
    {
      "cell_type": "code",
      "execution_count": 5,
      "id": "c904df69",
      "metadata": {
        "id": "c904df69"
      },
      "outputs": [],
      "source": [
        "list_q = df['Q'].values.tolist()\n",
        "list_a = df['A'].values.tolist()"
      ]
    },
    {
      "cell_type": "code",
      "execution_count": 6,
      "id": "8cb3a3b1",
      "metadata": {
        "id": "8cb3a3b1"
      },
      "outputs": [],
      "source": [
        "# 리스트들을 파일로 저장\n",
        "with open('QA_Corpus.txt', 'w', encoding = 'utf-8') as f:\n",
        "    for s in list_q:\n",
        "        s = str(s).replace('\\n',' ').strip()\n",
        "        if s:\n",
        "            f.write(s + '\\n')\n",
        "\n",
        "    for s in list_a:\n",
        "        s = str(s).replace('\\n',' ').strip()\n",
        "        if s:\n",
        "            f.write(s + '\\n')"
      ]
    },
    {
      "cell_type": "code",
      "execution_count": 7,
      "id": "4b5e84f1",
      "metadata": {
        "id": "4b5e84f1"
      },
      "outputs": [],
      "source": [
        "# QA Dataset에 대한 SentencePiece 모델 생성 및 학습\n",
        "qa_input = 'QA_Corpus.txt'\n",
        "VOCAB_SIZE = 5000\n",
        "model_prefix = 'Questions'\n",
        "cmd = (\n",
        "    f'--input={qa_input} '\n",
        "    f'--model_prefix={model_prefix} '\n",
        "    f'--vocab_size={VOCAB_SIZE} '\n",
        "    f'--pad_id=0 --unk_id=1 --bos_id=2 --eos_id=3'\n",
        ")\n",
        "spt.SentencePieceTrainer.Train(cmd)"
      ]
    },
    {
      "cell_type": "code",
      "execution_count": 8,
      "id": "13a90e37",
      "metadata": {
        "colab": {
          "base_uri": "https://localhost:8080/"
        },
        "id": "13a90e37",
        "outputId": "0d2afd90-2398-4701-bccb-17a8fbc2f62a"
      },
      "outputs": [
        {
          "output_type": "execute_result",
          "data": {
            "text/plain": [
              "True"
            ]
          },
          "metadata": {},
          "execution_count": 8
        }
      ],
      "source": [
        "# 모델 로드\n",
        "sp = spt.SentencePieceProcessor()\n",
        "sp.Load(f'{model_prefix}.model')"
      ]
    },
    {
      "cell_type": "code",
      "execution_count": 9,
      "id": "4934f54b",
      "metadata": {
        "id": "4934f54b"
      },
      "outputs": [],
      "source": [
        "PAD, BOS, EOS = sp.pad_id(), sp.bos_id(), sp.eos_id()\n",
        "def encode_pair(q_text, a_text):\n",
        "    q_ids = sp.encode(q_text, out_type=int)        # 인코더 입력\n",
        "    a_ids = sp.encode(a_text, out_type=int)        # 디코더 정답 본문\n",
        "    dec_in  = [BOS] + a_ids                        # <BOS> + 본문\n",
        "    dec_tgt = a_ids + [EOS]                        # 본문 + <EOS>\n",
        "    return q_ids, dec_in, dec_tgt\n",
        "\n",
        "encoded = [encode_pair(q, a) for q, a in zip(list_q, list_a)]\n",
        "q_id_tokens, a_input_id_tokens, a_target_id_tokens = zip(*encoded)"
      ]
    },
    {
      "cell_type": "code",
      "source": [
        "q_text = list_q\n",
        "a_text_input = ['<sos >'] + list_a"
      ],
      "metadata": {
        "id": "1cLMtZ6NtsOe"
      },
      "id": "1cLMtZ6NtsOe",
      "execution_count": 10,
      "outputs": []
    },
    {
      "cell_type": "code",
      "execution_count": 11,
      "id": "d990114e",
      "metadata": {
        "colab": {
          "base_uri": "https://localhost:8080/"
        },
        "collapsed": true,
        "id": "d990114e",
        "outputId": "b28d505b-b3a5-4fd5-a4cd-61b7194ed100"
      },
      "outputs": [
        {
          "output_type": "execute_result",
          "data": {
            "text/plain": [
              "([4228, 299, 5, 4826, 72],\n",
              " [291, 14, 933, 674, 1735],\n",
              " [277, 1280, 2810, 76, 2964, 94],\n",
              " [277, 1280, 2810, 76, 667, 2964, 94],\n",
              " [5, 4549, 4549, 1, 1395, 64],\n",
              " [5, 3210, 4547, 3089, 3409, 579],\n",
              " [5, 3210, 4547, 3089, 323],\n",
              " [1429, 785, 4455, 89, 33, 122, 1489],\n",
              " [1429, 143, 4664, 683, 101, 28, 1473, 489, 111, 209],\n",
              " [1429, 143, 4664, 683, 128, 146, 3062, 4459],\n",
              " [1429, 782, 283, 1554, 16, 70, 3205],\n",
              " [587, 708],\n",
              " [587, 2757, 14, 708],\n",
              " [587, 15, 3418, 13, 958],\n",
              " [82, 987, 26, 315, 21, 1193, 1424],\n",
              " [2974, 115, 11, 5, 4833, 1990],\n",
              " [82, 174, 1485, 1, 5, 3597, 4517, 4231],\n",
              " [3800, 1945, 3766, 16, 3783],\n",
              " [3800, 1945, 3766, 1478, 1778, 96, 69],\n",
              " [3800, 683, 22, 41, 24, 3838, 4],\n",
              " [3800, 683, 275, 4812, 181, 678, 3515, 75],\n",
              " [3800, 683, 1107, 3279],\n",
              " [499, 878, 79, 566, 9],\n",
              " [1196, 293, 842, 48, 914],\n",
              " [1196, 293, 3433],\n",
              " [1196, 293, 404, 48, 474, 9],\n",
              " [1196, 115, 9],\n",
              " [1196, 3097, 2275, 727],\n",
              " [1196, 1016, 151, 293, 2763, 4],\n",
              " [2683, 224, 55],\n",
              " [2683, 695, 5, 25, 1299, 68],\n",
              " [2683, 695, 5, 25, 1299, 68, 579],\n",
              " [2683, 695, 404, 474, 9],\n",
              " [2683, 695, 293, 633, 864],\n",
              " [1196, 3495, 935, 14],\n",
              " [2483, 313, 81, 9],\n",
              " [2483, 50, 293, 82, 387],\n",
              " [1196, 163, 364, 5, 4953, 468],\n",
              " [82, 1605, 263, 9],\n",
              " [82, 1605, 243, 633, 789, 7, 58],\n",
              " [888, 623, 1761, 187, 3696],\n",
              " [888, 623, 1019, 209],\n",
              " [888, 623, 1448, 209],\n",
              " [3700, 98, 1753],\n",
              " [3700, 714],\n",
              " [888, 380, 430, 3547, 1029, 510],\n",
              " [888, 4972, 4601, 1240, 227],\n",
              " [1460, 2079, 295, 317],\n",
              " [1460, 2079, 9],\n",
              " [780, 71, 4567, 10, 194, 94, 4],\n",
              " [780, 71, 4567, 10, 860],\n",
              " [678, 536],\n",
              " [678, 3775, 36, 69],\n",
              " [678, 1375, 10, 115],\n",
              " [678, 334, 28, 536],\n",
              " [678, 7, 238, 1399],\n",
              " [678, 1012, 10, 58],\n",
              " [678, 2500, 536],\n",
              " [780, 1677, 48, 170, 1441, 118],\n",
              " [1267, 1520, 637, 433, 5, 4831, 933, 244, 1612, 351],\n",
              " [310, 4870, 492, 4799, 8, 823],\n",
              " [310, 4870, 492, 4799, 10, 323],\n",
              " [780, 43, 24, 18, 2747, 159, 7, 115],\n",
              " [505, 485, 522, 337, 5, 4973, 334, 907],\n",
              " [505, 485, 1094, 24],\n",
              " [505, 485, 1176, 25, 3043, 75],\n",
              " [505, 485, 2829, 26, 500, 7, 644, 28, 69],\n",
              " [886, 4825, 26, 3186, 2053, 81, 752],\n",
              " [886, 2530, 1592, 16, 55],\n",
              " [886, 2530, 1592, 16, 458, 1626, 323, 371],\n",
              " [886, 2530, 3690, 20, 161],\n",
              " [886, 2530, 3690, 199],\n",
              " [886, 1384, 11, 82, 25, 1523, 9],\n",
              " [135, 749, 1518, 16, 355, 590, 9],\n",
              " [135, 1986, 626, 269, 58],\n",
              " [135, 3323, 283, 142, 3599, 28, 69],\n",
              " [135, 3342, 380, 842, 48, 914],\n",
              " [135, 100, 126, 3370, 1651, 55],\n",
              " [135, 370, 2579, 467, 82, 401, 519, 9],\n",
              " [135, 127, 20, 84, 1442, 1802, 98, 161],\n",
              " [2377, 2570, 2231, 651],\n",
              " [2377, 3907, 732, 13, 2231, 1200],\n",
              " [2377, 10, 57],\n",
              " [2377, 2405],\n",
              " [1024, 4999, 15, 1211],\n",
              " [1024, 4999, 10, 445, 2922, 4],\n",
              " [1024, 74, 1151, 5, 3963, 75],\n",
              " [3656, 11, 1982, 2754],\n",
              " [3656, 10, 58],\n",
              " [1024, 1266, 4656],\n",
              " [1024, 1266, 4656, 527, 4916, 221, 505, 485, 541, 3005],\n",
              " [1642, 412, 2372, 225, 70, 1029],\n",
              " [1642, 412, 99, 11, 70, 1029],\n",
              " [1024, 4635, 173],\n",
              " [1024, 3506],\n",
              " [1024, 1386, 1077, 958],\n",
              " [5, 4863, 22, 852],\n",
              " [5, 4863, 12, 3226, 3994, 25, 130, 96, 153, 9],\n",
              " [5, 4863, 50, 386, 292, 1893, 377],\n",
              " [28, 14, 135, 99, 68, 1982, 5, 1924],\n",
              " [28, 14, 1499],\n",
              " [851, 914],\n",
              " [851, 8, 24, 11, 2739, 146, 117],\n",
              " [851, 8, 5, 152, 317],\n",
              " [851, 10, 851, 8, 3329, 221],\n",
              " [582, 853, 552, 2802],\n",
              " [582, 51, 853, 552, 94, 4],\n",
              " [761, 964],\n",
              " [761, 675, 2907, 972],\n",
              " [761, 4837, 244, 581],\n",
              " [761, 4837, 244, 1575, 2754],\n",
              " [761, 10, 1348],\n",
              " [761, 10, 1348, 101, 36, 69],\n",
              " [761, 152, 1432, 111, 204],\n",
              " [761, 26, 1432, 1804],\n",
              " [79, 2126, 267, 2126, 812, 3070, 1079, 185, 9],\n",
              " [79, 1794, 203, 445, 1141],\n",
              " [79, 1794, 1570, 5, 4817, 128],\n",
              " [79, 467, 381],\n",
              " [2954, 74, 142, 988],\n",
              " [2954, 402],\n",
              " [121, 1609, 241, 11, 320, 317],\n",
              " [1191, 376, 311, 5, 4484, 4484, 372, 1111],\n",
              " [5, 2573, 1990],\n",
              " [66, 1087, 326, 734, 1524, 7, 115],\n",
              " [749, 135, 254, 401, 259, 9],\n",
              " [749, 475, 143, 70, 1924],\n",
              " [749, 475, 956, 10, 400, 309, 1624, 776, 773],\n",
              " [749, 2277, 4],\n",
              " [749, 3181],\n",
              " [749, 11, 80, 2357, 75],\n",
              " [749, 62, 55],\n",
              " [749, 591, 143, 70, 1924],\n",
              " [3109, 1708, 1968, 81],\n",
              " [4392, 12, 1035, 509, 10, 14, 72],\n",
              " [3109, 10, 376, 1968, 361, 864],\n",
              " [3553, 51, 1480],\n",
              " [3553, 7, 428, 4],\n",
              " [5, 2575, 144, 3152, 832, 860, 4],\n",
              " [413, 524, 1085, 2405, 2523, 57],\n",
              " [480, 823, 4],\n",
              " [480, 15, 2193, 35, 2385, 5, 486, 1339, 9],\n",
              " [480, 15, 2385, 486, 1339, 9],\n",
              " [480, 8, 103, 1814, 927, 4, 717, 4982, 68],\n",
              " [480, 412, 438, 934, 10, 58],\n",
              " [177, 593, 4],\n",
              " [177, 914],\n",
              " [177, 11, 70, 996, 57, 4],\n",
              " [1547, 842, 854],\n",
              " [1547, 113, 82, 2564],\n",
              " [1547, 498, 254, 4815, 10, 554, 5, 988, 1633],\n",
              " [1547, 10, 22, 325],\n",
              " [177, 476, 219, 89, 146, 367, 507, 60, 3758, 72],\n",
              " [4203, 266, 41, 334, 371],\n",
              " [4203, 493, 266, 523, 39, 1220, 39],\n",
              " [177, 493, 266, 41, 1836],\n",
              " [177, 493, 266, 523, 39, 3785],\n",
              " [2448, 118, 9],\n",
              " [2448, 406],\n",
              " [2448, 3334, 9],\n",
              " [2448, 883, 9],\n",
              " [2448, 2948, 199, 9],\n",
              " [177, 263],\n",
              " [177, 243, 590],\n",
              " [177, 243, 185],\n",
              " [3129, 165],\n",
              " [2407, 10, 22, 2404, 3915, 68],\n",
              " [179, 240, 243, 185],\n",
              " [179, 998, 86, 28, 854],\n",
              " [179, 1775, 35, 1461],\n",
              " [179, 224, 55],\n",
              " [179, 224, 5, 4997, 126, 604, 9],\n",
              " [179, 1128, 158, 33, 118],\n",
              " [179, 5, 4927, 626, 1138, 721],\n",
              " [179, 5, 2234, 62, 55],\n",
              " [179, 3712, 677],\n",
              " [5, 16, 3491, 15, 240, 37, 5, 2480, 4],\n",
              " [5, 16, 3491, 10, 187, 240, 2480],\n",
              " [5, 16, 454, 564, 1432, 1970],\n",
              " [5, 16, 454, 564, 37, 194, 1432, 1970],\n",
              " [3359, 4242, 194, 94, 4],\n",
              " [3359, 194, 55],\n",
              " [5, 16, 181, 74, 5, 3407],\n",
              " [5, 16, 181, 74, 593, 5, 3407],\n",
              " [4196, 26, 848],\n",
              " [3679, 583, 325],\n",
              " [5, 16, 1799, 455, 28, 2288, 48, 906, 126, 1552],\n",
              " [295, 115],\n",
              " [295, 51, 3352, 190],\n",
              " [248, 62, 322, 155, 1641],\n",
              " [4076, 22, 1787],\n",
              " [4076, 1787],\n",
              " [4076, 83, 1046, 16, 55],\n",
              " [4076, 83, 5, 3774, 62, 55],\n",
              " [5, 16, 1569, 10, 734, 2736, 548, 209],\n",
              " [5, 16, 1569, 10, 1592, 16, 55],\n",
              " [5, 16, 1569, 10, 1592, 16, 55],\n",
              " [5, 16, 21, 12, 745, 720, 18, 110, 28, 69],\n",
              " [5, 16, 810, 5, 2856, 30],\n",
              " [5, 16, 810, 62, 12],\n",
              " [4088, 103, 2404, 97],\n",
              " [4088, 2087, 81, 317],\n",
              " [4088, 768],\n",
              " [4088, 430, 383, 82, 2564],\n",
              " [5, 4805, 1612, 194, 55, 4],\n",
              " [5, 4805, 1612, 664],\n",
              " [2169, 4269],\n",
              " [2169, 1185, 94],\n",
              " [2169, 1587, 377],\n",
              " [2169, 937, 240, 756],\n",
              " [2169, 937, 1013, 28, 69],\n",
              " [2169, 937, 206, 1489],\n",
              " [2169, 192, 263],\n",
              " [2169, 10, 989, 9],\n",
              " [1322, 1022, 352, 676, 10, 2724, 381],\n",
              " [1322, 1022, 352, 2724],\n",
              " [1322, 1022, 1274, 5, 924, 2162, 435, 9],\n",
              " [240, 179, 243, 185],\n",
              " [240, 409, 320, 259],\n",
              " [240, 3816, 430, 794, 81, 165],\n",
              " [240, 1759, 11, 185],\n",
              " [240, 89, 320, 317, 9],\n",
              " [240, 27, 323],\n",
              " [240, 692, 55],\n",
              " [240, 51, 32, 127, 121],\n",
              " [240, 1096, 852],\n",
              " [240, 12, 60, 5, 1716, 241, 10, 543, 36, 69],\n",
              " [240, 48, 194, 142, 20, 161],\n",
              " [240, 2803, 10, 2668, 799, 9],\n",
              " [240, 347, 227],\n",
              " [240, 347, 1329, 200],\n",
              " [240, 86, 5, 4813, 10, 58],\n",
              " [240, 86, 333, 9],\n",
              " [240, 86, 333, 7, 58],\n",
              " [3289, 192, 206],\n",
              " [3289, 192, 206],\n",
              " [3289, 3325],\n",
              " [3289, 192, 493, 756],\n",
              " [4155, 351],\n",
              " [1322, 1240, 224, 55],\n",
              " [1322, 1240, 1118, 376, 55],\n",
              " [1322, 4458, 4274, 283, 206, 9],\n",
              " [1322, 4656, 380, 1949, 1401, 4],\n",
              " [1322, 4656, 380, 1949, 115],\n",
              " [1322, 3093, 76, 521, 379, 10, 1348],\n",
              " [1322, 3093, 76, 521, 379, 4474],\n",
              " [2057, 12, 1245, 1538, 3046, 935, 14],\n",
              " [2057, 12, 910, 119],\n",
              " [2208, 372, 1543, 7, 323],\n",
              " [2208, 2504, 722],\n",
              " [2208, 882],\n",
              " [1649, 2797, 683, 4375, 371, 9],\n",
              " [1649, 2797, 683, 856, 9],\n",
              " [2060, 194, 315, 510],\n",
              " [2060, 860, 4],\n",
              " [2060, 33, 515, 13, 317],\n",
              " [2060, 27, 33, 515, 13, 317],\n",
              " [2060, 832, 860],\n",
              " [478, 7, 179, 2751, 57, 4],\n",
              " [302, 5, 4910, 201, 131, 94, 4],\n",
              " [302, 51, 33, 82, 4984, 126],\n",
              " [5, 2159, 1383, 2165, 536],\n",
              " [5, 2159, 1383, 2165, 436],\n",
              " [5, 4804, 16, 7, 33, 656],\n",
              " [2074, 16, 115],\n",
              " [654, 3070, 991, 354, 227],\n",
              " [5, 4986, 43, 3222, 14, 3019],\n",
              " [5, 4986, 43, 3138, 75],\n",
              " [5, 4986, 43, 3650, 372, 3678],\n",
              " [5, 4986, 43, 232, 199, 170, 143, 1509, 2149, 57],\n",
              " [5, 4986, 43, 5, 1612, 1486, 68],\n",
              " [5, 4932, 1794, 10, 735, 425, 1237, 223],\n",
              " [3353, 212, 841, 16, 581],\n",
              " [3234, 3728, 3772],\n",
              " [3983, 143, 31, 348, 894, 159, 115],\n",
              " [3983, 1745, 811, 381],\n",
              " [3983, 83, 348, 894, 159, 115],\n",
              " [3983, 10, 2277],\n",
              " [3234, 10, 2043, 191, 2277],\n",
              " [3353, 1213, 10, 211, 2441],\n",
              " [5, 2663, 363, 16, 5, 1206, 468, 4],\n",
              " [5, 2663, 363, 16, 2730],\n",
              " [2031, 842, 227],\n",
              " [2031, 1900, 875],\n",
              " [2031, 83, 875],\n",
              " [670, 1280, 491, 567, 99, 1029],\n",
              " [1165, 1900, 361, 63, 225, 1354, 20, 161],\n",
              " [1165, 513, 560, 387],\n",
              " [1165, 513, 11, 185],\n",
              " [1165, 2130, 3706],\n",
              " [1165, 1354, 20, 161],\n",
              " [1165, 385, 656, 39],\n",
              " [1165, 3293, 513],\n",
              " [5, 1, 1104, 3939],\n",
              " [1825, 35, 238, 2008, 1384],\n",
              " [1825, 14, 9],\n",
              " [708],\n",
              " [708, 981],\n",
              " [525, 410],\n",
              " [525, 7, 3028, 794],\n",
              " [525, 7, 888, 14, 383],\n",
              " [525, 7, 5, 4588, 4588, 2455],\n",
              " [525, 4615, 501, 9],\n",
              " [47, 52, 24, 33, 29, 28, 69],\n",
              " [47, 52, 24, 3722, 377],\n",
              " [47, 52, 577, 869, 377],\n",
              " [47, 1003, 1383, 1055, 70, 1454, 14],\n",
              " [262, 3812, 336],\n",
              " [262, 2169, 10, 112, 314],\n",
              " [262, 60, 1953, 5, 2572, 560, 2108],\n",
              " [262, 687, 1200, 9],\n",
              " [262, 392, 16, 94],\n",
              " [262, 5, 4866, 75, 1155, 4],\n",
              " [262, 265, 552, 55],\n",
              " [262, 3373, 28, 137, 14, 9],\n",
              " [262, 791, 882, 16, 318, 129, 96, 366, 146, 2172, 68],\n",
              " [262, 2853, 446, 510, 4],\n",
              " [262, 259, 9],\n",
              " [262, 140, 459, 476, 860],\n",
              " [262, 140, 84, 13, 118],\n",
              " [1763, 27, 4423, 926, 9],\n",
              " [47, 1225, 1454, 14],\n",
              " [319, 918, 186],\n",
              " [319, 80, 480, 245],\n",
              " [319, 11, 51, 411, 803],\n",
              " [130, 71, 8, 89, 219],\n",
              " [130, 2436, 191, 320, 1998],\n",
              " [130, 30, 101, 3091, 57, 1970],\n",
              " [130, 109, 137, 1033, 22, 525, 4987, 13, 2098],\n",
              " [213, 13, 633, 28, 516],\n",
              " [213, 13, 278, 142, 2085, 11, 592, 18, 823],\n",
              " [213, 13, 127, 190],\n",
              " [47, 764, 27, 1125, 94],\n",
              " [47, 764, 51, 27, 47, 4268, 377],\n",
              " [551, 1976, 1116, 16, 55],\n",
              " [551, 3819, 752],\n",
              " [551, 142, 1141],\n",
              " [2961, 130, 282],\n",
              " [5, 1421, 363, 26, 375, 369, 5, 1696],\n",
              " [5, 1421, 3146, 100, 126, 1644, 8, 571],\n",
              " [747, 2347, 369, 9],\n",
              " [747, 2347, 501],\n",
              " [747, 363, 2832, 436],\n",
              " [3557, 438, 16, 3297, 35, 1339, 9],\n",
              " [3557, 48, 4181, 126],\n",
              " [3557, 48, 4181, 126, 2101, 8, 571],\n",
              " [3273, 10, 356, 119],\n",
              " [384, 5, 2342, 1746],\n",
              " [1616, 70, 3185, 1122, 854],\n",
              " [1616, 113, 2207, 468],\n",
              " [1616, 103, 4954, 4969, 75],\n",
              " [1616, 3185, 74, 854],\n",
              " [384, 1996, 51, 981, 594, 594],\n",
              " [1073, 145, 1632],\n",
              " [574, 201, 71, 823],\n",
              " [3628, 10, 1688, 1686, 182],\n",
              " [411, 7, 2161, 579],\n",
              " [411, 7, 2926, 181, 1527, 1051, 973, 20, 84, 204, 161, 9],\n",
              " [411, 62, 3778],\n",
              " [411, 122, 71, 336],\n",
              " [411, 803],\n",
              " [384, 3594, 20, 84, 30],\n",
              " [384, 3803, 58],\n",
              " [384, 1151, 2347, 361, 3544, 75, 4],\n",
              " [2423, 1018, 11, 469, 36, 69, 4],\n",
              " [2423, 33, 735, 115],\n",
              " [384, 778, 51, 5, 736],\n",
              " [384, 778, 245],\n",
              " [390, 2250, 4451, 68],\n",
              " [390, 522, 3650, 8, 179, 62, 115],\n",
              " [390, 3839, 25, 51, 5, 4892, 16, 115],\n",
              " [390, 2036, 131, 55],\n",
              " [390, 2036, 10, 428],\n",
              " [620, 47, 14, 69],\n",
              " [620, 3214],\n",
              " [620, 5, 4727, 68],\n",
              " [620, 1465],\n",
              " [384, 1223, 363, 859],\n",
              " [384, 1223, 363, 1735],\n",
              " [384, 1223, 363, 557, 96, 2555, 9],\n",
              " [384, 1223, 363, 142, 35, 2674, 9],\n",
              " [384, 1223, 363, 33, 1499],\n",
              " [3882, 4207],\n",
              " [384, 437, 993, 293, 376, 55],\n",
              " [384, 437, 3495, 376, 55],\n",
              " [4363, 11, 823],\n",
              " [4363, 11, 966, 13, 1093],\n",
              " [3199, 1239, 72],\n",
              " [3199, 172, 859, 9],\n",
              " [3199, 172, 1508, 9],\n",
              " [3199, 1153, 1321, 9],\n",
              " [3199, 59, 172, 1239],\n",
              " [3199, 59, 172, 2740],\n",
              " [944, 18, 4391, 75],\n",
              " [944, 18, 103, 3106, 75],\n",
              " [384, 4887, 363, 187, 2245, 43, 1219, 2261, 4399],\n",
              " [384, 4887, 363, 31, 1219, 2261, 4399],\n",
              " [760, 280, 964, 4313, 4],\n",
              " [760, 280, 2767, 12, 28, 756],\n",
              " [760, 102, 121, 2149, 268, 1137, 4],\n",
              " [1892, 2263, 12, 835, 981],\n",
              " [1892, 754],\n",
              " [1892, 754, 25, 5, 4833, 39, 64],\n",
              " [520, 1556, 83, 1544, 3085, 727, 11, 590],\n",
              " [520, 83, 1292, 370, 565, 12, 30, 227],\n",
              " [520, 83, 1417, 1197, 1648],\n",
              " [520, 83, 176, 680, 3085, 727, 11, 590],\n",
              " [520, 83, 5, 4766, 1522, 2730],\n",
              " [520, 15, 5, 4922, 16, 117, 12, 5, 2547],\n",
              " [520, 10, 1209, 3863, 25, 1209, 4910, 383, 241, 3897, 245],\n",
              " [520, 10, 5, 4197],\n",
              " [520, 10, 389, 1969, 1209, 4910, 383, 241, 3897, 245],\n",
              " [520, 10, 389, 468],\n",
              " [5, 1427, 2857, 2119, 194, 55, 4],\n",
              " [5, 1427, 430, 11, 343],\n",
              " [5, 1427, 430, 3194, 378, 2811, 860],\n",
              " [5, 1427, 430, 3194, 378, 2811, 476, 395, 860],\n",
              " [5, 1427, 430, 4509, 2519, 194, 55],\n",
              " [5, 199, 221, 1233, 294, 5, 4855, 2008, 1313],\n",
              " [5, 4484, 4484, 1405, 3399, 1301, 1810],\n",
              " [5, 1, 408, 326, 28, 69],\n",
              " [5, 4704, 3455, 3531, 36, 366],\n",
              " [652, 786, 94],\n",
              " [652, 1820, 55],\n",
              " [652, 1523, 9],\n",
              " [652, 172, 1321],\n",
              " [652, 172, 68, 1200],\n",
              " [652, 732, 13, 71, 1746],\n",
              " [652, 13, 3539, 431, 57, 4],\n",
              " [652, 13, 3539, 158, 459, 11, 1],\n",
              " [652, 4556, 10, 2089, 209],\n",
              " [652, 4556, 10, 1607, 187, 958],\n",
              " [652, 3911, 10, 376, 55],\n",
              " [652, 57, 662, 71, 173, 3131],\n",
              " [652, 57, 662, 71, 151, 35, 5, 31, 2335, 371, 4],\n",
              " [652, 57, 662, 1239],\n",
              " [652, 57, 662, 1726],\n",
              " [652, 57, 662, 172, 3108, 9],\n",
              " [652, 57, 662, 172, 1239],\n",
              " [652, 57, 662, 172, 501, 9],\n",
              " [652, 57, 662, 192, 245],\n",
              " [652, 4187, 1466, 50, 2060, 5, 4187, 172, 98, 7, 118, 9],\n",
              " [652, 4187, 7, 406, 2060, 4187, 199, 406],\n",
              " [652, 1065, 1794, 786, 717],\n",
              " [2250, 3145],\n",
              " [341, 15, 1911],\n",
              " [1343, 22, 325],\n",
              " [1343, 22, 394, 25, 1717, 75],\n",
              " [1343, 70, 3071],\n",
              " [1343, 546, 1024, 81],\n",
              " [1343, 58],\n",
              " [1343, 2661, 241, 199, 9],\n",
              " [1343, 146, 3569],\n",
              " [1343, 414, 2299],\n",
              " [656, 187, 1667, 1799, 591],\n",
              " [656, 35, 112, 231, 569, 4],\n",
              " [5, 3964, 1805, 7, 3478, 588, 526, 121, 1746],\n",
              " [5, 3964, 1805, 7, 100, 588, 526, 121, 1746],\n",
              " [24, 310, 4981, 1609, 74, 637, 10, 961],\n",
              " [24, 684, 16, 1107, 1279, 1140],\n",
              " [24, 386, 285, 1772, 1592, 35, 2437],\n",
              " [24, 135, 1219, 159, 18, 89, 633, 454, 14],\n",
              " [24, 851, 823],\n",
              " [24, 480, 27, 2750, 14, 9],\n",
              " [24, 480, 245],\n",
              " [24, 3108, 5, 4994, 153],\n",
              " [24, 3353, 1213, 10, 211, 67, 20, 161, 9],\n",
              " [24, 1763, 98, 26, 96, 153],\n",
              " [24, 47, 14, 427],\n",
              " [24, 281, 384, 1223, 363, 82, 2564],\n",
              " [24, 60, 380, 683, 37, 10, 190],\n",
              " [24, 22, 103, 1401],\n",
              " [24, 22, 3281],\n",
              " [24, 2865, 4297],\n",
              " [24, 518, 173, 2128, 624, 7, 9],\n",
              " [24, 313, 13, 9],\n",
              " [24, 2318, 1286, 2793, 182],\n",
              " [24, 91, 28, 259],\n",
              " [24, 487, 2163, 26, 28, 745],\n",
              " [24, 3562, 86, 159, 93, 259, 9],\n",
              " [24, 3562, 86, 159, 1923, 181, 93, 219, 9],\n",
              " [24, 41, 411, 803],\n",
              " [24, 71, 720, 26, 28, 69, 4],\n",
              " [24, 897, 1103, 12, 28, 69],\n",
              " [24, 280, 522, 314],\n",
              " [24, 280, 7, 24, 2154, 36, 69],\n",
              " [24, 156, 27, 13],\n",
              " [24, 469, 13, 89, 265, 1861],\n",
              " [24, 5, 4976, 190, 790, 28, 536],\n",
              " [24, 1971, 3818, 28, 69],\n",
              " [24, 2747, 28, 69],\n",
              " [24, 2747, 30, 93, 117, 9],\n",
              " [24, 2747, 30, 1281],\n",
              " [24, 398, 7, 220, 96, 69],\n",
              " [24, 2757, 28, 14],\n",
              " [24, 5, 3332, 1313, 72],\n",
              " [24, 120, 4882, 16, 55],\n",
              " [24, 120, 2091, 436, 1036],\n",
              " [24, 5, 2008, 211, 81],\n",
              " [24, 1509, 764, 2353, 28, 69],\n",
              " [24, 3168, 3818, 28, 366, 604, 9],\n",
              " [24, 275, 37, 351],\n",
              " [24, 38, 1194, 9],\n",
              " [24, 1340, 975, 235, 72],\n",
              " [24, 556, 843, 5, 4894, 57],\n",
              " [24, 3571, 5, 4804, 1803, 245],\n",
              " [24, 605, 1313, 72],\n",
              " [24, 3387, 28, 69],\n",
              " [24, 3387, 773],\n",
              " [24, 3610, 928],\n",
              " [24, 1685, 564, 492, 2301, 3056, 653],\n",
              " [24, 4019, 245],\n",
              " [24, 720, 3113],\n",
              " [24, 4186],\n",
              " [24, 232, 4284],\n",
              " [24, 215, 3753, 543, 28, 69],\n",
              " [24, 453, 159, 69, 4],\n",
              " [24, 501, 9],\n",
              " [24, 1559, 25, 2757, 28, 14],\n",
              " [24, 1704, 74, 22, 1093, 851, 823],\n",
              " [24, 316, 237, 43, 5, 2766],\n",
              " [24, 78, 1024, 1945, 4794],\n",
              " [24, 78, 338, 27, 1095, 969, 5, 2762],\n",
              " [24, 78, 1340, 1718, 14, 3548],\n",
              " [24, 496, 2071, 4349, 72],\n",
              " [24, 3203, 81],\n",
              " [24, 3203, 2500, 69],\n",
              " [24, 89, 5, 4914, 1487, 68],\n",
              " [24, 89, 2429, 9],\n",
              " [24, 89, 1355, 103, 671, 14],\n",
              " [24, 422, 706, 1982, 552, 84, 28, 69],\n",
              " [24, 833, 1156, 28, 69],\n",
              " [24, 3680, 722],\n",
              " [24, 1745, 2747, 159, 115],\n",
              " [24, 1189, 7],\n",
              " [24, 1465, 9],\n",
              " [24, 80, 1530, 68],\n",
              " [24, 2179, 16, 55],\n",
              " [24, 27, 142, 20, 1659],\n",
              " [24, 27, 1095, 4969, 14, 9],\n",
              " [24, 692, 84, 1006, 382],\n",
              " [24, 692, 84, 615, 9],\n",
              " [24, 573, 66, 58],\n",
              " [24, 573, 13, 160, 1784],\n",
              " [24, 558, 20, 161],\n",
              " [24, 400, 309, 5, 4932, 1794, 10, 1185, 115],\n",
              " [24, 2608, 13, 3033],\n",
              " [24, 51, 3222, 14, 408],\n",
              " [24, 51, 3222, 14, 3019, 117],\n",
              " [24, 51, 60, 1953, 546, 35, 417],\n",
              " [24, 51, 60, 1953, 5, 2860, 126],\n",
              " [24, 51, 33, 3222, 1010, 126, 417],\n",
              " [24, 51, 3722],\n",
              " [24, 51, 5, 4524, 12, 314],\n",
              " [24, 51, 1338, 2457],\n",
              " [24, 884, 631, 16, 94],\n",
              " [24, 29, 36, 69],\n",
              " [24, 2219, 30, 1659, 9],\n",
              " [24, 4042, 256, 9],\n",
              " [24, 1013, 1927, 435],\n",
              " [24, 5, 4592, 534, 28, 69],\n",
              " [24, 5, 3598, 862, 4794, 26, 28, 69],\n",
              " [24, 832, 545, 52, 428],\n",
              " [24, 2649, 69],\n",
              " [24, 2649, 427],\n",
              " [24, 1872, 12, 158, 27, 68],\n",
              " [24, 1265, 163, 2179, 16, 55],\n",
              " [24, 4112, 934, 1781],\n",
              " [24, 956, 4432, 28, 536],\n",
              " [24, 956, 4708, 22, 41, 68],\n",
              " [24, 956, 4708, 527, 588, 5, 4941, 143, 5, 1924],\n",
              " [24, 127, 20, 115],\n",
              " [24, 1929, 778, 48, 1139, 28, 1838, 16, 55],\n",
              " [24, 140, 1625, 68],\n",
              " [24, 140, 293, 1675, 892, 64],\n",
              " [24, 2307, 1872, 1332, 57],\n",
              " [24, 769, 8, 22, 1093],\n",
              " [24, 769, 10, 27, 323],\n",
              " [24, 1771, 2179, 16, 55],\n",
              " [2453, 11, 854],\n",
              " [449, 262, 1577, 3942, 557, 28, 69],\n",
              " [449, 390, 522, 181, 3650, 1702, 179, 68],\n",
              " [449, 24, 1012, 26, 1357],\n",
              " [449, 313, 436],\n",
              " [449, 614, 186, 891, 30, 101, 28, 69],\n",
              " [449, 98, 150, 127, 20, 100, 57, 4],\n",
              " [449, 5, 4963, 27, 263],\n",
              " [449, 89, 136, 614, 1569, 555],\n",
              " [449, 89, 265, 4181, 774, 9],\n",
              " [449, 89, 4181, 774],\n",
              " [449, 27, 3786, 812, 66, 160, 36, 69],\n",
              " [449, 29, 66, 566],\n",
              " [449, 1034, 5, 4, 4, 4, 4],\n",
              " [449, 269, 58],\n",
              " [449, 109, 201, 5, 4968, 1033],\n",
              " [24, 11, 654, 3070],\n",
              " [24, 11, 3312, 786, 94, 16],\n",
              " [24, 11, 275, 1950, 153, 597, 16, 94],\n",
              " [24, 11, 1340, 786, 94],\n",
              " [24, 11, 608, 1389, 5, 4541, 651, 9],\n",
              " [24, 11, 1052, 428],\n",
              " [24, 11, 874, 786, 94],\n",
              " [24, 11, 3178, 7, 445, 757, 72],\n",
              " [24, 11, 80, 232, 4284],\n",
              " [24, 11, 3959, 1105, 1605, 1508, 9],\n",
              " [24, 11, 379, 1820, 55],\n",
              " [24, 11, 1307, 2570, 597, 16, 94],\n",
              " [24, 711, 27, 2766],\n",
              " [24, 775, 18, 82, 651],\n",
              " [24, 891, 2489],\n",
              " [1192, 3280],\n",
              " [1192, 518, 186],\n",
              " [1192, 899, 160, 195, 294],\n",
              " [1192, 84, 13, 139, 961],\n",
              " [24, 326, 591],\n",
              " [24, 18, 513, 2254, 377],\n",
              " [24, 18, 22, 278, 574, 13, 245],\n",
              " [24, 18, 22, 1929, 778, 48, 908],\n",
              " [24, 18, 1209, 715, 1952, 13, 1011, 150, 274],\n",
              " [24, 18, 3463, 20, 84, 79, 98, 7, 161],\n",
              " [24, 18, 1550, 49, 33, 783],\n",
              " [24, 18, 3001, 454, 48, 812, 30, 604, 9],\n",
              " [24, 18, 826, 111, 3070, 1651, 55],\n",
              " [283, 633, 4472],\n",
              " [283, 3138, 182],\n",
              " [283, 341, 853, 557, 28, 69],\n",
              " [283, 601, 58],\n",
              " [283, 1347, 2843, 776, 2697],\n",
              " [283, 292, 2805, 58],\n",
              " [283, 1554, 16, 3205],\n",
              " [283, 740, 39],\n",
              " [283, 740, 12, 1770],\n",
              " [283, 2624, 81],\n",
              " [283, 3021, 594],\n",
              " [283, 1625, 68],\n",
              " [283, 1273, 694, 3531, 96, 69],\n",
              " [283, 1189, 52, 190],\n",
              " [283, 1465, 579],\n",
              " [283, 99, 3489, 25, 2565, 2586, 662],\n",
              " [283, 4040, 351],\n",
              " [283, 2902, 1781],\n",
              " [283, 1883, 103, 245],\n",
              " [283, 109, 201, 49, 3113],\n",
              " [283, 1550, 2242],\n",
              " [283, 168, 28, 137, 14, 9],\n",
              " [283, 21, 102, 616, 36, 69],\n",
              " [283, 21, 102, 428],\n",
              " [24, 4513, 16, 70, 1251, 28, 69],\n",
              " [522, 341, 1643],\n",
              " [463, 475, 1971, 1239],\n",
              " [463, 717, 151, 242, 3452],\n",
              " [463, 7, 1911, 1568, 10, 185],\n",
              " [463, 11, 2145, 1246, 1569, 531, 51, 832, 651],\n",
              " [463, 294, 516, 1385, 325, 579],\n",
              " [463, 1299, 1390, 4042, 2386],\n",
              " [855, 98, 62, 194, 3748],\n",
              " [855, 2720, 949],\n",
              " [855, 3209, 572, 5, 371],\n",
              " [367, 780, 1214, 12, 66, 165, 11, 1824, 126],\n",
              " [367, 851, 51, 33, 1661],\n",
              " [367, 2003, 24, 35, 1552, 9],\n",
              " [367, 2003, 200, 199, 9],\n",
              " [367, 22, 220, 121, 2293, 314],\n",
              " [367, 398, 7, 325],\n",
              " [367, 2997, 51, 219],\n",
              " [367, 2997, 155, 1461],\n",
              " [367, 1189, 2003, 24, 39, 9],\n",
              " [367, 127, 71, 3376, 566, 9],\n",
              " [367, 2197, 51, 2373, 417],\n",
              " [3015, 589, 2078, 190],\n",
              " [3015, 89, 524, 149, 3219, 199],\n",
              " [3015, 15, 496, 2780, 869],\n",
              " [5, 4813, 4893, 3765, 12, 748, 958],\n",
              " [5, 4813, 4893, 4617, 12, 748],\n",
              " [3158, 33, 4273],\n",
              " [3158, 33, 4273, 2277, 332, 101, 57],\n",
              " [3158, 1084, 774],\n",
              " [3158, 29, 193, 501, 9],\n",
              " [3158, 12, 252, 811, 9],\n",
              " [506, 1772, 103, 1950, 663, 96, 69],\n",
              " [506, 41, 846, 26, 28, 366],\n",
              " [506, 1520, 81],\n",
              " [506, 89, 732, 13, 71, 8, 103, 263],\n",
              " [506, 89, 136, 1104, 1569, 555],\n",
              " [506, 114, 1788, 1261],\n",
              " [506, 158, 1520, 81],\n",
              " [506, 2649, 57],\n",
              " [4281, 683, 275, 4812, 181, 1622],\n",
              " [4281, 10, 323],\n",
              " [4281, 10, 323, 39, 1622],\n",
              " [200, 5, 4941, 1204, 1047, 476, 574, 13, 245],\n",
              " [606, 2954, 26, 28, 536],\n",
              " [606, 89, 265, 5, 4865, 702],\n",
              " [606, 51, 5, 4953, 730, 96, 69],\n",
              " [606, 1034],\n",
              " [606, 5, 4955, 101, 57],\n",
              " [606, 5, 4817, 118],\n",
              " [606, 2896, 57],\n",
              " [606, 7, 22, 5, 3977, 3977, 68],\n",
              " [606, 7, 22, 1622],\n",
              " [606, 7, 5, 4907, 2012, 1298],\n",
              " [606, 7, 158, 5, 4054, 57],\n",
              " [200, 221, 376, 55],\n",
              " [222, 3371, 146, 2676, 13, 952],\n",
              " [222, 1602, 2179, 3117, 93, 320, 317, 9],\n",
              " [2131, 10, 200, 833, 86, 28, 69],\n",
              " [2131, 10, 70, 4110, 241, 111, 28, 69],\n",
              " [222, 15, 1484, 7, 58],\n",
              " [222, 21, 208, 8, 22, 3641],\n",
              " [222, 21, 99, 2424, 81, 259],\n",
              " [222, 21, 434, 3556, 60, 266],\n",
              " [222, 10, 5, 4892, 14, 342, 520, 8, 82, 387, 117],\n",
              " [193, 873, 1664, 162],\n",
              " [193, 1664, 162],\n",
              " [193, 269, 120, 190, 57, 5, 1961],\n",
              " [193, 769, 86, 28, 501],\n",
              " [544, 3158, 18, 22, 488],\n",
              " [544, 769, 86, 28, 93, 229],\n",
              " [193, 35, 1615, 36, 69],\n",
              " [193, 1010, 126, 417],\n",
              " [193, 305, 138, 305, 981],\n",
              " [95, 2031, 2916, 16, 55],\n",
              " [95, 113, 312, 5, 1924],\n",
              " [95, 1472, 128, 5, 4963, 3119],\n",
              " [95, 4019, 172, 48, 98, 7, 406, 9],\n",
              " [95, 78, 338, 5, 4816, 4816, 68, 332, 101, 57],\n",
              " [95, 78, 51, 3362, 57, 4],\n",
              " [95, 7, 24, 33, 456, 784],\n",
              " [95, 7, 22, 1364],\n",
              " [95, 7, 22, 312, 37, 117],\n",
              " [95, 7, 22, 4038],\n",
              " [95, 7, 1532, 1961],\n",
              " [95, 7, 3565, 8, 22, 41, 1653, 173],\n",
              " [95, 7, 2381, 271, 26, 235],\n",
              " [95, 7, 2381, 26, 235],\n",
              " [95, 7, 570, 4279, 5, 4739],\n",
              " [95, 7, 570, 8, 22, 103, 2431],\n",
              " [95, 7, 33, 3911, 221, 727],\n",
              " [95, 7, 2631, 7, 325],\n",
              " [95, 7, 833, 435],\n",
              " [95, 7, 4283],\n",
              " [95, 7, 3178, 117, 1153, 377, 4],\n",
              " [95, 7, 3178, 18, 27, 33, 2457],\n",
              " [95, 7, 597, 10, 5, 4957, 68],\n",
              " [95, 7, 146, 575, 715, 151, 68],\n",
              " [95, 7, 575, 715, 2081, 1370],\n",
              " [95, 7, 321, 18, 27, 700],\n",
              " [95, 7, 2992, 121, 33, 488],\n",
              " [95, 7, 5, 4711, 1427, 31, 833, 435],\n",
              " [95, 12, 1664, 162],\n",
              " [95, 50, 2871, 3702, 16],\n",
              " [95, 50, 939, 398, 48, 70, 4788],\n",
              " [95, 50, 939, 7, 1415],\n",
              " [95, 163, 3362, 28, 69],\n",
              " [601, 1429, 31, 60, 570, 58],\n",
              " [601, 475, 142, 3599, 314],\n",
              " [601, 1382, 1150],\n",
              " [601, 1472, 1065, 1794, 5, 4963, 1153, 406],\n",
              " [601, 4019, 172, 714],\n",
              " [601, 1664, 162],\n",
              " [601, 3634, 31, 60, 570, 89, 33, 1481, 534, 199],\n",
              " [601, 1057, 31, 60, 570, 58],\n",
              " [1025, 1429, 31, 60, 570, 31, 33, 1309],\n",
              " [1025, 597, 10, 5, 4957, 68],\n",
              " [601, 163, 2031, 82, 401, 131, 55],\n",
              " [765, 24, 33, 2424],\n",
              " [765, 2492, 1449, 32, 27, 68],\n",
              " [765, 897, 423, 13, 2271],\n",
              " [765, 1372],\n",
              " [765, 2734, 18, 33, 1041, 594, 784, 4],\n",
              " [765, 89, 159, 1950, 565, 1122, 33, 4417, 199],\n",
              " [765, 3221, 18, 700],\n",
              " [765, 3221, 31, 394, 455, 2796, 68],\n",
              " [765, 1449, 33, 2424, 4],\n",
              " [765, 1449, 33, 117],\n",
              " [765, 1449, 8, 22, 27, 68],\n",
              " [765, 1281, 13, 68],\n",
              " [765, 165, 11, 33, 2424],\n",
              " [765, 2195, 1702, 1579],\n",
              " [765, 2195, 155, 423, 13, 2271],\n",
              " [4068, 2718, 244, 36, 69],\n",
              " [4068, 58],\n",
              " [4068, 201, 12, 58, 7, 14, 454],\n",
              " [60, 95, 224, 55, 9],\n",
              " [60, 95, 3837, 35, 377, 4],\n",
              " [60, 1092, 22, 3213],\n",
              " [60, 61, 8, 369, 2254],\n",
              " [60, 61, 8, 51, 369, 1839],\n",
              " [60, 517, 10, 1234, 1024, 5, 1010, 126, 377],\n",
              " [60, 398, 12, 566],\n",
              " [60, 398, 309, 10, 566],\n",
              " [60, 2670, 12, 404, 161],\n",
              " [60, 2670, 11, 404, 161, 9],\n",
              " [60, 3349, 22, 5, 4926, 4926, 68],\n",
              " [60, 49, 255, 142, 864],\n",
              " [60, 337, 50, 91, 30, 337, 158, 1516, 713, 121, 3101],\n",
              " [60, 1937, 22, 3281],\n",
              " [60, 1407, 137, 214, 181],\n",
              " [60, 1407, 2082],\n",
              " [60, 4279, 51, 5, 4524, 12, 314],\n",
              " [60, 3058, 5, 4917, 43, 39],\n",
              " [60, 107, 3837, 81],\n",
              " [60, 2384, 2139, 1301],\n",
              " [60, 1052, 37, 33, 2073],\n",
              " [60, 3257, 51, 1021, 68, 5, 2254],\n",
              " [60, 3257, 8, 1021, 2546],\n",
              " [60, 2527, 12, 1614, 182],\n",
              " [60, 2527, 48, 957, 99, 653],\n",
              " [60, 2143, 58],\n",
              " [60, 460, 781, 58],\n",
              " [60, 460, 15, 82, 299, 4574, 73, 69],\n",
              " [60, 460, 21, 560, 101, 2800, 15, 24, 81],\n",
              " [60, 99, 745, 320, 317, 9],\n",
              " [60, 1020],\n",
              " [60, 2295, 1018, 382],\n",
              " [60, 2476, 28, 366, 71, 8, 823],\n",
              " [60, 2476, 28, 366, 93, 5, 2590, 75, 3842],\n",
              " [60, 3309, 18, 919, 16, 5, 4938, 3206, 1140],\n",
              " [60, 5, 14, 101, 163, 60, 5, 4957, 1833, 527, 235],\n",
              " [60, 379, 10, 1401],\n",
              " [60, 5, 936, 15, 404, 3451],\n",
              " [60, 109, 279, 60, 5, 4957, 1833, 8, 4306],\n",
              " [60, 1492, 1175, 722],\n",
              " [60, 1492, 7, 5, 4941, 10, 13, 9],\n",
              " [60, 871, 160, 28, 69],\n",
              " [60, 871, 201, 12, 165, 11, 160, 28, 69],\n",
              " [88, 213, 13, 1435, 7],\n",
              " [88, 47, 1148, 1279, 28, 69],\n",
              " [88, 1264, 695, 158, 177, 243, 185],\n",
              " [88, 411, 18, 22, 41, 2228],\n",
              " [88, 24, 4654, 64],\n",
              " [88, 22, 4271, 245],\n",
              " [88, 22, 49, 4998, 10, 3826],\n",
              " [88, 22, 5, 4967, 13, 332, 2494, 9],\n",
              " [88, 22, 1088, 123, 68],\n",
              " [88, 91, 252, 71, 8, 254, 927],\n",
              " [88, 2488, 8, 1093],\n",
              " [88, 41, 1435, 7],\n",
              " [88, 71, 155, 89, 2673, 37, 259],\n",
              " [88, 5, 4914, 1487, 26, 96, 14],\n",
              " [88, 394, 1996, 1985, 152, 2638],\n",
              " [88, 5, 4963, 791, 3351],\n",
              " [88, 5, 4963, 29, 14, 573, 14, 382],\n",
              " [88, 955, 14],\n",
              " [88, 418, 3132, 1077, 265, 1510, 33, 481, 96, 371, 4],\n",
              " [88, 4120, 1845, 81],\n",
              " [88, 4120, 186, 81],\n",
              " [88, 1002, 1610, 10, 256],\n",
              " [88, 392, 794, 212, 476, 9],\n",
              " [88, 2723, 1104, 4998, 12, 1749, 69],\n",
              " [88, 169, 466, 543, 30, 69],\n",
              " [88, 89, 320, 86, 14, 382],\n",
              " [88, 792, 52, 1306, 768],\n",
              " [88, 136, 190, 1, 11, 654, 3070],\n",
              " [88, 265, 113, 4120, 18, 2467, 4],\n",
              " [88, 1189, 1807, 9],\n",
              " [88, 1189, 30, 1298],\n",
              " [88, 1189, 7, 9],\n",
              " [88, 791, 26, 615],\n",
              " [88, 791, 882, 97, 1018, 33, 981],\n",
              " [88, 5, 530, 398, 101, 314],\n",
              " [88, 4115, 10, 137, 57],\n",
              " [88, 29, 82, 211, 5, 4855, 2008, 1313],\n",
              " [88, 29, 28, 919, 39],\n",
              " [88, 29, 28, 469, 28, 536],\n",
              " [88, 29, 1269, 24, 18, 2219, 30],\n",
              " [88, 29, 52, 24, 33, 29, 28, 69],\n",
              " [88, 29, 52, 24, 3722, 377],\n",
              " [88, 29, 52, 577, 869, 377],\n",
              " [88, 645, 1610, 10, 256],\n",
              " [88, 3309, 18, 1691, 182],\n",
              " [88, 3309, 18, 1691, 214, 28, 14],\n",
              " [88, 3580, 11, 614, 18, 28, 69],\n",
              " [88, 158, 5, 3953, 73, 20, 54, 13, 566],\n",
              " [88, 3362, 235],\n",
              " [88, 180, 3767, 96, 69],\n",
              " [88, 3001, 454, 3758],\n",
              " [88, 4052, 10, 814],\n",
              " [88, 168, 66, 2601],\n",
              " [60, 74, 372, 136, 4969, 97, 1884, 1562],\n",
              " [60, 141, 521, 32, 2948, 387, 265, 2204],\n",
              " [60, 564, 378, 8, 382, 4],\n",
              " [60, 363, 50, 15, 404, 256],\n",
              " [60, 221, 2802, 492, 684, 16, 55, 4],\n",
              " [281, 411, 152, 952],\n",
              " [281, 384, 1223, 363, 1665],\n",
              " [281, 606, 501, 9],\n",
              " [281, 606, 406, 9],\n",
              " [281, 4138],\n",
              " [281, 1083, 16, 789, 3494, 9],\n",
              " [281, 1083, 16, 519, 9],\n",
              " [281, 614, 21, 16, 363, 1332, 57],\n",
              " [281, 614, 21, 4951, 7, 57],\n",
              " [281, 1291, 24, 97, 1062],\n",
              " [281, 1291, 192, 232, 186, 221, 186],\n",
              " [281, 1291, 192, 62, 115],\n",
              " [281, 1291, 128, 1062],\n",
              " [281, 275, 2323, 126],\n",
              " [281, 824, 4943, 2763],\n",
              " [281, 3610, 7, 72],\n",
              " [281, 937, 351],\n",
              " [281, 940, 311, 606, 3725],\n",
              " [281, 99, 699, 787, 81, 317],\n",
              " [281, 109, 50, 3434, 9],\n",
              " [281, 3393, 694, 564, 694, 136, 2858, 64, 4],\n",
              " [281, 282, 1270, 76, 1364],\n",
              " [281, 15, 574, 214, 824, 4943, 928],\n",
              " [281, 15, 275, 2323, 126, 377, 4],\n",
              " [281, 15, 1265, 50, 3434, 9],\n",
              " [281, 10, 411, 754],\n",
              " [281, 1274, 1834, 136, 2858, 64, 4],\n",
              " [60, 380, 275, 37],\n",
              " [5, 973, 228, 3073, 803, 606, 3725],\n",
              " [5, 973, 704, 4560],\n",
              " [2003, 24, 35, 1552, 9],\n",
              " [4325, 35, 1552],\n",
              " [2003, 464, 36, 69, 1901, 81],\n",
              " [4291, 5, 4826, 354, 57],\n",
              " [3720, 467, 683, 22, 41, 677],\n",
              " [3720, 467, 683, 1107, 3279],\n",
              " [2022, 5, 2590, 1336, 1039, 13, 343],\n",
              " [2022, 7, 5, 4715, 683, 468],\n",
              " [2022, 31, 5, 1427, 430, 11, 343],\n",
              " [2022, 31, 1039, 66, 343],\n",
              " [2022, 31, 1039, 66, 165, 11, 343],\n",
              " [274, 313, 9],\n",
              " [274, 313, 702],\n",
              " [274, 313, 153, 9],\n",
              " [274, 2229, 81],\n",
              " [274, 113, 98, 67, 231, 369, 9],\n",
              " [274, 1011, 150, 30, 5, 4959, 715, 2649],\n",
              " [274, 1011, 150, 285, 313, 81, 9],\n",
              " [274, 71, 27, 1194],\n",
              " [274, 71, 1241, 1093, 9],\n",
              " [274, 650, 51, 3478, 57],\n",
              " [274, 1111],\n",
              " [274, 2757, 159, 81],\n",
              " [274, 1372],\n",
              " [274, 2332, 35, 1372, 1313],\n",
              " [274, 158, 1520, 81],\n",
              " [274, 12, 103, 7, 4916, 221],\n",
              " [274, 12, 98, 5, 4978, 468, 9],\n",
              " [274, 12, 169, 76, 11, 1824, 182, 9],\n",
              " [274, 12, 33, 186, 9],\n",
              " [274, 3098, 2126, 3098, 68, 244, 2697],\n",
              " [274, 11, 295, 100, 153],\n",
              " [274, 11, 295, 115, 9],\n",
              " [274, 11, 1691, 153],\n",
              " [274, 11, 252, 295, 100, 153],\n",
              " [274, 11, 1452, 115],\n",
              " [22, 384, 2342, 173],\n",
              " [22, 411, 783],\n",
              " [22, 91, 1916, 1485, 101, 314],\n",
              " [22, 3259, 26, 36, 37, 5, 2194, 2501, 4],\n",
              " [22, 1918],\n",
              " [22, 1918, 25, 3726],\n",
              " [22, 408, 326, 28, 69],\n",
              " [22, 220, 121, 120, 190],\n",
              " [22, 41, 1366, 25, 1543, 3489, 81, 752, 2687, 74, 7, 227],\n",
              " [22, 41, 1973, 182],\n",
              " [22, 41, 2978],\n",
              " [22, 1644, 57],\n",
              " [22, 1364],\n",
              " [22, 948, 7, 1635],\n",
              " [22, 862, 2800, 4951, 26, 96, 536],\n",
              " [22, 675, 3298, 68],\n",
              " [22, 675, 1557, 5, 150, 28, 69, 25, 85, 410],\n",
              " [22, 675, 1557, 2223],\n",
              " [22, 1927, 3897, 152, 670, 97],\n",
              " [22, 768],\n",
              " [22, 278, 574, 13, 2467, 4],\n",
              " [22, 1444],\n",
              " [22, 573, 3697, 7, 223, 1218],\n",
              " [22, 1064, 173],\n",
              " [22, 1088, 123, 68, 776, 2697],\n",
              " [22, 1622, 25, 2453, 854],\n",
              " [22, 1622, 25, 1003, 4619, 151, 221, 69],\n",
              " [22, 2182, 11, 33, 118],\n",
              " [22, 2182, 244, 28, 69],\n",
              " [22, 1667, 74, 1983],\n",
              " [22, 756],\n",
              " [22, 756, 4, 3938, 75, 4],\n",
              " [22, 402, 158],\n",
              " [2056, 718, 831],\n",
              " [2056, 313, 702, 9],\n",
              " [657, 41, 1973, 57, 4],\n",
              " [657, 2808, 1444, 3530, 75],\n",
              " [4356, 381, 25, 2921, 5, 4580, 28, 536],\n",
              " [4356, 241, 1927, 245],\n",
              " [4356, 241, 3897, 245],\n",
              " [825, 76, 259],\n",
              " [5, 4559, 1043, 10, 1, 172, 4269, 9],\n",
              " [5, 4559, 1043, 10, 1, 667, 12, 172, 48, 727, 11, 4269, 9],\n",
              " [2716, 13, 5, 530, 118],\n",
              " [448, 1093, 25, 2220, 33, 82],\n",
              " [448, 27, 3355, 12, 30, 1840],\n",
              " [448, 692, 55],\n",
              " [448, 573, 30, 1840],\n",
              " [2220, 376, 55],\n",
              " [2220, 82, 35, 717, 2010, 263],\n",
              " ...)"
            ]
          },
          "metadata": {},
          "execution_count": 11
        }
      ],
      "source": [
        "q_id_tokens"
      ]
    },
    {
      "cell_type": "markdown",
      "id": "ae4ed700",
      "metadata": {
        "id": "ae4ed700"
      },
      "source": [
        "##### 학습용 데이터 (Q_input, A_input, A_target 생성)\n",
        "- Padding 처리"
      ]
    },
    {
      "cell_type": "code",
      "execution_count": 12,
      "id": "617e01d1",
      "metadata": {
        "colab": {
          "base_uri": "https://localhost:8080/"
        },
        "id": "617e01d1",
        "outputId": "4dfd1fd0-2af9-44c4-956a-8345d7925cb4"
      },
      "outputs": [
        {
          "output_type": "execute_result",
          "data": {
            "text/plain": [
              "(11823, 11823, 11823)"
            ]
          },
          "metadata": {},
          "execution_count": 12
        }
      ],
      "source": [
        "len(q_id_tokens), len(a_input_id_tokens), len(a_target_id_tokens)"
      ]
    },
    {
      "cell_type": "code",
      "execution_count": 13,
      "id": "618abf29",
      "metadata": {
        "id": "618abf29"
      },
      "outputs": [],
      "source": [
        "q_input_max_len = max([len(token) for token in q_id_tokens])\n",
        "a_input_max_len = max([len(token) for token in a_input_id_tokens])\n",
        "a_target_max_len = max([len(token) for token in a_target_id_tokens])\n",
        "\n",
        "num_words = min(VOCAB_SIZE, sp.get_piece_size())"
      ]
    },
    {
      "cell_type": "code",
      "execution_count": 14,
      "id": "89adbc5c",
      "metadata": {
        "id": "89adbc5c"
      },
      "outputs": [],
      "source": [
        "from tensorflow.keras.preprocessing.sequence import pad_sequences\n",
        "\n",
        "q_inputs_padded = pad_sequences(q_id_tokens, maxlen = q_input_max_len, padding = 'pre')\n",
        "a_inputs_padded = pad_sequences(a_input_id_tokens, maxlen = a_input_max_len, padding = 'post')\n",
        "a_targets_padded = pad_sequences(a_target_id_tokens, maxlen = a_target_max_len, padding = 'post')"
      ]
    },
    {
      "cell_type": "markdown",
      "id": "d4a02ed2",
      "metadata": {
        "id": "d4a02ed2"
      },
      "source": [
        "##### 모델 생성 및 학습"
      ]
    },
    {
      "cell_type": "code",
      "execution_count": 15,
      "id": "8bf9b90c",
      "metadata": {
        "id": "8bf9b90c"
      },
      "outputs": [],
      "source": [
        "# import tensorflow as tf\n",
        "# D = 64\n",
        "# BATCH = 32      # GPU / RAM 같은 하드웨어 문제로 인해 Batch로 쪼개서 임베딩 진행\n",
        "# enc_embed = tf.keras.layers.Embedding(input_dim=sp.vocab_size() +1, output_dim=D, mask_zero=True)\n",
        "\n",
        "# ds = tf.data.Dataset.from_tensor_slices(q_inputs_padded.astype('int32')).batch(BATCH)\n",
        "\n",
        "# embedded_tokens = []\n",
        "# for batch in ds:\n",
        "#     embedded_token = enc_embed(batch)\n",
        "#     embedded_tokens.append(embedded_token)"
      ]
    },
    {
      "cell_type": "code",
      "execution_count": 16,
      "id": "3d9731f9",
      "metadata": {
        "colab": {
          "base_uri": "https://localhost:8080/",
          "height": 241
        },
        "id": "3d9731f9",
        "outputId": "b1df3558-80b7-4f4a-fa83-ded8bd5a1496"
      },
      "outputs": [
        {
          "output_type": "display_data",
          "data": {
            "text/plain": [
              "\u001b[1mModel: \"functional\"\u001b[0m\n"
            ],
            "text/html": [
              "<pre style=\"white-space:pre;overflow-x:auto;line-height:normal;font-family:Menlo,'DejaVu Sans Mono',consolas,'Courier New',monospace\"><span style=\"font-weight: bold\">Model: \"functional\"</span>\n",
              "</pre>\n"
            ]
          },
          "metadata": {}
        },
        {
          "output_type": "display_data",
          "data": {
            "text/plain": [
              "┏━━━━━━━━━━━━━━━━━━━━━━━━━━━━━━━━━┳━━━━━━━━━━━━━━━━━━━━━━━━┳━━━━━━━━━━━━━━━┓\n",
              "┃\u001b[1m \u001b[0m\u001b[1mLayer (type)                   \u001b[0m\u001b[1m \u001b[0m┃\u001b[1m \u001b[0m\u001b[1mOutput Shape          \u001b[0m\u001b[1m \u001b[0m┃\u001b[1m \u001b[0m\u001b[1m      Param #\u001b[0m\u001b[1m \u001b[0m┃\n",
              "┡━━━━━━━━━━━━━━━━━━━━━━━━━━━━━━━━━╇━━━━━━━━━━━━━━━━━━━━━━━━╇━━━━━━━━━━━━━━━┩\n",
              "│ enc_in (\u001b[38;5;33mInputLayer\u001b[0m)             │ (\u001b[38;5;45mNone\u001b[0m, \u001b[38;5;34m25\u001b[0m)             │             \u001b[38;5;34m0\u001b[0m │\n",
              "├─────────────────────────────────┼────────────────────────┼───────────────┤\n",
              "│ embedding (\u001b[38;5;33mEmbedding\u001b[0m)           │ (\u001b[38;5;45mNone\u001b[0m, \u001b[38;5;34m25\u001b[0m, \u001b[38;5;34m64\u001b[0m)         │       \u001b[38;5;34m320,000\u001b[0m │\n",
              "├─────────────────────────────────┼────────────────────────┼───────────────┤\n",
              "│ lstm (\u001b[38;5;33mLSTM\u001b[0m)                     │ [(\u001b[38;5;45mNone\u001b[0m, \u001b[38;5;34m512\u001b[0m), (\u001b[38;5;45mNone\u001b[0m,   │     \u001b[38;5;34m1,181,696\u001b[0m │\n",
              "│                                 │ \u001b[38;5;34m512\u001b[0m), (\u001b[38;5;45mNone\u001b[0m, \u001b[38;5;34m512\u001b[0m)]     │               │\n",
              "└─────────────────────────────────┴────────────────────────┴───────────────┘\n"
            ],
            "text/html": [
              "<pre style=\"white-space:pre;overflow-x:auto;line-height:normal;font-family:Menlo,'DejaVu Sans Mono',consolas,'Courier New',monospace\">┏━━━━━━━━━━━━━━━━━━━━━━━━━━━━━━━━━┳━━━━━━━━━━━━━━━━━━━━━━━━┳━━━━━━━━━━━━━━━┓\n",
              "┃<span style=\"font-weight: bold\"> Layer (type)                    </span>┃<span style=\"font-weight: bold\"> Output Shape           </span>┃<span style=\"font-weight: bold\">       Param # </span>┃\n",
              "┡━━━━━━━━━━━━━━━━━━━━━━━━━━━━━━━━━╇━━━━━━━━━━━━━━━━━━━━━━━━╇━━━━━━━━━━━━━━━┩\n",
              "│ enc_in (<span style=\"color: #0087ff; text-decoration-color: #0087ff\">InputLayer</span>)             │ (<span style=\"color: #00d7ff; text-decoration-color: #00d7ff\">None</span>, <span style=\"color: #00af00; text-decoration-color: #00af00\">25</span>)             │             <span style=\"color: #00af00; text-decoration-color: #00af00\">0</span> │\n",
              "├─────────────────────────────────┼────────────────────────┼───────────────┤\n",
              "│ embedding (<span style=\"color: #0087ff; text-decoration-color: #0087ff\">Embedding</span>)           │ (<span style=\"color: #00d7ff; text-decoration-color: #00d7ff\">None</span>, <span style=\"color: #00af00; text-decoration-color: #00af00\">25</span>, <span style=\"color: #00af00; text-decoration-color: #00af00\">64</span>)         │       <span style=\"color: #00af00; text-decoration-color: #00af00\">320,000</span> │\n",
              "├─────────────────────────────────┼────────────────────────┼───────────────┤\n",
              "│ lstm (<span style=\"color: #0087ff; text-decoration-color: #0087ff\">LSTM</span>)                     │ [(<span style=\"color: #00d7ff; text-decoration-color: #00d7ff\">None</span>, <span style=\"color: #00af00; text-decoration-color: #00af00\">512</span>), (<span style=\"color: #00d7ff; text-decoration-color: #00d7ff\">None</span>,   │     <span style=\"color: #00af00; text-decoration-color: #00af00\">1,181,696</span> │\n",
              "│                                 │ <span style=\"color: #00af00; text-decoration-color: #00af00\">512</span>), (<span style=\"color: #00d7ff; text-decoration-color: #00d7ff\">None</span>, <span style=\"color: #00af00; text-decoration-color: #00af00\">512</span>)]     │               │\n",
              "└─────────────────────────────────┴────────────────────────┴───────────────┘\n",
              "</pre>\n"
            ]
          },
          "metadata": {}
        },
        {
          "output_type": "display_data",
          "data": {
            "text/plain": [
              "\u001b[1m Total params: \u001b[0m\u001b[38;5;34m1,501,696\u001b[0m (5.73 MB)\n"
            ],
            "text/html": [
              "<pre style=\"white-space:pre;overflow-x:auto;line-height:normal;font-family:Menlo,'DejaVu Sans Mono',consolas,'Courier New',monospace\"><span style=\"font-weight: bold\"> Total params: </span><span style=\"color: #00af00; text-decoration-color: #00af00\">1,501,696</span> (5.73 MB)\n",
              "</pre>\n"
            ]
          },
          "metadata": {}
        },
        {
          "output_type": "display_data",
          "data": {
            "text/plain": [
              "\u001b[1m Trainable params: \u001b[0m\u001b[38;5;34m1,501,696\u001b[0m (5.73 MB)\n"
            ],
            "text/html": [
              "<pre style=\"white-space:pre;overflow-x:auto;line-height:normal;font-family:Menlo,'DejaVu Sans Mono',consolas,'Courier New',monospace\"><span style=\"font-weight: bold\"> Trainable params: </span><span style=\"color: #00af00; text-decoration-color: #00af00\">1,501,696</span> (5.73 MB)\n",
              "</pre>\n"
            ]
          },
          "metadata": {}
        },
        {
          "output_type": "display_data",
          "data": {
            "text/plain": [
              "\u001b[1m Non-trainable params: \u001b[0m\u001b[38;5;34m0\u001b[0m (0.00 B)\n"
            ],
            "text/html": [
              "<pre style=\"white-space:pre;overflow-x:auto;line-height:normal;font-family:Menlo,'DejaVu Sans Mono',consolas,'Courier New',monospace\"><span style=\"font-weight: bold\"> Non-trainable params: </span><span style=\"color: #00af00; text-decoration-color: #00af00\">0</span> (0.00 B)\n",
              "</pre>\n"
            ]
          },
          "metadata": {}
        }
      ],
      "source": [
        "from tensorflow.keras import layers, models\n",
        "\n",
        "LATENT_DIM = 512\n",
        "D = 64\n",
        "# 1. 입력 정의\n",
        "# 실제 데이터를 넣는 코드가 아닌 이런 모양 / 타입의 데이터를 받을 거야 라고 선언하는 자리\n",
        "# 정수 ID 시퀀스는 fit() / predict() 할 때 넣는다\n",
        "encoder_inputs = layers.Input(shape = (q_input_max_len,), dtype='int32', name='enc_in')\n",
        "\n",
        "# 2. 임베딩 / 인코더 구성\n",
        "x = layers.Embedding(input_dim=num_words, output_dim=D)(encoder_inputs)\n",
        "\n",
        "_, h, c = layers.LSTM(LATENT_DIM, return_state=True)(x)\n",
        "encoder_states = [h,c]\n",
        "\n",
        "encoder_model = models.Model(inputs = encoder_inputs, outputs = encoder_states)\n",
        "\n",
        "# 3. 실제 데이터 (정수 ID sequence)를 실행 시 전달\n",
        "encoder_model.summary()"
      ]
    },
    {
      "cell_type": "markdown",
      "id": "6b8d7ae8",
      "metadata": {
        "id": "6b8d7ae8"
      },
      "source": [
        "**Encoder 생성**"
      ]
    },
    {
      "cell_type": "code",
      "execution_count": 16,
      "id": "5821c61a",
      "metadata": {
        "id": "5821c61a"
      },
      "outputs": [],
      "source": []
    },
    {
      "cell_type": "markdown",
      "id": "08ae992c",
      "metadata": {
        "id": "08ae992c"
      },
      "source": [
        "**Decoder (teacher - forcing 모델) 생성**"
      ]
    },
    {
      "cell_type": "code",
      "execution_count": 17,
      "id": "f3dea518",
      "metadata": {
        "colab": {
          "base_uri": "https://localhost:8080/",
          "height": 465
        },
        "collapsed": true,
        "id": "f3dea518",
        "outputId": "1c6f321f-30c3-41ff-aae7-8001c1c4d3c8"
      },
      "outputs": [
        {
          "output_type": "display_data",
          "data": {
            "text/plain": [
              "\u001b[1mModel: \"functional_1\"\u001b[0m\n"
            ],
            "text/html": [
              "<pre style=\"white-space:pre;overflow-x:auto;line-height:normal;font-family:Menlo,'DejaVu Sans Mono',consolas,'Courier New',monospace\"><span style=\"font-weight: bold\">Model: \"functional_1\"</span>\n",
              "</pre>\n"
            ]
          },
          "metadata": {}
        },
        {
          "output_type": "display_data",
          "data": {
            "text/plain": [
              "┏━━━━━━━━━━━━━━━━━━━━━┳━━━━━━━━━━━━━━━━━━━┳━━━━━━━━━━━━┳━━━━━━━━━━━━━━━━━━━┓\n",
              "┃\u001b[1m \u001b[0m\u001b[1mLayer (type)       \u001b[0m\u001b[1m \u001b[0m┃\u001b[1m \u001b[0m\u001b[1mOutput Shape     \u001b[0m\u001b[1m \u001b[0m┃\u001b[1m \u001b[0m\u001b[1m   Param #\u001b[0m\u001b[1m \u001b[0m┃\u001b[1m \u001b[0m\u001b[1mConnected to     \u001b[0m\u001b[1m \u001b[0m┃\n",
              "┡━━━━━━━━━━━━━━━━━━━━━╇━━━━━━━━━━━━━━━━━━━╇━━━━━━━━━━━━╇━━━━━━━━━━━━━━━━━━━┩\n",
              "│ enc_in (\u001b[38;5;33mInputLayer\u001b[0m) │ (\u001b[38;5;45mNone\u001b[0m, \u001b[38;5;34m25\u001b[0m)        │          \u001b[38;5;34m0\u001b[0m │ -                 │\n",
              "├─────────────────────┼───────────────────┼────────────┼───────────────────┤\n",
              "│ input_layer         │ (\u001b[38;5;45mNone\u001b[0m, \u001b[38;5;34m37\u001b[0m)        │          \u001b[38;5;34m0\u001b[0m │ -                 │\n",
              "│ (\u001b[38;5;33mInputLayer\u001b[0m)        │                   │            │                   │\n",
              "├─────────────────────┼───────────────────┼────────────┼───────────────────┤\n",
              "│ embedding           │ (\u001b[38;5;45mNone\u001b[0m, \u001b[38;5;34m25\u001b[0m, \u001b[38;5;34m64\u001b[0m)    │    \u001b[38;5;34m320,000\u001b[0m │ enc_in[\u001b[38;5;34m0\u001b[0m][\u001b[38;5;34m0\u001b[0m]      │\n",
              "│ (\u001b[38;5;33mEmbedding\u001b[0m)         │                   │            │                   │\n",
              "├─────────────────────┼───────────────────┼────────────┼───────────────────┤\n",
              "│ embedding_1         │ (\u001b[38;5;45mNone\u001b[0m, \u001b[38;5;34m37\u001b[0m, \u001b[38;5;34m64\u001b[0m)    │    \u001b[38;5;34m320,000\u001b[0m │ input_layer[\u001b[38;5;34m0\u001b[0m][\u001b[38;5;34m0\u001b[0m] │\n",
              "│ (\u001b[38;5;33mEmbedding\u001b[0m)         │                   │            │                   │\n",
              "├─────────────────────┼───────────────────┼────────────┼───────────────────┤\n",
              "│ lstm (\u001b[38;5;33mLSTM\u001b[0m)         │ [(\u001b[38;5;45mNone\u001b[0m, \u001b[38;5;34m512\u001b[0m),     │  \u001b[38;5;34m1,181,696\u001b[0m │ embedding[\u001b[38;5;34m0\u001b[0m][\u001b[38;5;34m0\u001b[0m]   │\n",
              "│                     │ (\u001b[38;5;45mNone\u001b[0m, \u001b[38;5;34m512\u001b[0m),      │            │                   │\n",
              "│                     │ (\u001b[38;5;45mNone\u001b[0m, \u001b[38;5;34m512\u001b[0m)]      │            │                   │\n",
              "├─────────────────────┼───────────────────┼────────────┼───────────────────┤\n",
              "│ lstm_1 (\u001b[38;5;33mLSTM\u001b[0m)       │ [(\u001b[38;5;45mNone\u001b[0m, \u001b[38;5;34m37\u001b[0m, \u001b[38;5;34m512\u001b[0m), │  \u001b[38;5;34m1,181,696\u001b[0m │ embedding_1[\u001b[38;5;34m0\u001b[0m][\u001b[38;5;34m0\u001b[0m… │\n",
              "│                     │ (\u001b[38;5;45mNone\u001b[0m, \u001b[38;5;34m512\u001b[0m),      │            │ lstm[\u001b[38;5;34m0\u001b[0m][\u001b[38;5;34m1\u001b[0m],       │\n",
              "│                     │ (\u001b[38;5;45mNone\u001b[0m, \u001b[38;5;34m512\u001b[0m)]      │            │ lstm[\u001b[38;5;34m0\u001b[0m][\u001b[38;5;34m2\u001b[0m]        │\n",
              "├─────────────────────┼───────────────────┼────────────┼───────────────────┤\n",
              "│ dense (\u001b[38;5;33mDense\u001b[0m)       │ (\u001b[38;5;45mNone\u001b[0m, \u001b[38;5;34m37\u001b[0m, \u001b[38;5;34m5000\u001b[0m)  │  \u001b[38;5;34m2,565,000\u001b[0m │ lstm_1[\u001b[38;5;34m0\u001b[0m][\u001b[38;5;34m0\u001b[0m]      │\n",
              "└─────────────────────┴───────────────────┴────────────┴───────────────────┘\n"
            ],
            "text/html": [
              "<pre style=\"white-space:pre;overflow-x:auto;line-height:normal;font-family:Menlo,'DejaVu Sans Mono',consolas,'Courier New',monospace\">┏━━━━━━━━━━━━━━━━━━━━━┳━━━━━━━━━━━━━━━━━━━┳━━━━━━━━━━━━┳━━━━━━━━━━━━━━━━━━━┓\n",
              "┃<span style=\"font-weight: bold\"> Layer (type)        </span>┃<span style=\"font-weight: bold\"> Output Shape      </span>┃<span style=\"font-weight: bold\">    Param # </span>┃<span style=\"font-weight: bold\"> Connected to      </span>┃\n",
              "┡━━━━━━━━━━━━━━━━━━━━━╇━━━━━━━━━━━━━━━━━━━╇━━━━━━━━━━━━╇━━━━━━━━━━━━━━━━━━━┩\n",
              "│ enc_in (<span style=\"color: #0087ff; text-decoration-color: #0087ff\">InputLayer</span>) │ (<span style=\"color: #00d7ff; text-decoration-color: #00d7ff\">None</span>, <span style=\"color: #00af00; text-decoration-color: #00af00\">25</span>)        │          <span style=\"color: #00af00; text-decoration-color: #00af00\">0</span> │ -                 │\n",
              "├─────────────────────┼───────────────────┼────────────┼───────────────────┤\n",
              "│ input_layer         │ (<span style=\"color: #00d7ff; text-decoration-color: #00d7ff\">None</span>, <span style=\"color: #00af00; text-decoration-color: #00af00\">37</span>)        │          <span style=\"color: #00af00; text-decoration-color: #00af00\">0</span> │ -                 │\n",
              "│ (<span style=\"color: #0087ff; text-decoration-color: #0087ff\">InputLayer</span>)        │                   │            │                   │\n",
              "├─────────────────────┼───────────────────┼────────────┼───────────────────┤\n",
              "│ embedding           │ (<span style=\"color: #00d7ff; text-decoration-color: #00d7ff\">None</span>, <span style=\"color: #00af00; text-decoration-color: #00af00\">25</span>, <span style=\"color: #00af00; text-decoration-color: #00af00\">64</span>)    │    <span style=\"color: #00af00; text-decoration-color: #00af00\">320,000</span> │ enc_in[<span style=\"color: #00af00; text-decoration-color: #00af00\">0</span>][<span style=\"color: #00af00; text-decoration-color: #00af00\">0</span>]      │\n",
              "│ (<span style=\"color: #0087ff; text-decoration-color: #0087ff\">Embedding</span>)         │                   │            │                   │\n",
              "├─────────────────────┼───────────────────┼────────────┼───────────────────┤\n",
              "│ embedding_1         │ (<span style=\"color: #00d7ff; text-decoration-color: #00d7ff\">None</span>, <span style=\"color: #00af00; text-decoration-color: #00af00\">37</span>, <span style=\"color: #00af00; text-decoration-color: #00af00\">64</span>)    │    <span style=\"color: #00af00; text-decoration-color: #00af00\">320,000</span> │ input_layer[<span style=\"color: #00af00; text-decoration-color: #00af00\">0</span>][<span style=\"color: #00af00; text-decoration-color: #00af00\">0</span>] │\n",
              "│ (<span style=\"color: #0087ff; text-decoration-color: #0087ff\">Embedding</span>)         │                   │            │                   │\n",
              "├─────────────────────┼───────────────────┼────────────┼───────────────────┤\n",
              "│ lstm (<span style=\"color: #0087ff; text-decoration-color: #0087ff\">LSTM</span>)         │ [(<span style=\"color: #00d7ff; text-decoration-color: #00d7ff\">None</span>, <span style=\"color: #00af00; text-decoration-color: #00af00\">512</span>),     │  <span style=\"color: #00af00; text-decoration-color: #00af00\">1,181,696</span> │ embedding[<span style=\"color: #00af00; text-decoration-color: #00af00\">0</span>][<span style=\"color: #00af00; text-decoration-color: #00af00\">0</span>]   │\n",
              "│                     │ (<span style=\"color: #00d7ff; text-decoration-color: #00d7ff\">None</span>, <span style=\"color: #00af00; text-decoration-color: #00af00\">512</span>),      │            │                   │\n",
              "│                     │ (<span style=\"color: #00d7ff; text-decoration-color: #00d7ff\">None</span>, <span style=\"color: #00af00; text-decoration-color: #00af00\">512</span>)]      │            │                   │\n",
              "├─────────────────────┼───────────────────┼────────────┼───────────────────┤\n",
              "│ lstm_1 (<span style=\"color: #0087ff; text-decoration-color: #0087ff\">LSTM</span>)       │ [(<span style=\"color: #00d7ff; text-decoration-color: #00d7ff\">None</span>, <span style=\"color: #00af00; text-decoration-color: #00af00\">37</span>, <span style=\"color: #00af00; text-decoration-color: #00af00\">512</span>), │  <span style=\"color: #00af00; text-decoration-color: #00af00\">1,181,696</span> │ embedding_1[<span style=\"color: #00af00; text-decoration-color: #00af00\">0</span>][<span style=\"color: #00af00; text-decoration-color: #00af00\">0</span>… │\n",
              "│                     │ (<span style=\"color: #00d7ff; text-decoration-color: #00d7ff\">None</span>, <span style=\"color: #00af00; text-decoration-color: #00af00\">512</span>),      │            │ lstm[<span style=\"color: #00af00; text-decoration-color: #00af00\">0</span>][<span style=\"color: #00af00; text-decoration-color: #00af00\">1</span>],       │\n",
              "│                     │ (<span style=\"color: #00d7ff; text-decoration-color: #00d7ff\">None</span>, <span style=\"color: #00af00; text-decoration-color: #00af00\">512</span>)]      │            │ lstm[<span style=\"color: #00af00; text-decoration-color: #00af00\">0</span>][<span style=\"color: #00af00; text-decoration-color: #00af00\">2</span>]        │\n",
              "├─────────────────────┼───────────────────┼────────────┼───────────────────┤\n",
              "│ dense (<span style=\"color: #0087ff; text-decoration-color: #0087ff\">Dense</span>)       │ (<span style=\"color: #00d7ff; text-decoration-color: #00d7ff\">None</span>, <span style=\"color: #00af00; text-decoration-color: #00af00\">37</span>, <span style=\"color: #00af00; text-decoration-color: #00af00\">5000</span>)  │  <span style=\"color: #00af00; text-decoration-color: #00af00\">2,565,000</span> │ lstm_1[<span style=\"color: #00af00; text-decoration-color: #00af00\">0</span>][<span style=\"color: #00af00; text-decoration-color: #00af00\">0</span>]      │\n",
              "└─────────────────────┴───────────────────┴────────────┴───────────────────┘\n",
              "</pre>\n"
            ]
          },
          "metadata": {}
        },
        {
          "output_type": "display_data",
          "data": {
            "text/plain": [
              "\u001b[1m Total params: \u001b[0m\u001b[38;5;34m5,568,392\u001b[0m (21.24 MB)\n"
            ],
            "text/html": [
              "<pre style=\"white-space:pre;overflow-x:auto;line-height:normal;font-family:Menlo,'DejaVu Sans Mono',consolas,'Courier New',monospace\"><span style=\"font-weight: bold\"> Total params: </span><span style=\"color: #00af00; text-decoration-color: #00af00\">5,568,392</span> (21.24 MB)\n",
              "</pre>\n"
            ]
          },
          "metadata": {}
        },
        {
          "output_type": "display_data",
          "data": {
            "text/plain": [
              "\u001b[1m Trainable params: \u001b[0m\u001b[38;5;34m5,568,392\u001b[0m (21.24 MB)\n"
            ],
            "text/html": [
              "<pre style=\"white-space:pre;overflow-x:auto;line-height:normal;font-family:Menlo,'DejaVu Sans Mono',consolas,'Courier New',monospace\"><span style=\"font-weight: bold\"> Trainable params: </span><span style=\"color: #00af00; text-decoration-color: #00af00\">5,568,392</span> (21.24 MB)\n",
              "</pre>\n"
            ]
          },
          "metadata": {}
        },
        {
          "output_type": "display_data",
          "data": {
            "text/plain": [
              "\u001b[1m Non-trainable params: \u001b[0m\u001b[38;5;34m0\u001b[0m (0.00 B)\n"
            ],
            "text/html": [
              "<pre style=\"white-space:pre;overflow-x:auto;line-height:normal;font-family:Menlo,'DejaVu Sans Mono',consolas,'Courier New',monospace\"><span style=\"font-weight: bold\"> Non-trainable params: </span><span style=\"color: #00af00; text-decoration-color: #00af00\">0</span> (0.00 B)\n",
              "</pre>\n"
            ]
          },
          "metadata": {}
        }
      ],
      "source": [
        "decoder_inputs = layers.Input(shape = (a_input_max_len,))\n",
        "a_embedding_layer = layers.Embedding(num_words, output_dim=D)\n",
        "x = a_embedding_layer(decoder_inputs)\n",
        "decoder_lstm = layers.LSTM(LATENT_DIM, return_sequences = True, return_state = True)\n",
        "x, h, c = decoder_lstm(x,   initial_state = encoder_states)\n",
        "decoder_dense = layers.Dense(num_words, activation = 'softmax')\n",
        "decoder_outputs = decoder_dense(x)\n",
        "\n",
        "decoder_teacher_forcing_model = models.Model(\n",
        "    inputs = [encoder_inputs, decoder_inputs],\n",
        "    outputs = decoder_outputs\n",
        ")\n",
        "\n",
        "decoder_teacher_forcing_model.summary()"
      ]
    },
    {
      "cell_type": "markdown",
      "id": "130fb71e",
      "metadata": {
        "id": "130fb71e"
      },
      "source": [
        "**학습**"
      ]
    },
    {
      "cell_type": "code",
      "execution_count": 18,
      "id": "9338e33f",
      "metadata": {
        "colab": {
          "base_uri": "https://localhost:8080/",
          "height": 868
        },
        "collapsed": true,
        "id": "9338e33f",
        "outputId": "ea2d2e3c-98e7-4cee-9323-ca24c9ca4ec7"
      },
      "outputs": [
        {
          "output_type": "execute_result",
          "data": {
            "image/png": "[encoded data removed]",
            "text/plain": [
              "<IPython.core.display.Image object>"
            ]
          },
          "metadata": {},
          "execution_count": 18
        }
      ],
      "source": [
        "from tensorflow.keras.utils import plot_model\n",
        "\n",
        "plot_model(decoder_teacher_forcing_model, show_shapes = True)"
      ]
    },
    {
      "cell_type": "code",
      "execution_count": 19,
      "id": "0f45e08c",
      "metadata": {
        "colab": {
          "base_uri": "https://localhost:8080/"
        },
        "collapsed": true,
        "id": "0f45e08c",
        "outputId": "c872324e-cae1-4b58-9f34-511b3e2d4f17"
      },
      "outputs": [
        {
          "output_type": "stream",
          "name": "stdout",
          "text": [
            "Epoch 1/100\n",
            "\u001b[1m146/146\u001b[0m \u001b[32m━━━━━━━━━━━━━━━━━━━━\u001b[0m\u001b[37m\u001b[0m \u001b[1m15s\u001b[0m 63ms/step - accuracy: 0.7665 - loss: 2.5498 - val_accuracy: 0.8054 - val_loss: 1.4515\n",
            "Epoch 2/100\n",
            "\u001b[1m146/146\u001b[0m \u001b[32m━━━━━━━━━━━━━━━━━━━━\u001b[0m\u001b[37m\u001b[0m \u001b[1m16s\u001b[0m 60ms/step - accuracy: 0.8403 - loss: 1.1311 - val_accuracy: 0.8078 - val_loss: 1.3724\n",
            "Epoch 3/100\n",
            "\u001b[1m146/146\u001b[0m \u001b[32m━━━━━━━━━━━━━━━━━━━━\u001b[0m\u001b[37m\u001b[0m \u001b[1m11s\u001b[0m 63ms/step - accuracy: 0.8419 - loss: 1.0668 - val_accuracy: 0.8105 - val_loss: 1.3423\n",
            "Epoch 4/100\n",
            "\u001b[1m146/146\u001b[0m \u001b[32m━━━━━━━━━━━━━━━━━━━━\u001b[0m\u001b[37m\u001b[0m \u001b[1m10s\u001b[0m 61ms/step - accuracy: 0.8457 - loss: 1.0174 - val_accuracy: 0.8154 - val_loss: 1.3217\n",
            "Epoch 5/100\n",
            "\u001b[1m146/146\u001b[0m \u001b[32m━━━━━━━━━━━━━━━━━━━━\u001b[0m\u001b[37m\u001b[0m \u001b[1m9s\u001b[0m 61ms/step - accuracy: 0.8475 - loss: 0.9986 - val_accuracy: 0.8172 - val_loss: 1.3142\n",
            "Epoch 6/100\n",
            "\u001b[1m146/146\u001b[0m \u001b[32m━━━━━━━━━━━━━━━━━━━━\u001b[0m\u001b[37m\u001b[0m \u001b[1m10s\u001b[0m 63ms/step - accuracy: 0.8508 - loss: 0.9598 - val_accuracy: 0.8172 - val_loss: 1.3060\n",
            "Epoch 7/100\n",
            "\u001b[1m146/146\u001b[0m \u001b[32m━━━━━━━━━━━━━━━━━━━━\u001b[0m\u001b[37m\u001b[0m \u001b[1m10s\u001b[0m 62ms/step - accuracy: 0.8509 - loss: 0.9461 - val_accuracy: 0.8193 - val_loss: 1.2941\n",
            "Epoch 8/100\n",
            "\u001b[1m146/146\u001b[0m \u001b[32m━━━━━━━━━━━━━━━━━━━━\u001b[0m\u001b[37m\u001b[0m \u001b[1m10s\u001b[0m 63ms/step - accuracy: 0.8554 - loss: 0.9067 - val_accuracy: 0.8219 - val_loss: 1.2809\n",
            "Epoch 9/100\n",
            "\u001b[1m146/146\u001b[0m \u001b[32m━━━━━━━━━━━━━━━━━━━━\u001b[0m\u001b[37m\u001b[0m \u001b[1m10s\u001b[0m 65ms/step - accuracy: 0.8570 - loss: 0.8824 - val_accuracy: 0.8233 - val_loss: 1.2699\n",
            "Epoch 10/100\n",
            "\u001b[1m146/146\u001b[0m \u001b[32m━━━━━━━━━━━━━━━━━━━━\u001b[0m\u001b[37m\u001b[0m \u001b[1m9s\u001b[0m 64ms/step - accuracy: 0.8602 - loss: 0.8512 - val_accuracy: 0.8247 - val_loss: 1.2619\n",
            "Epoch 11/100\n",
            "\u001b[1m146/146\u001b[0m \u001b[32m━━━━━━━━━━━━━━━━━━━━\u001b[0m\u001b[37m\u001b[0m \u001b[1m9s\u001b[0m 63ms/step - accuracy: 0.8626 - loss: 0.8253 - val_accuracy: 0.8262 - val_loss: 1.2606\n",
            "Epoch 12/100\n",
            "\u001b[1m146/146\u001b[0m \u001b[32m━━━━━━━━━━━━━━━━━━━━\u001b[0m\u001b[37m\u001b[0m \u001b[1m10s\u001b[0m 63ms/step - accuracy: 0.8670 - loss: 0.7908 - val_accuracy: 0.8274 - val_loss: 1.2580\n",
            "Epoch 13/100\n",
            "\u001b[1m146/146\u001b[0m \u001b[32m━━━━━━━━━━━━━━━━━━━━\u001b[0m\u001b[37m\u001b[0m \u001b[1m9s\u001b[0m 62ms/step - accuracy: 0.8698 - loss: 0.7608 - val_accuracy: 0.8286 - val_loss: 1.2551\n",
            "Epoch 14/100\n",
            "\u001b[1m146/146\u001b[0m \u001b[32m━━━━━━━━━━━━━━━━━━━━\u001b[0m\u001b[37m\u001b[0m \u001b[1m10s\u001b[0m 62ms/step - accuracy: 0.8735 - loss: 0.7293 - val_accuracy: 0.8300 - val_loss: 1.2545\n",
            "Epoch 15/100\n",
            "\u001b[1m146/146\u001b[0m \u001b[32m━━━━━━━━━━━━━━━━━━━━\u001b[0m\u001b[37m\u001b[0m \u001b[1m10s\u001b[0m 62ms/step - accuracy: 0.8782 - loss: 0.6967 - val_accuracy: 0.8308 - val_loss: 1.2585\n",
            "Epoch 16/100\n",
            "\u001b[1m146/146\u001b[0m \u001b[32m━━━━━━━━━━━━━━━━━━━━\u001b[0m\u001b[37m\u001b[0m \u001b[1m9s\u001b[0m 64ms/step - accuracy: 0.8829 - loss: 0.6613 - val_accuracy: 0.8318 - val_loss: 1.2619\n",
            "Epoch 17/100\n",
            "\u001b[1m146/146\u001b[0m \u001b[32m━━━━━━━━━━━━━━━━━━━━\u001b[0m\u001b[37m\u001b[0m \u001b[1m10s\u001b[0m 63ms/step - accuracy: 0.8857 - loss: 0.6399 - val_accuracy: 0.8322 - val_loss: 1.2684\n",
            "Epoch 18/100\n",
            "\u001b[1m146/146\u001b[0m \u001b[32m━━━━━━━━━━━━━━━━━━━━\u001b[0m\u001b[37m\u001b[0m \u001b[1m9s\u001b[0m 62ms/step - accuracy: 0.8910 - loss: 0.6045 - val_accuracy: 0.8327 - val_loss: 1.2754\n",
            "Epoch 19/100\n",
            "\u001b[1m146/146\u001b[0m \u001b[32m━━━━━━━━━━━━━━━━━━━━\u001b[0m\u001b[37m\u001b[0m \u001b[1m10s\u001b[0m 63ms/step - accuracy: 0.8958 - loss: 0.5780 - val_accuracy: 0.8332 - val_loss: 1.2833\n",
            "Epoch 20/100\n",
            "\u001b[1m146/146\u001b[0m \u001b[32m━━━━━━━━━━━━━━━━━━━━\u001b[0m\u001b[37m\u001b[0m \u001b[1m9s\u001b[0m 63ms/step - accuracy: 0.8985 - loss: 0.5571 - val_accuracy: 0.8328 - val_loss: 1.2922\n",
            "Epoch 21/100\n",
            "\u001b[1m146/146\u001b[0m \u001b[32m━━━━━━━━━━━━━━━━━━━━\u001b[0m\u001b[37m\u001b[0m \u001b[1m9s\u001b[0m 64ms/step - accuracy: 0.9025 - loss: 0.5302 - val_accuracy: 0.8337 - val_loss: 1.3001\n",
            "Epoch 22/100\n",
            "\u001b[1m146/146\u001b[0m \u001b[32m━━━━━━━━━━━━━━━━━━━━\u001b[0m\u001b[37m\u001b[0m \u001b[1m9s\u001b[0m 63ms/step - accuracy: 0.9065 - loss: 0.5064 - val_accuracy: 0.8336 - val_loss: 1.3129\n",
            "Epoch 23/100\n",
            "\u001b[1m146/146\u001b[0m \u001b[32m━━━━━━━━━━━━━━━━━━━━\u001b[0m\u001b[37m\u001b[0m \u001b[1m10s\u001b[0m 62ms/step - accuracy: 0.9112 - loss: 0.4804 - val_accuracy: 0.8343 - val_loss: 1.3213\n",
            "Epoch 24/100\n",
            "\u001b[1m146/146\u001b[0m \u001b[32m━━━━━━━━━━━━━━━━━━━━\u001b[0m\u001b[37m\u001b[0m \u001b[1m10s\u001b[0m 63ms/step - accuracy: 0.9147 - loss: 0.4601 - val_accuracy: 0.8342 - val_loss: 1.3347\n",
            "Epoch 25/100\n",
            "\u001b[1m146/146\u001b[0m \u001b[32m━━━━━━━━━━━━━━━━━━━━\u001b[0m\u001b[37m\u001b[0m \u001b[1m9s\u001b[0m 63ms/step - accuracy: 0.9177 - loss: 0.4419 - val_accuracy: 0.8344 - val_loss: 1.3465\n",
            "Epoch 26/100\n",
            "\u001b[1m146/146\u001b[0m \u001b[32m━━━━━━━━━━━━━━━━━━━━\u001b[0m\u001b[37m\u001b[0m \u001b[1m10s\u001b[0m 63ms/step - accuracy: 0.9226 - loss: 0.4170 - val_accuracy: 0.8349 - val_loss: 1.3575\n",
            "Epoch 27/100\n",
            "\u001b[1m146/146\u001b[0m \u001b[32m━━━━━━━━━━━━━━━━━━━━\u001b[0m\u001b[37m\u001b[0m \u001b[1m10s\u001b[0m 63ms/step - accuracy: 0.9264 - loss: 0.3967 - val_accuracy: 0.8351 - val_loss: 1.3696\n",
            "Epoch 28/100\n",
            "\u001b[1m146/146\u001b[0m \u001b[32m━━━━━━━━━━━━━━━━━━━━\u001b[0m\u001b[37m\u001b[0m \u001b[1m10s\u001b[0m 63ms/step - accuracy: 0.9290 - loss: 0.3847 - val_accuracy: 0.8349 - val_loss: 1.3817\n",
            "Epoch 29/100\n",
            "\u001b[1m146/146\u001b[0m \u001b[32m━━━━━━━━━━━━━━━━━━━━\u001b[0m\u001b[37m\u001b[0m \u001b[1m10s\u001b[0m 64ms/step - accuracy: 0.9327 - loss: 0.3629 - val_accuracy: 0.8348 - val_loss: 1.3943\n",
            "Epoch 30/100\n",
            "\u001b[1m146/146\u001b[0m \u001b[32m━━━━━━━━━━━━━━━━━━━━\u001b[0m\u001b[37m\u001b[0m \u001b[1m9s\u001b[0m 63ms/step - accuracy: 0.9357 - loss: 0.3464 - val_accuracy: 0.8350 - val_loss: 1.4139\n",
            "Epoch 31/100\n",
            "\u001b[1m146/146\u001b[0m \u001b[32m━━━━━━━━━━━━━━━━━━━━\u001b[0m\u001b[37m\u001b[0m \u001b[1m9s\u001b[0m 65ms/step - accuracy: 0.9382 - loss: 0.3317 - val_accuracy: 0.8351 - val_loss: 1.4239\n",
            "Epoch 32/100\n",
            "\u001b[1m146/146\u001b[0m \u001b[32m━━━━━━━━━━━━━━━━━━━━\u001b[0m\u001b[37m\u001b[0m \u001b[1m10s\u001b[0m 63ms/step - accuracy: 0.9403 - loss: 0.3217 - val_accuracy: 0.8349 - val_loss: 1.4396\n",
            "Epoch 33/100\n",
            "\u001b[1m146/146\u001b[0m \u001b[32m━━━━━━━━━━━━━━━━━━━━\u001b[0m\u001b[37m\u001b[0m \u001b[1m10s\u001b[0m 64ms/step - accuracy: 0.9430 - loss: 0.3049 - val_accuracy: 0.8352 - val_loss: 1.4551\n",
            "Epoch 34/100\n",
            "\u001b[1m146/146\u001b[0m \u001b[32m━━━━━━━━━━━━━━━━━━━━\u001b[0m\u001b[37m\u001b[0m \u001b[1m9s\u001b[0m 62ms/step - accuracy: 0.9451 - loss: 0.2941 - val_accuracy: 0.8356 - val_loss: 1.4655\n",
            "Epoch 35/100\n",
            "\u001b[1m146/146\u001b[0m \u001b[32m━━━━━━━━━━━━━━━━━━━━\u001b[0m\u001b[37m\u001b[0m \u001b[1m10s\u001b[0m 65ms/step - accuracy: 0.9473 - loss: 0.2813 - val_accuracy: 0.8355 - val_loss: 1.4833\n",
            "Epoch 36/100\n",
            "\u001b[1m146/146\u001b[0m \u001b[32m━━━━━━━━━━━━━━━━━━━━\u001b[0m\u001b[37m\u001b[0m \u001b[1m10s\u001b[0m 63ms/step - accuracy: 0.9492 - loss: 0.2697 - val_accuracy: 0.8355 - val_loss: 1.4933\n",
            "Epoch 37/100\n",
            "\u001b[1m146/146\u001b[0m \u001b[32m━━━━━━━━━━━━━━━━━━━━\u001b[0m\u001b[37m\u001b[0m \u001b[1m10s\u001b[0m 63ms/step - accuracy: 0.9513 - loss: 0.2577 - val_accuracy: 0.8349 - val_loss: 1.5110\n",
            "Epoch 38/100\n",
            "\u001b[1m146/146\u001b[0m \u001b[32m━━━━━━━━━━━━━━━━━━━━\u001b[0m\u001b[37m\u001b[0m \u001b[1m10s\u001b[0m 64ms/step - accuracy: 0.9536 - loss: 0.2448 - val_accuracy: 0.8353 - val_loss: 1.5249\n",
            "Epoch 39/100\n",
            "\u001b[1m146/146\u001b[0m \u001b[32m━━━━━━━━━━━━━━━━━━━━\u001b[0m\u001b[37m\u001b[0m \u001b[1m10s\u001b[0m 64ms/step - accuracy: 0.9547 - loss: 0.2373 - val_accuracy: 0.8350 - val_loss: 1.5388\n",
            "Epoch 40/100\n",
            "\u001b[1m146/146\u001b[0m \u001b[32m━━━━━━━━━━━━━━━━━━━━\u001b[0m\u001b[37m\u001b[0m \u001b[1m9s\u001b[0m 63ms/step - accuracy: 0.9562 - loss: 0.2280 - val_accuracy: 0.8352 - val_loss: 1.5535\n",
            "Epoch 41/100\n",
            "\u001b[1m146/146\u001b[0m \u001b[32m━━━━━━━━━━━━━━━━━━━━\u001b[0m\u001b[37m\u001b[0m \u001b[1m9s\u001b[0m 63ms/step - accuracy: 0.9582 - loss: 0.2167 - val_accuracy: 0.8354 - val_loss: 1.5728\n",
            "Epoch 42/100\n",
            "\u001b[1m146/146\u001b[0m \u001b[32m━━━━━━━━━━━━━━━━━━━━\u001b[0m\u001b[37m\u001b[0m \u001b[1m9s\u001b[0m 63ms/step - accuracy: 0.9600 - loss: 0.2076 - val_accuracy: 0.8350 - val_loss: 1.5809\n",
            "Epoch 43/100\n",
            "\u001b[1m146/146\u001b[0m \u001b[32m━━━━━━━━━━━━━━━━━━━━\u001b[0m\u001b[37m\u001b[0m \u001b[1m10s\u001b[0m 63ms/step - accuracy: 0.9616 - loss: 0.1989 - val_accuracy: 0.8347 - val_loss: 1.6006\n",
            "Epoch 44/100\n",
            "\u001b[1m146/146\u001b[0m \u001b[32m━━━━━━━━━━━━━━━━━━━━\u001b[0m\u001b[37m\u001b[0m \u001b[1m10s\u001b[0m 63ms/step - accuracy: 0.9633 - loss: 0.1892 - val_accuracy: 0.8348 - val_loss: 1.6189\n",
            "Epoch 45/100\n",
            "\u001b[1m146/146\u001b[0m \u001b[32m━━━━━━━━━━━━━━━━━━━━\u001b[0m\u001b[37m\u001b[0m \u001b[1m10s\u001b[0m 62ms/step - accuracy: 0.9652 - loss: 0.1799 - val_accuracy: 0.8352 - val_loss: 1.6296\n",
            "Epoch 46/100\n",
            "\u001b[1m146/146\u001b[0m \u001b[32m━━━━━━━━━━━━━━━━━━━━\u001b[0m\u001b[37m\u001b[0m \u001b[1m10s\u001b[0m 63ms/step - accuracy: 0.9668 - loss: 0.1705 - val_accuracy: 0.8349 - val_loss: 1.6469\n",
            "Epoch 47/100\n",
            "\u001b[1m146/146\u001b[0m \u001b[32m━━━━━━━━━━━━━━━━━━━━\u001b[0m\u001b[37m\u001b[0m \u001b[1m10s\u001b[0m 63ms/step - accuracy: 0.9683 - loss: 0.1621 - val_accuracy: 0.8352 - val_loss: 1.6649\n",
            "Epoch 48/100\n",
            "\u001b[1m146/146\u001b[0m \u001b[32m━━━━━━━━━━━━━━━━━━━━\u001b[0m\u001b[37m\u001b[0m \u001b[1m9s\u001b[0m 63ms/step - accuracy: 0.9697 - loss: 0.1542 - val_accuracy: 0.8346 - val_loss: 1.6766\n",
            "Epoch 49/100\n",
            "\u001b[1m146/146\u001b[0m \u001b[32m━━━━━━━━━━━━━━━━━━━━\u001b[0m\u001b[37m\u001b[0m \u001b[1m9s\u001b[0m 63ms/step - accuracy: 0.9713 - loss: 0.1458 - val_accuracy: 0.8352 - val_loss: 1.6966\n",
            "Epoch 50/100\n",
            "\u001b[1m146/146\u001b[0m \u001b[32m━━━━━━━━━━━━━━━━━━━━\u001b[0m\u001b[37m\u001b[0m \u001b[1m10s\u001b[0m 64ms/step - accuracy: 0.9731 - loss: 0.1376 - val_accuracy: 0.8349 - val_loss: 1.7135\n",
            "Epoch 51/100\n",
            "\u001b[1m146/146\u001b[0m \u001b[32m━━━━━━━━━━━━━━━━━━━━\u001b[0m\u001b[37m\u001b[0m \u001b[1m10s\u001b[0m 62ms/step - accuracy: 0.9750 - loss: 0.1307 - val_accuracy: 0.8349 - val_loss: 1.7278\n",
            "Epoch 52/100\n",
            "\u001b[1m146/146\u001b[0m \u001b[32m━━━━━━━━━━━━━━━━━━━━\u001b[0m\u001b[37m\u001b[0m \u001b[1m10s\u001b[0m 63ms/step - accuracy: 0.9764 - loss: 0.1217 - val_accuracy: 0.8349 - val_loss: 1.7404\n",
            "Epoch 53/100\n",
            "\u001b[1m146/146\u001b[0m \u001b[32m━━━━━━━━━━━━━━━━━━━━\u001b[0m\u001b[37m\u001b[0m \u001b[1m9s\u001b[0m 65ms/step - accuracy: 0.9783 - loss: 0.1139 - val_accuracy: 0.8347 - val_loss: 1.7639\n",
            "Epoch 54/100\n",
            "\u001b[1m146/146\u001b[0m \u001b[32m━━━━━━━━━━━━━━━━━━━━\u001b[0m\u001b[37m\u001b[0m \u001b[1m10s\u001b[0m 65ms/step - accuracy: 0.9802 - loss: 0.1070 - val_accuracy: 0.8343 - val_loss: 1.7756\n",
            "Epoch 55/100\n",
            "\u001b[1m146/146\u001b[0m \u001b[32m━━━━━━━━━━━━━━━━━━━━\u001b[0m\u001b[37m\u001b[0m \u001b[1m10s\u001b[0m 63ms/step - accuracy: 0.9817 - loss: 0.0991 - val_accuracy: 0.8346 - val_loss: 1.7923\n",
            "Epoch 56/100\n",
            "\u001b[1m146/146\u001b[0m \u001b[32m━━━━━━━━━━━━━━━━━━━━\u001b[0m\u001b[37m\u001b[0m \u001b[1m10s\u001b[0m 64ms/step - accuracy: 0.9837 - loss: 0.0916 - val_accuracy: 0.8343 - val_loss: 1.8080\n",
            "Epoch 57/100\n",
            "\u001b[1m146/146\u001b[0m \u001b[32m━━━━━━━━━━━━━━━━━━━━\u001b[0m\u001b[37m\u001b[0m \u001b[1m10s\u001b[0m 62ms/step - accuracy: 0.9851 - loss: 0.0845 - val_accuracy: 0.8346 - val_loss: 1.8270\n",
            "Epoch 58/100\n",
            "\u001b[1m146/146\u001b[0m \u001b[32m━━━━━━━━━━━━━━━━━━━━\u001b[0m\u001b[37m\u001b[0m \u001b[1m11s\u001b[0m 64ms/step - accuracy: 0.9865 - loss: 0.0783 - val_accuracy: 0.8346 - val_loss: 1.8442\n",
            "Epoch 59/100\n",
            "\u001b[1m146/146\u001b[0m \u001b[32m━━━━━━━━━━━━━━━━━━━━\u001b[0m\u001b[37m\u001b[0m \u001b[1m10s\u001b[0m 65ms/step - accuracy: 0.9878 - loss: 0.0720 - val_accuracy: 0.8344 - val_loss: 1.8596\n",
            "Epoch 60/100\n",
            "\u001b[1m146/146\u001b[0m \u001b[32m━━━━━━━━━━━━━━━━━━━━\u001b[0m\u001b[37m\u001b[0m \u001b[1m10s\u001b[0m 63ms/step - accuracy: 0.9893 - loss: 0.0664 - val_accuracy: 0.8343 - val_loss: 1.8760\n",
            "Epoch 61/100\n",
            "\u001b[1m146/146\u001b[0m \u001b[32m━━━━━━━━━━━━━━━━━━━━\u001b[0m\u001b[37m\u001b[0m \u001b[1m10s\u001b[0m 65ms/step - accuracy: 0.9907 - loss: 0.0600 - val_accuracy: 0.8346 - val_loss: 1.8943\n",
            "Epoch 62/100\n",
            "\u001b[1m146/146\u001b[0m \u001b[32m━━━━━━━━━━━━━━━━━━━━\u001b[0m\u001b[37m\u001b[0m \u001b[1m10s\u001b[0m 66ms/step - accuracy: 0.9921 - loss: 0.0547 - val_accuracy: 0.8345 - val_loss: 1.9084\n",
            "Epoch 63/100\n",
            "\u001b[1m146/146\u001b[0m \u001b[32m━━━━━━━━━━━━━━━━━━━━\u001b[0m\u001b[37m\u001b[0m \u001b[1m9s\u001b[0m 64ms/step - accuracy: 0.9930 - loss: 0.0491 - val_accuracy: 0.8346 - val_loss: 1.9225\n",
            "Epoch 64/100\n",
            "\u001b[1m146/146\u001b[0m \u001b[32m━━━━━━━━━━━━━━━━━━━━\u001b[0m\u001b[37m\u001b[0m \u001b[1m10s\u001b[0m 63ms/step - accuracy: 0.9940 - loss: 0.0450 - val_accuracy: 0.8342 - val_loss: 1.9381\n",
            "Epoch 65/100\n",
            "\u001b[1m146/146\u001b[0m \u001b[32m━━━━━━━━━━━━━━━━━━━━\u001b[0m\u001b[37m\u001b[0m \u001b[1m11s\u001b[0m 65ms/step - accuracy: 0.9951 - loss: 0.0403 - val_accuracy: 0.8346 - val_loss: 1.9525\n",
            "Epoch 66/100\n",
            "\u001b[1m146/146\u001b[0m \u001b[32m━━━━━━━━━━━━━━━━━━━━\u001b[0m\u001b[37m\u001b[0m \u001b[1m10s\u001b[0m 63ms/step - accuracy: 0.9959 - loss: 0.0360 - val_accuracy: 0.8341 - val_loss: 1.9661\n",
            "Epoch 67/100\n",
            "\u001b[1m146/146\u001b[0m \u001b[32m━━━━━━━━━━━━━━━━━━━━\u001b[0m\u001b[37m\u001b[0m \u001b[1m9s\u001b[0m 63ms/step - accuracy: 0.9966 - loss: 0.0325 - val_accuracy: 0.8343 - val_loss: 1.9874\n",
            "Epoch 68/100\n",
            "\u001b[1m146/146\u001b[0m \u001b[32m━━━━━━━━━━━━━━━━━━━━\u001b[0m\u001b[37m\u001b[0m \u001b[1m9s\u001b[0m 64ms/step - accuracy: 0.9973 - loss: 0.0289 - val_accuracy: 0.8341 - val_loss: 1.9959\n",
            "Epoch 69/100\n",
            "\u001b[1m146/146\u001b[0m \u001b[32m━━━━━━━━━━━━━━━━━━━━\u001b[0m\u001b[37m\u001b[0m \u001b[1m10s\u001b[0m 63ms/step - accuracy: 0.9976 - loss: 0.0260 - val_accuracy: 0.8345 - val_loss: 2.0105\n",
            "Epoch 70/100\n",
            "\u001b[1m146/146\u001b[0m \u001b[32m━━━━━━━━━━━━━━━━━━━━\u001b[0m\u001b[37m\u001b[0m \u001b[1m10s\u001b[0m 64ms/step - accuracy: 0.9983 - loss: 0.0226 - val_accuracy: 0.8342 - val_loss: 2.0246\n",
            "Epoch 71/100\n",
            "\u001b[1m146/146\u001b[0m \u001b[32m━━━━━━━━━━━━━━━━━━━━\u001b[0m\u001b[37m\u001b[0m \u001b[1m9s\u001b[0m 65ms/step - accuracy: 0.9986 - loss: 0.0200 - val_accuracy: 0.8344 - val_loss: 2.0386\n",
            "Epoch 72/100\n",
            "\u001b[1m146/146\u001b[0m \u001b[32m━━━━━━━━━━━━━━━━━━━━\u001b[0m\u001b[37m\u001b[0m \u001b[1m10s\u001b[0m 65ms/step - accuracy: 0.9991 - loss: 0.0173 - val_accuracy: 0.8339 - val_loss: 2.0521\n",
            "Epoch 73/100\n",
            "\u001b[1m146/146\u001b[0m \u001b[32m━━━━━━━━━━━━━━━━━━━━\u001b[0m\u001b[37m\u001b[0m \u001b[1m10s\u001b[0m 63ms/step - accuracy: 0.9993 - loss: 0.0153 - val_accuracy: 0.8344 - val_loss: 2.0634\n",
            "Epoch 74/100\n",
            "\u001b[1m146/146\u001b[0m \u001b[32m━━━━━━━━━━━━━━━━━━━━\u001b[0m\u001b[37m\u001b[0m \u001b[1m9s\u001b[0m 63ms/step - accuracy: 0.9994 - loss: 0.0141 - val_accuracy: 0.8341 - val_loss: 2.0761\n",
            "Epoch 75/100\n",
            "\u001b[1m146/146\u001b[0m \u001b[32m━━━━━━━━━━━━━━━━━━━━\u001b[0m\u001b[37m\u001b[0m \u001b[1m9s\u001b[0m 63ms/step - accuracy: 0.9996 - loss: 0.0123 - val_accuracy: 0.8347 - val_loss: 2.0897\n",
            "Epoch 76/100\n",
            "\u001b[1m146/146\u001b[0m \u001b[32m━━━━━━━━━━━━━━━━━━━━\u001b[0m\u001b[37m\u001b[0m \u001b[1m10s\u001b[0m 63ms/step - accuracy: 0.9996 - loss: 0.0107 - val_accuracy: 0.8342 - val_loss: 2.1047\n",
            "Epoch 77/100\n",
            "\u001b[1m146/146\u001b[0m \u001b[32m━━━━━━━━━━━━━━━━━━━━\u001b[0m\u001b[37m\u001b[0m \u001b[1m9s\u001b[0m 64ms/step - accuracy: 0.9983 - loss: 0.0161 - val_accuracy: 0.8324 - val_loss: 2.1002\n",
            "Epoch 78/100\n",
            "\u001b[1m146/146\u001b[0m \u001b[32m━━━━━━━━━━━━━━━━━━━━\u001b[0m\u001b[37m\u001b[0m \u001b[1m10s\u001b[0m 63ms/step - accuracy: 0.9979 - loss: 0.0205 - val_accuracy: 0.8337 - val_loss: 2.1188\n",
            "Epoch 79/100\n",
            "\u001b[1m146/146\u001b[0m \u001b[32m━━━━━━━━━━━━━━━━━━━━\u001b[0m\u001b[37m\u001b[0m \u001b[1m9s\u001b[0m 64ms/step - accuracy: 0.9995 - loss: 0.0112 - val_accuracy: 0.8340 - val_loss: 2.1343\n",
            "Epoch 80/100\n",
            "\u001b[1m146/146\u001b[0m \u001b[32m━━━━━━━━━━━━━━━━━━━━\u001b[0m\u001b[37m\u001b[0m \u001b[1m10s\u001b[0m 63ms/step - accuracy: 0.9998 - loss: 0.0077 - val_accuracy: 0.8342 - val_loss: 2.1464\n",
            "Epoch 81/100\n",
            "\u001b[1m146/146\u001b[0m \u001b[32m━━━━━━━━━━━━━━━━━━━━\u001b[0m\u001b[37m\u001b[0m \u001b[1m10s\u001b[0m 63ms/step - accuracy: 0.9998 - loss: 0.0065 - val_accuracy: 0.8344 - val_loss: 2.1549\n",
            "Epoch 82/100\n",
            "\u001b[1m146/146\u001b[0m \u001b[32m━━━━━━━━━━━━━━━━━━━━\u001b[0m\u001b[37m\u001b[0m \u001b[1m10s\u001b[0m 63ms/step - accuracy: 0.9998 - loss: 0.0058 - val_accuracy: 0.8345 - val_loss: 2.1658\n",
            "Epoch 83/100\n",
            "\u001b[1m146/146\u001b[0m \u001b[32m━━━━━━━━━━━━━━━━━━━━\u001b[0m\u001b[37m\u001b[0m \u001b[1m9s\u001b[0m 63ms/step - accuracy: 0.9999 - loss: 0.0051 - val_accuracy: 0.8343 - val_loss: 2.1745\n",
            "Epoch 84/100\n",
            "\u001b[1m146/146\u001b[0m \u001b[32m━━━━━━━━━━━━━━━━━━━━\u001b[0m\u001b[37m\u001b[0m \u001b[1m9s\u001b[0m 64ms/step - accuracy: 0.9998 - loss: 0.0046 - val_accuracy: 0.8344 - val_loss: 2.1832\n",
            "Epoch 85/100\n",
            "\u001b[1m146/146\u001b[0m \u001b[32m━━━━━━━━━━━━━━━━━━━━\u001b[0m\u001b[37m\u001b[0m \u001b[1m10s\u001b[0m 63ms/step - accuracy: 0.9998 - loss: 0.0044 - val_accuracy: 0.8343 - val_loss: 2.1927\n",
            "Epoch 86/100\n",
            "\u001b[1m146/146\u001b[0m \u001b[32m━━━━━━━━━━━━━━━━━━━━\u001b[0m\u001b[37m\u001b[0m \u001b[1m10s\u001b[0m 63ms/step - accuracy: 0.9998 - loss: 0.0039 - val_accuracy: 0.8344 - val_loss: 2.2018\n",
            "Epoch 87/100\n",
            "\u001b[1m146/146\u001b[0m \u001b[32m━━━━━━━━━━━━━━━━━━━━\u001b[0m\u001b[37m\u001b[0m \u001b[1m9s\u001b[0m 63ms/step - accuracy: 0.9998 - loss: 0.0037 - val_accuracy: 0.8343 - val_loss: 2.2078\n",
            "Epoch 88/100\n",
            "\u001b[1m146/146\u001b[0m \u001b[32m━━━━━━━━━━━━━━━━━━━━\u001b[0m\u001b[37m\u001b[0m \u001b[1m9s\u001b[0m 65ms/step - accuracy: 0.9998 - loss: 0.0034 - val_accuracy: 0.8345 - val_loss: 2.2180\n",
            "Epoch 89/100\n",
            "\u001b[1m146/146\u001b[0m \u001b[32m━━━━━━━━━━━━━━━━━━━━\u001b[0m\u001b[37m\u001b[0m \u001b[1m10s\u001b[0m 65ms/step - accuracy: 0.9998 - loss: 0.0032 - val_accuracy: 0.8344 - val_loss: 2.2241\n",
            "Epoch 90/100\n",
            "\u001b[1m146/146\u001b[0m \u001b[32m━━━━━━━━━━━━━━━━━━━━\u001b[0m\u001b[37m\u001b[0m \u001b[1m10s\u001b[0m 64ms/step - accuracy: 0.9998 - loss: 0.0031 - val_accuracy: 0.8344 - val_loss: 2.2330\n",
            "Epoch 91/100\n",
            "\u001b[1m146/146\u001b[0m \u001b[32m━━━━━━━━━━━━━━━━━━━━\u001b[0m\u001b[37m\u001b[0m \u001b[1m10s\u001b[0m 63ms/step - accuracy: 0.9998 - loss: 0.0029 - val_accuracy: 0.8342 - val_loss: 2.2428\n",
            "Epoch 92/100\n",
            "\u001b[1m146/146\u001b[0m \u001b[32m━━━━━━━━━━━━━━━━━━━━\u001b[0m\u001b[37m\u001b[0m \u001b[1m10s\u001b[0m 63ms/step - accuracy: 0.9998 - loss: 0.0026 - val_accuracy: 0.8344 - val_loss: 2.2501\n",
            "Epoch 93/100\n",
            "\u001b[1m146/146\u001b[0m \u001b[32m━━━━━━━━━━━━━━━━━━━━\u001b[0m\u001b[37m\u001b[0m \u001b[1m9s\u001b[0m 63ms/step - accuracy: 0.9998 - loss: 0.0025 - val_accuracy: 0.8344 - val_loss: 2.2595\n",
            "Epoch 94/100\n",
            "\u001b[1m146/146\u001b[0m \u001b[32m━━━━━━━━━━━━━━━━━━━━\u001b[0m\u001b[37m\u001b[0m \u001b[1m10s\u001b[0m 63ms/step - accuracy: 0.9998 - loss: 0.0024 - val_accuracy: 0.8342 - val_loss: 2.2673\n",
            "Epoch 95/100\n",
            "\u001b[1m146/146\u001b[0m \u001b[32m━━━━━━━━━━━━━━━━━━━━\u001b[0m\u001b[37m\u001b[0m \u001b[1m9s\u001b[0m 64ms/step - accuracy: 0.9998 - loss: 0.0023 - val_accuracy: 0.8342 - val_loss: 2.2743\n",
            "Epoch 96/100\n",
            "\u001b[1m146/146\u001b[0m \u001b[32m━━━━━━━━━━━━━━━━━━━━\u001b[0m\u001b[37m\u001b[0m \u001b[1m10s\u001b[0m 64ms/step - accuracy: 0.9998 - loss: 0.0021 - val_accuracy: 0.8343 - val_loss: 2.2828\n",
            "Epoch 97/100\n",
            "\u001b[1m146/146\u001b[0m \u001b[32m━━━━━━━━━━━━━━━━━━━━\u001b[0m\u001b[37m\u001b[0m \u001b[1m10s\u001b[0m 64ms/step - accuracy: 0.9998 - loss: 0.0020 - val_accuracy: 0.8342 - val_loss: 2.2925\n",
            "Epoch 98/100\n",
            "\u001b[1m146/146\u001b[0m \u001b[32m━━━━━━━━━━━━━━━━━━━━\u001b[0m\u001b[37m\u001b[0m \u001b[1m9s\u001b[0m 64ms/step - accuracy: 0.9998 - loss: 0.0019 - val_accuracy: 0.8341 - val_loss: 2.2977\n",
            "Epoch 99/100\n",
            "\u001b[1m146/146\u001b[0m \u001b[32m━━━━━━━━━━━━━━━━━━━━\u001b[0m\u001b[37m\u001b[0m \u001b[1m9s\u001b[0m 65ms/step - accuracy: 0.9998 - loss: 0.0018 - val_accuracy: 0.8342 - val_loss: 2.3112\n",
            "Epoch 100/100\n",
            "\u001b[1m146/146\u001b[0m \u001b[32m━━━━━━━━━━━━━━━━━━━━\u001b[0m\u001b[37m\u001b[0m \u001b[1m10s\u001b[0m 64ms/step - accuracy: 0.9998 - loss: 0.0017 - val_accuracy: 0.8344 - val_loss: 2.3158\n"
          ]
        },
        {
          "output_type": "execute_result",
          "data": {
            "text/plain": [
              "<keras.src.callbacks.history.History at 0x7a1f3458f7d0>"
            ]
          },
          "metadata": {},
          "execution_count": 19
        }
      ],
      "source": [
        "decoder_teacher_forcing_model.compile(\n",
        "    loss = 'sparse_categorical_crossentropy',\n",
        "    optimizer = 'adam',\n",
        "    metrics = ['accuracy']\n",
        ")\n",
        "\n",
        "decoder_teacher_forcing_model.fit(\n",
        "    [q_inputs_padded,a_inputs_padded],\n",
        "    a_targets_padded,\n",
        "    batch_size = 65,\n",
        "    epochs = 100,\n",
        "    validation_split = 0.2\n",
        ")"
      ]
    },
    {
      "cell_type": "code",
      "source": [
        "# 모델 저장\n",
        "decoder_teacher_forcing_model.save('decoder_teacher_forcing_model.keras')"
      ],
      "metadata": {
        "id": "JBqyGqGWGDia"
      },
      "id": "JBqyGqGWGDia",
      "execution_count": 20,
      "outputs": []
    },
    {
      "cell_type": "code",
      "source": [
        "# 모델 로드\n",
        "from tensorflow.keras.models import load_model\n",
        "\n",
        "decoder_teacher_forcing_model = load_model('decoder_teacher_forcing_model.keras')"
      ],
      "metadata": {
        "id": "wOhOW2hdGFtH"
      },
      "id": "wOhOW2hdGFtH",
      "execution_count": 28,
      "outputs": []
    },
    {
      "cell_type": "markdown",
      "id": "582c9024",
      "metadata": {
        "id": "582c9024"
      },
      "source": [
        "##### 모델 추론"
      ]
    },
    {
      "cell_type": "code",
      "source": [
        "decoder_hidden_state = layers.Input(shape = (LATENT_DIM,))\n",
        "decoder_cell_state = layers.Input(shape = (LATENT_DIM,))\n",
        "decoder_states_inputs = [decoder_hidden_state, decoder_cell_state]\n",
        "\n",
        "decoder_single_input = layers.Input(shape = (1,))\n",
        "\n",
        "x= a_embedding_layer(decoder_single_input)\n",
        "\n",
        "x, h, c = decoder_lstm(x, initial_state = decoder_states_inputs)\n",
        "decoder_states = [h,c]\n",
        "\n",
        "decoder_outputs = decoder_dense(x)\n",
        "\n",
        "decoder_inference_model = models.Model(\n",
        "    inputs = [decoder_single_input] + decoder_states_inputs,\n",
        "    outputs = [decoder_outputs] + decoder_states\n",
        ")\n",
        "\n",
        "decoder_inference_model.summary()"
      ],
      "metadata": {
        "colab": {
          "base_uri": "https://localhost:8080/",
          "height": 417
        },
        "collapsed": true,
        "id": "jfdx5f8uGI11",
        "outputId": "fa630254-5fae-4296-872b-c977db6ce005"
      },
      "id": "jfdx5f8uGI11",
      "execution_count": 29,
      "outputs": [
        {
          "output_type": "display_data",
          "data": {
            "text/plain": [
              "\u001b[1mModel: \"functional_3\"\u001b[0m\n"
            ],
            "text/html": [
              "<pre style=\"white-space:pre;overflow-x:auto;line-height:normal;font-family:Menlo,'DejaVu Sans Mono',consolas,'Courier New',monospace\"><span style=\"font-weight: bold\">Model: \"functional_3\"</span>\n",
              "</pre>\n"
            ]
          },
          "metadata": {}
        },
        {
          "output_type": "display_data",
          "data": {
            "text/plain": [
              "┏━━━━━━━━━━━━━━━━━━━━━┳━━━━━━━━━━━━━━━━━━━┳━━━━━━━━━━━━┳━━━━━━━━━━━━━━━━━━━┓\n",
              "┃\u001b[1m \u001b[0m\u001b[1mLayer (type)       \u001b[0m\u001b[1m \u001b[0m┃\u001b[1m \u001b[0m\u001b[1mOutput Shape     \u001b[0m\u001b[1m \u001b[0m┃\u001b[1m \u001b[0m\u001b[1m   Param #\u001b[0m\u001b[1m \u001b[0m┃\u001b[1m \u001b[0m\u001b[1mConnected to     \u001b[0m\u001b[1m \u001b[0m┃\n",
              "┡━━━━━━━━━━━━━━━━━━━━━╇━━━━━━━━━━━━━━━━━━━╇━━━━━━━━━━━━╇━━━━━━━━━━━━━━━━━━━┩\n",
              "│ input_layer_6       │ (\u001b[38;5;45mNone\u001b[0m, \u001b[38;5;34m1\u001b[0m)         │          \u001b[38;5;34m0\u001b[0m │ -                 │\n",
              "│ (\u001b[38;5;33mInputLayer\u001b[0m)        │                   │            │                   │\n",
              "├─────────────────────┼───────────────────┼────────────┼───────────────────┤\n",
              "│ embedding_1         │ (\u001b[38;5;45mNone\u001b[0m, \u001b[38;5;34m1\u001b[0m, \u001b[38;5;34m64\u001b[0m)     │    \u001b[38;5;34m320,000\u001b[0m │ input_layer_6[\u001b[38;5;34m0\u001b[0m]… │\n",
              "│ (\u001b[38;5;33mEmbedding\u001b[0m)         │                   │            │                   │\n",
              "├─────────────────────┼───────────────────┼────────────┼───────────────────┤\n",
              "│ input_layer_4       │ (\u001b[38;5;45mNone\u001b[0m, \u001b[38;5;34m512\u001b[0m)       │          \u001b[38;5;34m0\u001b[0m │ -                 │\n",
              "│ (\u001b[38;5;33mInputLayer\u001b[0m)        │                   │            │                   │\n",
              "├─────────────────────┼───────────────────┼────────────┼───────────────────┤\n",
              "│ input_layer_5       │ (\u001b[38;5;45mNone\u001b[0m, \u001b[38;5;34m512\u001b[0m)       │          \u001b[38;5;34m0\u001b[0m │ -                 │\n",
              "│ (\u001b[38;5;33mInputLayer\u001b[0m)        │                   │            │                   │\n",
              "├─────────────────────┼───────────────────┼────────────┼───────────────────┤\n",
              "│ lstm_1 (\u001b[38;5;33mLSTM\u001b[0m)       │ [(\u001b[38;5;45mNone\u001b[0m, \u001b[38;5;34m1\u001b[0m, \u001b[38;5;34m512\u001b[0m),  │  \u001b[38;5;34m1,181,696\u001b[0m │ embedding_1[\u001b[38;5;34m2\u001b[0m][\u001b[38;5;34m0\u001b[0m… │\n",
              "│                     │ (\u001b[38;5;45mNone\u001b[0m, \u001b[38;5;34m512\u001b[0m),      │            │ input_layer_4[\u001b[38;5;34m0\u001b[0m]… │\n",
              "│                     │ (\u001b[38;5;45mNone\u001b[0m, \u001b[38;5;34m512\u001b[0m)]      │            │ input_layer_5[\u001b[38;5;34m0\u001b[0m]… │\n",
              "├─────────────────────┼───────────────────┼────────────┼───────────────────┤\n",
              "│ dense (\u001b[38;5;33mDense\u001b[0m)       │ (\u001b[38;5;45mNone\u001b[0m, \u001b[38;5;34m1\u001b[0m, \u001b[38;5;34m5000\u001b[0m)   │  \u001b[38;5;34m2,565,000\u001b[0m │ lstm_1[\u001b[38;5;34m2\u001b[0m][\u001b[38;5;34m0\u001b[0m]      │\n",
              "└─────────────────────┴───────────────────┴────────────┴───────────────────┘\n"
            ],
            "text/html": [
              "<pre style=\"white-space:pre;overflow-x:auto;line-height:normal;font-family:Menlo,'DejaVu Sans Mono',consolas,'Courier New',monospace\">┏━━━━━━━━━━━━━━━━━━━━━┳━━━━━━━━━━━━━━━━━━━┳━━━━━━━━━━━━┳━━━━━━━━━━━━━━━━━━━┓\n",
              "┃<span style=\"font-weight: bold\"> Layer (type)        </span>┃<span style=\"font-weight: bold\"> Output Shape      </span>┃<span style=\"font-weight: bold\">    Param # </span>┃<span style=\"font-weight: bold\"> Connected to      </span>┃\n",
              "┡━━━━━━━━━━━━━━━━━━━━━╇━━━━━━━━━━━━━━━━━━━╇━━━━━━━━━━━━╇━━━━━━━━━━━━━━━━━━━┩\n",
              "│ input_layer_6       │ (<span style=\"color: #00d7ff; text-decoration-color: #00d7ff\">None</span>, <span style=\"color: #00af00; text-decoration-color: #00af00\">1</span>)         │          <span style=\"color: #00af00; text-decoration-color: #00af00\">0</span> │ -                 │\n",
              "│ (<span style=\"color: #0087ff; text-decoration-color: #0087ff\">InputLayer</span>)        │                   │            │                   │\n",
              "├─────────────────────┼───────────────────┼────────────┼───────────────────┤\n",
              "│ embedding_1         │ (<span style=\"color: #00d7ff; text-decoration-color: #00d7ff\">None</span>, <span style=\"color: #00af00; text-decoration-color: #00af00\">1</span>, <span style=\"color: #00af00; text-decoration-color: #00af00\">64</span>)     │    <span style=\"color: #00af00; text-decoration-color: #00af00\">320,000</span> │ input_layer_6[<span style=\"color: #00af00; text-decoration-color: #00af00\">0</span>]… │\n",
              "│ (<span style=\"color: #0087ff; text-decoration-color: #0087ff\">Embedding</span>)         │                   │            │                   │\n",
              "├─────────────────────┼───────────────────┼────────────┼───────────────────┤\n",
              "│ input_layer_4       │ (<span style=\"color: #00d7ff; text-decoration-color: #00d7ff\">None</span>, <span style=\"color: #00af00; text-decoration-color: #00af00\">512</span>)       │          <span style=\"color: #00af00; text-decoration-color: #00af00\">0</span> │ -                 │\n",
              "│ (<span style=\"color: #0087ff; text-decoration-color: #0087ff\">InputLayer</span>)        │                   │            │                   │\n",
              "├─────────────────────┼───────────────────┼────────────┼───────────────────┤\n",
              "│ input_layer_5       │ (<span style=\"color: #00d7ff; text-decoration-color: #00d7ff\">None</span>, <span style=\"color: #00af00; text-decoration-color: #00af00\">512</span>)       │          <span style=\"color: #00af00; text-decoration-color: #00af00\">0</span> │ -                 │\n",
              "│ (<span style=\"color: #0087ff; text-decoration-color: #0087ff\">InputLayer</span>)        │                   │            │                   │\n",
              "├─────────────────────┼───────────────────┼────────────┼───────────────────┤\n",
              "│ lstm_1 (<span style=\"color: #0087ff; text-decoration-color: #0087ff\">LSTM</span>)       │ [(<span style=\"color: #00d7ff; text-decoration-color: #00d7ff\">None</span>, <span style=\"color: #00af00; text-decoration-color: #00af00\">1</span>, <span style=\"color: #00af00; text-decoration-color: #00af00\">512</span>),  │  <span style=\"color: #00af00; text-decoration-color: #00af00\">1,181,696</span> │ embedding_1[<span style=\"color: #00af00; text-decoration-color: #00af00\">2</span>][<span style=\"color: #00af00; text-decoration-color: #00af00\">0</span>… │\n",
              "│                     │ (<span style=\"color: #00d7ff; text-decoration-color: #00d7ff\">None</span>, <span style=\"color: #00af00; text-decoration-color: #00af00\">512</span>),      │            │ input_layer_4[<span style=\"color: #00af00; text-decoration-color: #00af00\">0</span>]… │\n",
              "│                     │ (<span style=\"color: #00d7ff; text-decoration-color: #00d7ff\">None</span>, <span style=\"color: #00af00; text-decoration-color: #00af00\">512</span>)]      │            │ input_layer_5[<span style=\"color: #00af00; text-decoration-color: #00af00\">0</span>]… │\n",
              "├─────────────────────┼───────────────────┼────────────┼───────────────────┤\n",
              "│ dense (<span style=\"color: #0087ff; text-decoration-color: #0087ff\">Dense</span>)       │ (<span style=\"color: #00d7ff; text-decoration-color: #00d7ff\">None</span>, <span style=\"color: #00af00; text-decoration-color: #00af00\">1</span>, <span style=\"color: #00af00; text-decoration-color: #00af00\">5000</span>)   │  <span style=\"color: #00af00; text-decoration-color: #00af00\">2,565,000</span> │ lstm_1[<span style=\"color: #00af00; text-decoration-color: #00af00\">2</span>][<span style=\"color: #00af00; text-decoration-color: #00af00\">0</span>]      │\n",
              "└─────────────────────┴───────────────────┴────────────┴───────────────────┘\n",
              "</pre>\n"
            ]
          },
          "metadata": {}
        },
        {
          "output_type": "display_data",
          "data": {
            "text/plain": [
              "\u001b[1m Total params: \u001b[0m\u001b[38;5;34m4,066,696\u001b[0m (15.51 MB)\n"
            ],
            "text/html": [
              "<pre style=\"white-space:pre;overflow-x:auto;line-height:normal;font-family:Menlo,'DejaVu Sans Mono',consolas,'Courier New',monospace\"><span style=\"font-weight: bold\"> Total params: </span><span style=\"color: #00af00; text-decoration-color: #00af00\">4,066,696</span> (15.51 MB)\n",
              "</pre>\n"
            ]
          },
          "metadata": {}
        },
        {
          "output_type": "display_data",
          "data": {
            "text/plain": [
              "\u001b[1m Trainable params: \u001b[0m\u001b[38;5;34m4,066,696\u001b[0m (15.51 MB)\n"
            ],
            "text/html": [
              "<pre style=\"white-space:pre;overflow-x:auto;line-height:normal;font-family:Menlo,'DejaVu Sans Mono',consolas,'Courier New',monospace\"><span style=\"font-weight: bold\"> Trainable params: </span><span style=\"color: #00af00; text-decoration-color: #00af00\">4,066,696</span> (15.51 MB)\n",
              "</pre>\n"
            ]
          },
          "metadata": {}
        },
        {
          "output_type": "display_data",
          "data": {
            "text/plain": [
              "\u001b[1m Non-trainable params: \u001b[0m\u001b[38;5;34m0\u001b[0m (0.00 B)\n"
            ],
            "text/html": [
              "<pre style=\"white-space:pre;overflow-x:auto;line-height:normal;font-family:Menlo,'DejaVu Sans Mono',consolas,'Courier New',monospace\"><span style=\"font-weight: bold\"> Non-trainable params: </span><span style=\"color: #00af00; text-decoration-color: #00af00\">0</span> (0.00 B)\n",
              "</pre>\n"
            ]
          },
          "metadata": {}
        }
      ]
    },
    {
      "cell_type": "code",
      "source": [
        "plot_model(decoder_inference_model, show_shapes = True)"
      ],
      "metadata": {
        "colab": {
          "base_uri": "https://localhost:8080/",
          "height": 755
        },
        "collapsed": true,
        "id": "Xcm7z-HEGPe9",
        "outputId": "dddb4e95-ec32-4d63-dd96-4751d74d105f"
      },
      "id": "Xcm7z-HEGPe9",
      "execution_count": 23,
      "outputs": [
        {
          "output_type": "execute_result",
          "data": {
            "image/png": "[encoded data removed]",
            "text/plain": [
              "<IPython.core.display.Image object>"
            ]
          },
          "metadata": {},
          "execution_count": 23
        }
      ]
    },
    {
      "cell_type": "markdown",
      "id": "5d22976a",
      "metadata": {
        "id": "5d22976a"
      },
      "source": [
        "**Decoder(추론 모델) 생성**"
      ]
    },
    {
      "cell_type": "markdown",
      "id": "0bf75aef",
      "metadata": {
        "id": "0bf75aef"
      },
      "source": [
        "**추론 함수**"
      ]
    },
    {
      "cell_type": "code",
      "source": [
        "BOS_SP = sp.bos_id() if sp.bos_id() != -1 else sp.piece_to_id(\"<sos>\")\n",
        "EOS_SP = sp.eos_id() if sp.eos_id() != -1 else sp.piece_to_id(\"<eos>\")\n",
        "PAD_SP = sp.pad_id() if sp.pad_id() != -1 else -1  # 없으면 -1\n",
        "\n",
        "# ===== 중요: 모델이 +1 시프트를 썼는지에 따라 OFFSET 설정 =====\n",
        "OFFSET = 0   # 시프트 안 했으면 0, 시프트 했으면 1로 바꾸세요!\n",
        "\n",
        "# SP ID <-> 모델 ID 매핑\n",
        "def to_model_id(sp_id):    # SP → 모델\n",
        "    return sp_id + OFFSET if sp_id != PAD_SP or OFFSET == 0 else 0\n",
        "\n",
        "def to_sp_id(model_id):    # 모델 → SP\n",
        "    return model_id - OFFSET if OFFSET == 1 else model_id\n",
        "\n",
        "SOS_MODEL = to_model_id(BOS_SP)\n",
        "EOS_MODEL = to_model_id(EOS_SP)\n",
        "PAD_MODEL = 0 if OFFSET == 1 else to_model_id(PAD_SP)\n",
        "\n",
        "def translate(input_seq):\n",
        "    # input_seq: (1, L_src) 정수 ID (모델에 맞춘 ID: OFFSET 규칙에 일치해야 함)\n",
        "    encoder_states_value = encoder_model.predict(input_seq)\n",
        "    decoder_states_value = encoder_states_value\n",
        "    # 디코더 시작 토큰 준비 (int32!)\n",
        "    target_seq = np.array([[SOS_MODEL]], dtype='int32')\n",
        "\n",
        "    out_sp_ids = []\n",
        "\n",
        "    for _ in range(a_input_max_len):\n",
        "        output_tokens, h, c = decoder_inference_model.predict([target_seq] + decoder_states_value)\n",
        "\n",
        "        # 다음 토큰 선택 (greedy)\n",
        "        pred_model_id = int(np.argmax(output_tokens[0, 0, :]))\n",
        "\n",
        "        # 종료 조건\n",
        "        if pred_model_id == EOS_MODEL:\n",
        "            break\n",
        "\n",
        "        # PAD/SOS는 최종 문장에 넣지 않음\n",
        "        if pred_model_id != PAD_MODEL and pred_model_id != SOS_MODEL:\n",
        "            out_sp_ids.append(to_sp_id(pred_model_id))  # 모델ID → SP ID로 복원해 저장\n",
        "\n",
        "        # 다음 스텝 준비\n",
        "        target_seq[0, 0] = pred_model_id\n",
        "        decoder_states_value = [h, c]\n",
        "\n",
        "    # SentencePiece로 자연스러운 문장 복원(공백 처리 자동)\n",
        "    return sp.decode_ids(out_sp_ids)"
      ],
      "metadata": {
        "id": "rqv35c1FGShk"
      },
      "id": "rqv35c1FGShk",
      "execution_count": 37,
      "outputs": []
    },
    {
      "cell_type": "markdown",
      "id": "6183bf09",
      "metadata": {
        "id": "6183bf09"
      },
      "source": [
        "##### 테스트"
      ]
    },
    {
      "cell_type": "code",
      "source": [
        "for _ in range(5):\n",
        "  idx = np.random.choice(len(q_inputs_padded))\n",
        "  input_seq = q_inputs_padded[idx : idx+1]\n",
        "  output_sent = translate(input_seq)\n",
        "  display('입력 영문 : ', q_text[idx])\n",
        "  display('학습한 국문 : ', a_text_input[idx] )\n",
        "  display('추론한 국문 : ', output_sent)"
      ],
      "metadata": {
        "colab": {
          "base_uri": "https://localhost:8080/",
          "height": 1000
        },
        "collapsed": true,
        "id": "GF8712qtIsLH",
        "outputId": "2ba1cac7-1f2d-4a22-c30e-6e26ba6657c9"
      },
      "id": "GF8712qtIsLH",
      "execution_count": 38,
      "outputs": [
        {
          "output_type": "stream",
          "name": "stdout",
          "text": [
            "\u001b[1m1/1\u001b[0m \u001b[32m━━━━━━━━━━━━━━━━━━━━\u001b[0m\u001b[37m\u001b[0m \u001b[1m0s\u001b[0m 28ms/step\n",
            "\u001b[1m1/1\u001b[0m \u001b[32m━━━━━━━━━━━━━━━━━━━━\u001b[0m\u001b[37m\u001b[0m \u001b[1m0s\u001b[0m 31ms/step\n",
            "\u001b[1m1/1\u001b[0m \u001b[32m━━━━━━━━━━━━━━━━━━━━\u001b[0m\u001b[37m\u001b[0m \u001b[1m0s\u001b[0m 30ms/step\n",
            "\u001b[1m1/1\u001b[0m \u001b[32m━━━━━━━━━━━━━━━━━━━━\u001b[0m\u001b[37m\u001b[0m \u001b[1m0s\u001b[0m 32ms/step\n",
            "\u001b[1m1/1\u001b[0m \u001b[32m━━━━━━━━━━━━━━━━━━━━\u001b[0m\u001b[37m\u001b[0m \u001b[1m0s\u001b[0m 31ms/step\n",
            "\u001b[1m1/1\u001b[0m \u001b[32m━━━━━━━━━━━━━━━━━━━━\u001b[0m\u001b[37m\u001b[0m \u001b[1m0s\u001b[0m 31ms/step\n"
          ]
        },
        {
          "output_type": "display_data",
          "data": {
            "text/plain": [
              "'입력 영문 : '"
            ],
            "application/vnd.google.colaboratory.intrinsic+json": {
              "type": "string"
            }
          },
          "metadata": {}
        },
        {
          "output_type": "display_data",
          "data": {
            "text/plain": [
              "'8년 만났는데 어떻게 헤어져'"
            ],
            "application/vnd.google.colaboratory.intrinsic+json": {
              "type": "string"
            }
          },
          "metadata": {}
        },
        {
          "output_type": "display_data",
          "data": {
            "text/plain": [
              "'학습한 국문 : '"
            ],
            "application/vnd.google.colaboratory.intrinsic+json": {
              "type": "string"
            }
          },
          "metadata": {}
        },
        {
          "output_type": "display_data",
          "data": {
            "text/plain": [
              "'끝내는 게 힘들었을 거 같아요.'"
            ],
            "application/vnd.google.colaboratory.intrinsic+json": {
              "type": "string"
            }
          },
          "metadata": {}
        },
        {
          "output_type": "display_data",
          "data": {
            "text/plain": [
              "'추론한 국문 : '"
            ],
            "application/vnd.google.colaboratory.intrinsic+json": {
              "type": "string"
            }
          },
          "metadata": {}
        },
        {
          "output_type": "display_data",
          "data": {
            "text/plain": [
              "'여기까지였을 거예요.'"
            ],
            "application/vnd.google.colaboratory.intrinsic+json": {
              "type": "string"
            }
          },
          "metadata": {}
        },
        {
          "output_type": "stream",
          "name": "stdout",
          "text": [
            "\u001b[1m1/1\u001b[0m \u001b[32m━━━━━━━━━━━━━━━━━━━━\u001b[0m\u001b[37m\u001b[0m \u001b[1m0s\u001b[0m 26ms/step\n",
            "\u001b[1m1/1\u001b[0m \u001b[32m━━━━━━━━━━━━━━━━━━━━\u001b[0m\u001b[37m\u001b[0m \u001b[1m0s\u001b[0m 29ms/step\n",
            "\u001b[1m1/1\u001b[0m \u001b[32m━━━━━━━━━━━━━━━━━━━━\u001b[0m\u001b[37m\u001b[0m \u001b[1m0s\u001b[0m 38ms/step\n",
            "\u001b[1m1/1\u001b[0m \u001b[32m━━━━━━━━━━━━━━━━━━━━\u001b[0m\u001b[37m\u001b[0m \u001b[1m0s\u001b[0m 29ms/step\n",
            "\u001b[1m1/1\u001b[0m \u001b[32m━━━━━━━━━━━━━━━━━━━━\u001b[0m\u001b[37m\u001b[0m \u001b[1m0s\u001b[0m 30ms/step\n",
            "\u001b[1m1/1\u001b[0m \u001b[32m━━━━━━━━━━━━━━━━━━━━\u001b[0m\u001b[37m\u001b[0m \u001b[1m0s\u001b[0m 32ms/step\n",
            "\u001b[1m1/1\u001b[0m \u001b[32m━━━━━━━━━━━━━━━━━━━━\u001b[0m\u001b[37m\u001b[0m \u001b[1m0s\u001b[0m 33ms/step\n",
            "\u001b[1m1/1\u001b[0m \u001b[32m━━━━━━━━━━━━━━━━━━━━\u001b[0m\u001b[37m\u001b[0m \u001b[1m0s\u001b[0m 33ms/step\n",
            "\u001b[1m1/1\u001b[0m \u001b[32m━━━━━━━━━━━━━━━━━━━━\u001b[0m\u001b[37m\u001b[0m \u001b[1m0s\u001b[0m 30ms/step\n",
            "\u001b[1m1/1\u001b[0m \u001b[32m━━━━━━━━━━━━━━━━━━━━\u001b[0m\u001b[37m\u001b[0m \u001b[1m0s\u001b[0m 31ms/step\n"
          ]
        },
        {
          "output_type": "display_data",
          "data": {
            "text/plain": [
              "'입력 영문 : '"
            ],
            "application/vnd.google.colaboratory.intrinsic+json": {
              "type": "string"
            }
          },
          "metadata": {}
        },
        {
          "output_type": "display_data",
          "data": {
            "text/plain": [
              "'사회에서도 좋은 사람 많이 만날 수 있을까?'"
            ],
            "application/vnd.google.colaboratory.intrinsic+json": {
              "type": "string"
            }
          },
          "metadata": {}
        },
        {
          "output_type": "display_data",
          "data": {
            "text/plain": [
              "'학습한 국문 : '"
            ],
            "application/vnd.google.colaboratory.intrinsic+json": {
              "type": "string"
            }
          },
          "metadata": {}
        },
        {
          "output_type": "display_data",
          "data": {
            "text/plain": [
              "'가려 가며 만나면 돼요.'"
            ],
            "application/vnd.google.colaboratory.intrinsic+json": {
              "type": "string"
            }
          },
          "metadata": {}
        },
        {
          "output_type": "display_data",
          "data": {
            "text/plain": [
              "'추론한 국문 : '"
            ],
            "application/vnd.google.colaboratory.intrinsic+json": {
              "type": "string"
            }
          },
          "metadata": {}
        },
        {
          "output_type": "display_data",
          "data": {
            "text/plain": [
              "'대하는 태도에 따라 다를 것 같아요.'"
            ],
            "application/vnd.google.colaboratory.intrinsic+json": {
              "type": "string"
            }
          },
          "metadata": {}
        },
        {
          "output_type": "stream",
          "name": "stdout",
          "text": [
            "\u001b[1m1/1\u001b[0m \u001b[32m━━━━━━━━━━━━━━━━━━━━\u001b[0m\u001b[37m\u001b[0m \u001b[1m0s\u001b[0m 26ms/step\n",
            "\u001b[1m1/1\u001b[0m \u001b[32m━━━━━━━━━━━━━━━━━━━━\u001b[0m\u001b[37m\u001b[0m \u001b[1m0s\u001b[0m 29ms/step\n",
            "\u001b[1m1/1\u001b[0m \u001b[32m━━━━━━━━━━━━━━━━━━━━\u001b[0m\u001b[37m\u001b[0m \u001b[1m0s\u001b[0m 31ms/step\n",
            "\u001b[1m1/1\u001b[0m \u001b[32m━━━━━━━━━━━━━━━━━━━━\u001b[0m\u001b[37m\u001b[0m \u001b[1m0s\u001b[0m 31ms/step\n",
            "\u001b[1m1/1\u001b[0m \u001b[32m━━━━━━━━━━━━━━━━━━━━\u001b[0m\u001b[37m\u001b[0m \u001b[1m0s\u001b[0m 31ms/step\n",
            "\u001b[1m1/1\u001b[0m \u001b[32m━━━━━━━━━━━━━━━━━━━━\u001b[0m\u001b[37m\u001b[0m \u001b[1m0s\u001b[0m 29ms/step\n",
            "\u001b[1m1/1\u001b[0m \u001b[32m━━━━━━━━━━━━━━━━━━━━\u001b[0m\u001b[37m\u001b[0m \u001b[1m0s\u001b[0m 29ms/step\n"
          ]
        },
        {
          "output_type": "display_data",
          "data": {
            "text/plain": [
              "'입력 영문 : '"
            ],
            "application/vnd.google.colaboratory.intrinsic+json": {
              "type": "string"
            }
          },
          "metadata": {}
        },
        {
          "output_type": "display_data",
          "data": {
            "text/plain": [
              "'나 같은 사람은 동물 키우면 안되겠지'"
            ],
            "application/vnd.google.colaboratory.intrinsic+json": {
              "type": "string"
            }
          },
          "metadata": {}
        },
        {
          "output_type": "display_data",
          "data": {
            "text/plain": [
              "'학습한 국문 : '"
            ],
            "application/vnd.google.colaboratory.intrinsic+json": {
              "type": "string"
            }
          },
          "metadata": {}
        },
        {
          "output_type": "display_data",
          "data": {
            "text/plain": [
              "'아니길 바라요.'"
            ],
            "application/vnd.google.colaboratory.intrinsic+json": {
              "type": "string"
            }
          },
          "metadata": {}
        },
        {
          "output_type": "display_data",
          "data": {
            "text/plain": [
              "'추론한 국문 : '"
            ],
            "application/vnd.google.colaboratory.intrinsic+json": {
              "type": "string"
            }
          },
          "metadata": {}
        },
        {
          "output_type": "display_data",
          "data": {
            "text/plain": [
              "'잘 아시네요.'"
            ],
            "application/vnd.google.colaboratory.intrinsic+json": {
              "type": "string"
            }
          },
          "metadata": {}
        },
        {
          "output_type": "stream",
          "name": "stdout",
          "text": [
            "\u001b[1m1/1\u001b[0m \u001b[32m━━━━━━━━━━━━━━━━━━━━\u001b[0m\u001b[37m\u001b[0m \u001b[1m0s\u001b[0m 38ms/step\n",
            "\u001b[1m1/1\u001b[0m \u001b[32m━━━━━━━━━━━━━━━━━━━━\u001b[0m\u001b[37m\u001b[0m \u001b[1m0s\u001b[0m 29ms/step\n",
            "\u001b[1m1/1\u001b[0m \u001b[32m━━━━━━━━━━━━━━━━━━━━\u001b[0m\u001b[37m\u001b[0m \u001b[1m0s\u001b[0m 32ms/step\n",
            "\u001b[1m1/1\u001b[0m \u001b[32m━━━━━━━━━━━━━━━━━━━━\u001b[0m\u001b[37m\u001b[0m \u001b[1m0s\u001b[0m 31ms/step\n",
            "\u001b[1m1/1\u001b[0m \u001b[32m━━━━━━━━━━━━━━━━━━━━\u001b[0m\u001b[37m\u001b[0m \u001b[1m0s\u001b[0m 31ms/step\n",
            "\u001b[1m1/1\u001b[0m \u001b[32m━━━━━━━━━━━━━━━━━━━━\u001b[0m\u001b[37m\u001b[0m \u001b[1m0s\u001b[0m 30ms/step\n",
            "\u001b[1m1/1\u001b[0m \u001b[32m━━━━━━━━━━━━━━━━━━━━\u001b[0m\u001b[37m\u001b[0m \u001b[1m0s\u001b[0m 30ms/step\n"
          ]
        },
        {
          "output_type": "display_data",
          "data": {
            "text/plain": [
              "'입력 영문 : '"
            ],
            "application/vnd.google.colaboratory.intrinsic+json": {
              "type": "string"
            }
          },
          "metadata": {}
        },
        {
          "output_type": "display_data",
          "data": {
            "text/plain": [
              "'짝남이 좋다고 했던 노래 이 새벽에 참 어울리는 노래야.'"
            ],
            "application/vnd.google.colaboratory.intrinsic+json": {
              "type": "string"
            }
          },
          "metadata": {}
        },
        {
          "output_type": "display_data",
          "data": {
            "text/plain": [
              "'학습한 국문 : '"
            ],
            "application/vnd.google.colaboratory.intrinsic+json": {
              "type": "string"
            }
          },
          "metadata": {}
        },
        {
          "output_type": "display_data",
          "data": {
            "text/plain": [
              "'부담스럽지 않는 선물을 생각해보세요.'"
            ],
            "application/vnd.google.colaboratory.intrinsic+json": {
              "type": "string"
            }
          },
          "metadata": {}
        },
        {
          "output_type": "display_data",
          "data": {
            "text/plain": [
              "'추론한 국문 : '"
            ],
            "application/vnd.google.colaboratory.intrinsic+json": {
              "type": "string"
            }
          },
          "metadata": {}
        },
        {
          "output_type": "display_data",
          "data": {
            "text/plain": [
              "'나쁜 생각 하지 마세요.'"
            ],
            "application/vnd.google.colaboratory.intrinsic+json": {
              "type": "string"
            }
          },
          "metadata": {}
        },
        {
          "output_type": "stream",
          "name": "stdout",
          "text": [
            "\u001b[1m1/1\u001b[0m \u001b[32m━━━━━━━━━━━━━━━━━━━━\u001b[0m\u001b[37m\u001b[0m \u001b[1m0s\u001b[0m 28ms/step\n",
            "\u001b[1m1/1\u001b[0m \u001b[32m━━━━━━━━━━━━━━━━━━━━\u001b[0m\u001b[37m\u001b[0m \u001b[1m0s\u001b[0m 29ms/step\n",
            "\u001b[1m1/1\u001b[0m \u001b[32m━━━━━━━━━━━━━━━━━━━━\u001b[0m\u001b[37m\u001b[0m \u001b[1m0s\u001b[0m 33ms/step\n",
            "\u001b[1m1/1\u001b[0m \u001b[32m━━━━━━━━━━━━━━━━━━━━\u001b[0m\u001b[37m\u001b[0m \u001b[1m0s\u001b[0m 31ms/step\n",
            "\u001b[1m1/1\u001b[0m \u001b[32m━━━━━━━━━━━━━━━━━━━━\u001b[0m\u001b[37m\u001b[0m \u001b[1m0s\u001b[0m 31ms/step\n",
            "\u001b[1m1/1\u001b[0m \u001b[32m━━━━━━━━━━━━━━━━━━━━\u001b[0m\u001b[37m\u001b[0m \u001b[1m0s\u001b[0m 29ms/step\n",
            "\u001b[1m1/1\u001b[0m \u001b[32m━━━━━━━━━━━━━━━━━━━━\u001b[0m\u001b[37m\u001b[0m \u001b[1m0s\u001b[0m 29ms/step\n",
            "\u001b[1m1/1\u001b[0m \u001b[32m━━━━━━━━━━━━━━━━━━━━\u001b[0m\u001b[37m\u001b[0m \u001b[1m0s\u001b[0m 31ms/step\n",
            "\u001b[1m1/1\u001b[0m \u001b[32m━━━━━━━━━━━━━━━━━━━━\u001b[0m\u001b[37m\u001b[0m \u001b[1m0s\u001b[0m 35ms/step\n",
            "\u001b[1m1/1\u001b[0m \u001b[32m━━━━━━━━━━━━━━━━━━━━\u001b[0m\u001b[37m\u001b[0m \u001b[1m0s\u001b[0m 30ms/step\n",
            "\u001b[1m1/1\u001b[0m \u001b[32m━━━━━━━━━━━━━━━━━━━━\u001b[0m\u001b[37m\u001b[0m \u001b[1m0s\u001b[0m 30ms/step\n"
          ]
        },
        {
          "output_type": "display_data",
          "data": {
            "text/plain": [
              "'입력 영문 : '"
            ],
            "application/vnd.google.colaboratory.intrinsic+json": {
              "type": "string"
            }
          },
          "metadata": {}
        },
        {
          "output_type": "display_data",
          "data": {
            "text/plain": [
              "'심난한 하루'"
            ],
            "application/vnd.google.colaboratory.intrinsic+json": {
              "type": "string"
            }
          },
          "metadata": {}
        },
        {
          "output_type": "display_data",
          "data": {
            "text/plain": [
              "'학습한 국문 : '"
            ],
            "application/vnd.google.colaboratory.intrinsic+json": {
              "type": "string"
            }
          },
          "metadata": {}
        },
        {
          "output_type": "display_data",
          "data": {
            "text/plain": [
              "'마음이 복잡했나봐요.'"
            ],
            "application/vnd.google.colaboratory.intrinsic+json": {
              "type": "string"
            }
          },
          "metadata": {}
        },
        {
          "output_type": "display_data",
          "data": {
            "text/plain": [
              "'추론한 국문 : '"
            ],
            "application/vnd.google.colaboratory.intrinsic+json": {
              "type": "string"
            }
          },
          "metadata": {}
        },
        {
          "output_type": "display_data",
          "data": {
            "text/plain": [
              "'내일은 나은 하루이길 바랄게요.'"
            ],
            "application/vnd.google.colaboratory.intrinsic+json": {
              "type": "string"
            }
          },
          "metadata": {}
        }
      ]
    },
    {
      "cell_type": "code",
      "source": [
        "while True:\n",
        "  user_input = input()\n",
        "  if user_input == '종료':\n",
        "    break\n",
        "  user_ids = sp.encode(user_input, out_type=int)\n",
        "  input_seq = pad_sequences([user_ids], maxlen = q_input_max_len, padding = 'pre')\n",
        "  output_sent = translate(input_seq)\n",
        "  print(f'Question : {user_input}')\n",
        "  print(f'Answer : {output_sent}')"
      ],
      "metadata": {
        "colab": {
          "base_uri": "https://localhost:8080/"
        },
        "id": "Wibhq9TikfeO",
        "outputId": "461f8d22-6c32-421e-b70d-3525cdc4b3db"
      },
      "id": "Wibhq9TikfeO",
      "execution_count": 39,
      "outputs": [
        {
          "name": "stdout",
          "output_type": "stream",
          "text": [
            "여름 너무 덥다\n",
            "\u001b[1m1/1\u001b[0m \u001b[32m━━━━━━━━━━━━━━━━━━━━\u001b[0m\u001b[37m\u001b[0m \u001b[1m0s\u001b[0m 32ms/step\n",
            "\u001b[1m1/1\u001b[0m \u001b[32m━━━━━━━━━━━━━━━━━━━━\u001b[0m\u001b[37m\u001b[0m \u001b[1m0s\u001b[0m 43ms/step\n",
            "\u001b[1m1/1\u001b[0m \u001b[32m━━━━━━━━━━━━━━━━━━━━\u001b[0m\u001b[37m\u001b[0m \u001b[1m0s\u001b[0m 35ms/step\n",
            "\u001b[1m1/1\u001b[0m \u001b[32m━━━━━━━━━━━━━━━━━━━━\u001b[0m\u001b[37m\u001b[0m \u001b[1m0s\u001b[0m 35ms/step\n",
            "\u001b[1m1/1\u001b[0m \u001b[32m━━━━━━━━━━━━━━━━━━━━\u001b[0m\u001b[37m\u001b[0m \u001b[1m0s\u001b[0m 34ms/step\n",
            "\u001b[1m1/1\u001b[0m \u001b[32m━━━━━━━━━━━━━━━━━━━━\u001b[0m\u001b[37m\u001b[0m \u001b[1m0s\u001b[0m 35ms/step\n",
            "\u001b[1m1/1\u001b[0m \u001b[32m━━━━━━━━━━━━━━━━━━━━\u001b[0m\u001b[37m\u001b[0m \u001b[1m0s\u001b[0m 33ms/step\n",
            "\u001b[1m1/1\u001b[0m \u001b[32m━━━━━━━━━━━━━━━━━━━━\u001b[0m\u001b[37m\u001b[0m \u001b[1m0s\u001b[0m 33ms/step\n",
            "\u001b[1m1/1\u001b[0m \u001b[32m━━━━━━━━━━━━━━━━━━━━\u001b[0m\u001b[37m\u001b[0m \u001b[1m0s\u001b[0m 30ms/step\n",
            "\u001b[1m1/1\u001b[0m \u001b[32m━━━━━━━━━━━━━━━━━━━━\u001b[0m\u001b[37m\u001b[0m \u001b[1m0s\u001b[0m 32ms/step\n",
            "\u001b[1m1/1\u001b[0m \u001b[32m━━━━━━━━━━━━━━━━━━━━\u001b[0m\u001b[37m\u001b[0m \u001b[1m0s\u001b[0m 33ms/step\n",
            "\u001b[1m1/1\u001b[0m \u001b[32m━━━━━━━━━━━━━━━━━━━━\u001b[0m\u001b[37m\u001b[0m \u001b[1m0s\u001b[0m 34ms/step\n",
            "Question : 여름 너무 덥다\n",
            "Answer : 차가운 음료 너무 많이 마시면 아니 되어요\n",
            "지금 뭐할까?\n",
            "\u001b[1m1/1\u001b[0m \u001b[32m━━━━━━━━━━━━━━━━━━━━\u001b[0m\u001b[37m\u001b[0m \u001b[1m0s\u001b[0m 30ms/step\n",
            "\u001b[1m1/1\u001b[0m \u001b[32m━━━━━━━━━━━━━━━━━━━━\u001b[0m\u001b[37m\u001b[0m \u001b[1m0s\u001b[0m 32ms/step\n",
            "\u001b[1m1/1\u001b[0m \u001b[32m━━━━━━━━━━━━━━━━━━━━\u001b[0m\u001b[37m\u001b[0m \u001b[1m0s\u001b[0m 32ms/step\n",
            "\u001b[1m1/1\u001b[0m \u001b[32m━━━━━━━━━━━━━━━━━━━━\u001b[0m\u001b[37m\u001b[0m \u001b[1m0s\u001b[0m 37ms/step\n",
            "\u001b[1m1/1\u001b[0m \u001b[32m━━━━━━━━━━━━━━━━━━━━\u001b[0m\u001b[37m\u001b[0m \u001b[1m0s\u001b[0m 51ms/step\n",
            "Question : 지금 뭐할까?\n",
            "Answer : 킁킁\n",
            "공부가 너무 어려워\n",
            "\u001b[1m1/1\u001b[0m \u001b[32m━━━━━━━━━━━━━━━━━━━━\u001b[0m\u001b[37m\u001b[0m \u001b[1m0s\u001b[0m 40ms/step\n",
            "\u001b[1m1/1\u001b[0m \u001b[32m━━━━━━━━━━━━━━━━━━━━\u001b[0m\u001b[37m\u001b[0m \u001b[1m0s\u001b[0m 29ms/step\n",
            "\u001b[1m1/1\u001b[0m \u001b[32m━━━━━━━━━━━━━━━━━━━━\u001b[0m\u001b[37m\u001b[0m \u001b[1m0s\u001b[0m 31ms/step\n",
            "\u001b[1m1/1\u001b[0m \u001b[32m━━━━━━━━━━━━━━━━━━━━\u001b[0m\u001b[37m\u001b[0m \u001b[1m0s\u001b[0m 29ms/step\n",
            "\u001b[1m1/1\u001b[0m \u001b[32m━━━━━━━━━━━━━━━━━━━━\u001b[0m\u001b[37m\u001b[0m \u001b[1m0s\u001b[0m 32ms/step\n",
            "Question : 공부가 너무 어려워\n",
            "Answer : 적당히 드세요.\n",
            "너무 힘들어\n",
            "\u001b[1m1/1\u001b[0m \u001b[32m━━━━━━━━━━━━━━━━━━━━\u001b[0m\u001b[37m\u001b[0m \u001b[1m0s\u001b[0m 28ms/step\n",
            "\u001b[1m1/1\u001b[0m \u001b[32m━━━━━━━━━━━━━━━━━━━━\u001b[0m\u001b[37m\u001b[0m \u001b[1m0s\u001b[0m 33ms/step\n",
            "\u001b[1m1/1\u001b[0m \u001b[32m━━━━━━━━━━━━━━━━━━━━\u001b[0m\u001b[37m\u001b[0m \u001b[1m0s\u001b[0m 32ms/step\n",
            "\u001b[1m1/1\u001b[0m \u001b[32m━━━━━━━━━━━━━━━━━━━━\u001b[0m\u001b[37m\u001b[0m \u001b[1m0s\u001b[0m 30ms/step\n",
            "\u001b[1m1/1\u001b[0m \u001b[32m━━━━━━━━━━━━━━━━━━━━\u001b[0m\u001b[37m\u001b[0m \u001b[1m0s\u001b[0m 31ms/step\n",
            "\u001b[1m1/1\u001b[0m \u001b[32m━━━━━━━━━━━━━━━━━━━━\u001b[0m\u001b[37m\u001b[0m \u001b[1m0s\u001b[0m 32ms/step\n",
            "\u001b[1m1/1\u001b[0m \u001b[32m━━━━━━━━━━━━━━━━━━━━\u001b[0m\u001b[37m\u001b[0m \u001b[1m0s\u001b[0m 30ms/step\n",
            "\u001b[1m1/1\u001b[0m \u001b[32m━━━━━━━━━━━━━━━━━━━━\u001b[0m\u001b[37m\u001b[0m \u001b[1m0s\u001b[0m 33ms/step\n",
            "\u001b[1m1/1\u001b[0m \u001b[32m━━━━━━━━━━━━━━━━━━━━\u001b[0m\u001b[37m\u001b[0m \u001b[1m0s\u001b[0m 32ms/step\n",
            "\u001b[1m1/1\u001b[0m \u001b[32m━━━━━━━━━━━━━━━━━━━━\u001b[0m\u001b[37m\u001b[0m \u001b[1m0s\u001b[0m 32ms/step\n",
            "\u001b[1m1/1\u001b[0m \u001b[32m━━━━━━━━━━━━━━━━━━━━\u001b[0m\u001b[37m\u001b[0m \u001b[1m0s\u001b[0m 32ms/step\n",
            "\u001b[1m1/1\u001b[0m \u001b[32m━━━━━━━━━━━━━━━━━━━━\u001b[0m\u001b[37m\u001b[0m \u001b[1m0s\u001b[0m 30ms/step\n",
            "\u001b[1m1/1\u001b[0m \u001b[32m━━━━━━━━━━━━━━━━━━━━\u001b[0m\u001b[37m\u001b[0m \u001b[1m0s\u001b[0m 37ms/step\n",
            "\u001b[1m1/1\u001b[0m \u001b[32m━━━━━━━━━━━━━━━━━━━━\u001b[0m\u001b[37m\u001b[0m \u001b[1m0s\u001b[0m 32ms/step\n",
            "\u001b[1m1/1\u001b[0m \u001b[32m━━━━━━━━━━━━━━━━━━━━\u001b[0m\u001b[37m\u001b[0m \u001b[1m0s\u001b[0m 36ms/step\n",
            "Question : 너무 힘들어\n",
            "Answer : 지금 무슨 말을 해도 와닿지 않겠지만 잘할 수 있을 거예요.\n",
            "너무 좋은데\n",
            "\u001b[1m1/1\u001b[0m \u001b[32m━━━━━━━━━━━━━━━━━━━━\u001b[0m\u001b[37m\u001b[0m \u001b[1m0s\u001b[0m 32ms/step\n",
            "\u001b[1m1/1\u001b[0m \u001b[32m━━━━━━━━━━━━━━━━━━━━\u001b[0m\u001b[37m\u001b[0m \u001b[1m0s\u001b[0m 33ms/step\n",
            "\u001b[1m1/1\u001b[0m \u001b[32m━━━━━━━━━━━━━━━━━━━━\u001b[0m\u001b[37m\u001b[0m \u001b[1m0s\u001b[0m 35ms/step\n",
            "\u001b[1m1/1\u001b[0m \u001b[32m━━━━━━━━━━━━━━━━━━━━\u001b[0m\u001b[37m\u001b[0m \u001b[1m0s\u001b[0m 36ms/step\n",
            "\u001b[1m1/1\u001b[0m \u001b[32m━━━━━━━━━━━━━━━━━━━━\u001b[0m\u001b[37m\u001b[0m \u001b[1m0s\u001b[0m 34ms/step\n",
            "\u001b[1m1/1\u001b[0m \u001b[32m━━━━━━━━━━━━━━━━━━━━\u001b[0m\u001b[37m\u001b[0m \u001b[1m0s\u001b[0m 33ms/step\n",
            "\u001b[1m1/1\u001b[0m \u001b[32m━━━━━━━━━━━━━━━━━━━━\u001b[0m\u001b[37m\u001b[0m \u001b[1m0s\u001b[0m 33ms/step\n",
            "\u001b[1m1/1\u001b[0m \u001b[32m━━━━━━━━━━━━━━━━━━━━\u001b[0m\u001b[37m\u001b[0m \u001b[1m0s\u001b[0m 43ms/step\n",
            "\u001b[1m1/1\u001b[0m \u001b[32m━━━━━━━━━━━━━━━━━━━━\u001b[0m\u001b[37m\u001b[0m \u001b[1m0s\u001b[0m 30ms/step\n",
            "\u001b[1m1/1\u001b[0m \u001b[32m━━━━━━━━━━━━━━━━━━━━\u001b[0m\u001b[37m\u001b[0m \u001b[1m0s\u001b[0m 32ms/step\n",
            "\u001b[1m1/1\u001b[0m \u001b[32m━━━━━━━━━━━━━━━━━━━━\u001b[0m\u001b[37m\u001b[0m \u001b[1m0s\u001b[0m 37ms/step\n",
            "\u001b[1m1/1\u001b[0m \u001b[32m━━━━━━━━━━━━━━━━━━━━\u001b[0m\u001b[37m\u001b[0m \u001b[1m0s\u001b[0m 34ms/step\n",
            "\u001b[1m1/1\u001b[0m \u001b[32m━━━━━━━━━━━━━━━━━━━━\u001b[0m\u001b[37m\u001b[0m \u001b[1m0s\u001b[0m 35ms/step\n",
            "Question : 너무 좋은데\n",
            "Answer : 하늘 보고 한 번 웃어봐요. 기분이 바뀔 거예요.\n",
            "집 가고 싶다\n",
            "\u001b[1m1/1\u001b[0m \u001b[32m━━━━━━━━━━━━━━━━━━━━\u001b[0m\u001b[37m\u001b[0m \u001b[1m0s\u001b[0m 29ms/step\n",
            "\u001b[1m1/1\u001b[0m \u001b[32m━━━━━━━━━━━━━━━━━━━━\u001b[0m\u001b[37m\u001b[0m \u001b[1m0s\u001b[0m 30ms/step\n",
            "\u001b[1m1/1\u001b[0m \u001b[32m━━━━━━━━━━━━━━━━━━━━\u001b[0m\u001b[37m\u001b[0m \u001b[1m0s\u001b[0m 34ms/step\n",
            "\u001b[1m1/1\u001b[0m \u001b[32m━━━━━━━━━━━━━━━━━━━━\u001b[0m\u001b[37m\u001b[0m \u001b[1m0s\u001b[0m 32ms/step\n",
            "\u001b[1m1/1\u001b[0m \u001b[32m━━━━━━━━━━━━━━━━━━━━\u001b[0m\u001b[37m\u001b[0m \u001b[1m0s\u001b[0m 35ms/step\n",
            "\u001b[1m1/1\u001b[0m \u001b[32m━━━━━━━━━━━━━━━━━━━━\u001b[0m\u001b[37m\u001b[0m \u001b[1m0s\u001b[0m 30ms/step\n",
            "\u001b[1m1/1\u001b[0m \u001b[32m━━━━━━━━━━━━━━━━━━━━\u001b[0m\u001b[37m\u001b[0m \u001b[1m0s\u001b[0m 31ms/step\n",
            "\u001b[1m1/1\u001b[0m \u001b[32m━━━━━━━━━━━━━━━━━━━━\u001b[0m\u001b[37m\u001b[0m \u001b[1m0s\u001b[0m 31ms/step\n",
            "\u001b[1m1/1\u001b[0m \u001b[32m━━━━━━━━━━━━━━━━━━━━\u001b[0m\u001b[37m\u001b[0m \u001b[1m0s\u001b[0m 30ms/step\n",
            "Question : 집 가고 싶다\n",
            "Answer : 주말에 gogo.\n",
            "옷 뭐살까?\n",
            "\u001b[1m1/1\u001b[0m \u001b[32m━━━━━━━━━━━━━━━━━━━━\u001b[0m\u001b[37m\u001b[0m \u001b[1m0s\u001b[0m 29ms/step\n",
            "\u001b[1m1/1\u001b[0m \u001b[32m━━━━━━━━━━━━━━━━━━━━\u001b[0m\u001b[37m\u001b[0m \u001b[1m0s\u001b[0m 30ms/step\n",
            "\u001b[1m1/1\u001b[0m \u001b[32m━━━━━━━━━━━━━━━━━━━━\u001b[0m\u001b[37m\u001b[0m \u001b[1m0s\u001b[0m 31ms/step\n",
            "\u001b[1m1/1\u001b[0m \u001b[32m━━━━━━━━━━━━━━━━━━━━\u001b[0m\u001b[37m\u001b[0m \u001b[1m0s\u001b[0m 35ms/step\n",
            "\u001b[1m1/1\u001b[0m \u001b[32m━━━━━━━━━━━━━━━━━━━━\u001b[0m\u001b[37m\u001b[0m \u001b[1m0s\u001b[0m 34ms/step\n",
            "\u001b[1m1/1\u001b[0m \u001b[32m━━━━━━━━━━━━━━━━━━━━\u001b[0m\u001b[37m\u001b[0m \u001b[1m0s\u001b[0m 31ms/step\n",
            "\u001b[1m1/1\u001b[0m \u001b[32m━━━━━━━━━━━━━━━━━━━━\u001b[0m\u001b[37m\u001b[0m \u001b[1m0s\u001b[0m 32ms/step\n",
            "Question : 옷 뭐살까?\n",
            "Answer : 소개팅 시켜달라고 말해보세요.\n",
            "나 살찐거 같아?\n",
            "\u001b[1m1/1\u001b[0m \u001b[32m━━━━━━━━━━━━━━━━━━━━\u001b[0m\u001b[37m\u001b[0m \u001b[1m0s\u001b[0m 31ms/step\n",
            "\u001b[1m1/1\u001b[0m \u001b[32m━━━━━━━━━━━━━━━━━━━━\u001b[0m\u001b[37m\u001b[0m \u001b[1m0s\u001b[0m 31ms/step\n",
            "\u001b[1m1/1\u001b[0m \u001b[32m━━━━━━━━━━━━━━━━━━━━\u001b[0m\u001b[37m\u001b[0m \u001b[1m0s\u001b[0m 30ms/step\n",
            "\u001b[1m1/1\u001b[0m \u001b[32m━━━━━━━━━━━━━━━━━━━━\u001b[0m\u001b[37m\u001b[0m \u001b[1m0s\u001b[0m 31ms/step\n",
            "\u001b[1m1/1\u001b[0m \u001b[32m━━━━━━━━━━━━━━━━━━━━\u001b[0m\u001b[37m\u001b[0m \u001b[1m0s\u001b[0m 38ms/step\n",
            "\u001b[1m1/1\u001b[0m \u001b[32m━━━━━━━━━━━━━━━━━━━━\u001b[0m\u001b[37m\u001b[0m \u001b[1m0s\u001b[0m 32ms/step\n",
            "\u001b[1m1/1\u001b[0m \u001b[32m━━━━━━━━━━━━━━━━━━━━\u001b[0m\u001b[37m\u001b[0m \u001b[1m0s\u001b[0m 31ms/step\n",
            "Question : 나 살찐거 같아?\n",
            "Answer : 강습 받아보세요.\n",
            "종료\n"
          ]
        }
      ]
    },
    {
      "cell_type": "markdown",
      "id": "3dbbc77a",
      "metadata": {
        "id": "3dbbc77a"
      },
      "source": [
        "##### 간단한 Chatbot 구현\n",
        "1. 사용자의 입력을 받아 (처리 후)\n",
        "2. 추론 함수에 전달해서\n",
        "3. 응답을 출력\n",
        "4. 1 ~ 3 '종료' 전까지 반복"
      ]
    }
  ],
  "metadata": {
    "kernelspec": {
      "display_name": "Python 3",
      "name": "python3"
    },
    "language_info": {
      "codemirror_mode": {
        "name": "ipython",
        "version": 3
      },
      "file_extension": ".py",
      "mimetype": "text/x-python",
      "name": "python",
      "nbconvert_exporter": "python",
      "pygments_lexer": "ipython3",
      "version": "3.12.11"
    },
    "colab": {
      "provenance": [],
      "gpuType": "T4"
    },
    "accelerator": "GPU"
  },
  "nbformat": 4,
  "nbformat_minor": 5
}